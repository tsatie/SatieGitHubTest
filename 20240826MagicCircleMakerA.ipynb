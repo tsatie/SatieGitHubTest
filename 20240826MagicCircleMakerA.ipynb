{
 "cells": [
  {
   "cell_type": "markdown",
   "id": "08e90afa-ae7c-40f5-a853-357726944f0d",
   "metadata": {},
   "source": [
    "# 有限体の3次拡大体から有限射影平面を拵え巡回平面から巡回完全差集合と魔円陣を得る\n",
    "### プログラミング言語は **Julia** を用いるが, **Nemo** のような代数的な **pkg** は使わず, 配列と行列と剰余計算のみで実装する\n",
    "先ずは実際に実行している環境を確認し, 必要な **Pkg** を導入しておく"
   ]
  },
  {
   "cell_type": "code",
   "execution_count": 1,
   "id": "3f017dbc-eefe-4fd6-b15c-d0934a394e64",
   "metadata": {},
   "outputs": [
    {
     "name": "stdout",
     "output_type": "stream",
     "text": [
      "Julia Version 1.10.4\n",
      "Commit 48d4fd48430 (2024-06-04 10:41 UTC)\n",
      "Build Info:\n",
      "  Official https://julialang.org/ release\n",
      "Platform Info:\n",
      "  OS: macOS (arm64-apple-darwin22.4.0)\n",
      "  CPU: 8 × Apple M3\n",
      "  WORD_SIZE: 64\n",
      "  LIBM: libopenlibm\n",
      "  LLVM: libLLVM-15.0.7 (ORCJIT, apple-m1)\n",
      "Threads: 1 default, 0 interactive, 1 GC (on 4 virtual cores)\n",
      "nothing\n"
     ]
    }
   ],
   "source": [
    "println(versioninfo())\n",
    "using Combinatorics,Dates,Primes"
   ]
  },
  {
   "cell_type": "markdown",
   "id": "373f523e-1755-4d77-a0e8-7e1be9357787",
   "metadata": {},
   "source": [
    "### 先ずは$p$を素数として, 位数$p$の有限体$GF(p)$から拡大体$GF(p^n)$を構成することから\n",
    "その為には, 先ず $GF(p)$上の(の元を係数とする)$n$次の多項式を想定して, それが既約多項式かどうかをチェックする必要がある。  \n",
    "n次の既約多項式は, その係数の配列($\\textsf{cl}$)として扱うが, 最高次の係数は 1 でこれを係数の配列には含めない。  \n",
    "したがって, 例えば $3$ 次の多項式で $x^3+2x^2+1$ の場合, $1$ は含めず, $\\textsf{cl}=[2,0,1]$ となる。  \n",
    "その長さは $4$ ではなくて $3$ である。\n",
    "#### 先ずは既約多項式を1つランダムに得ることから"
   ]
  },
  {
   "cell_type": "code",
   "execution_count": 2,
   "id": "41067e7c-225d-4f7e-896d-d3b41f2f115b",
   "metadata": {},
   "outputs": [
    {
     "name": "stdout",
     "output_type": "stream",
     "text": [
      "Any[0, 0, 0, 1]\n"
     ]
    }
   ],
   "source": [
    "# -------------------------------------------------------------------------\n",
    "all_perm(x, n) = vec(map(collect, Iterators.product(ntuple(_ -> x, n)...)))# 配列 x の要素を n 個並べた「重複順列」の配列を作る\n",
    "# -------------------------------------------------------------------------\n",
    "function IrreduciblePolynomialChecker(p,cl)# GF(p)の n 次の既約多項式かどうかをチェックする p:位数, cl:係数の配列, 但し最高次の 1 は既定とし含めず\n",
    "    n=length(cl)# 最高次数 \n",
    "    GFp=Vector(0:p-1)# 整数    GFp=Vector(0:p-1)# 整数で処理するための, GF(p) は整数の配列で設定\n",
    "    ans=true\n",
    "    for x ∈ GFp# GFpの元を代入して, 0になれば「駄目」を返す\n",
    "        val=x^n# 最高次の係数は 1 なので, cl(係数の配列)を見る事なく計算できる\n",
    "        for i=1:n# 以下次数毎に代入して追加していく 但し, GF(p)上なので p の剰余計算を施しておく（最後に一括でも良いのだけど）\n",
    "            val=(val+cl[i]*x^(n-i))%p\n",
    "        end\n",
    "        if val==0\n",
    "            ans=false\n",
    "            break\n",
    "        end\n",
    "    end\n",
    "    ans\n",
    "end\n",
    "function IrreduciblePolynomialPicker(p,n)# GF(p)をGF(p^n)に拡大する際に利用する既約多項式を一つランダムに返す\n",
    "    GFp=Vector(0:p-1)# 整数    GFp=Vector(0:p-1)# 整数で処理するための, GF(p) は整数の配列で設定\n",
    "    chk=false\n",
    "    cl=[]\n",
    "    while !chk\n",
    "        cl=[]\n",
    "        for i=1:n\n",
    "            push!(cl,rand(0:p-1))\n",
    "        end\n",
    "        if IrreduciblePolynomialChecker(p,cl)\n",
    "            chk=true\n",
    "            break\n",
    "        end\n",
    "    end\n",
    "    cl\n",
    "end\n",
    "# -------------------------------------------------------------------------\n",
    "p,n=3,4\n",
    "cl=IrreduciblePolynomialPicker(p,n)\n",
    "println(cl)"
   ]
  },
  {
   "cell_type": "markdown",
   "id": "ed1cd612-5b15-436f-a962-cc69baacc7c0",
   "metadata": {},
   "source": [
    "### 次に原始多項式かどうかのチェック機能を追加して, 原始多項式を1つ得る事を実現する\n",
    "原始多項式かどうかは, 既約多項式の根を $\\alpha$ として, その累乗 $\\alpha^i$ が $0$ を除く $GF(p^n)$ の元を構成するかどうかで確認できる。  \n",
    "構成するかどうかは, 結局のところ, $\\alpha^i$ の数重複なしに $p^n-1$ 個できることで確認できる。  \n",
    "このとき, $\\alpha$ は $n$ 次の既約多項式の根だから, $\\alpha^n$ は n次以下の $\\alpha$ の多項式で表される。  "
   ]
  },
  {
   "cell_type": "code",
   "execution_count": 19,
   "id": "9511950c-eef5-4054-ad04-28c832afae27",
   "metadata": {},
   "outputs": [
    {
     "name": "stdout",
     "output_type": "stream",
     "text": [
      "[0,0],[0,1],[1,0],[2,1],[2,2],[0,2],[2,0],[1,2],[1,1]\n"
     ]
    }
   ],
   "source": [
    "# -------------------------------------------------------------------------\n",
    "function makeGFpnElementList(p,cl)# GF(p) を 係数配列 cl な原始多項式(但し, 最高次な n 次の係数 1 は配列外) で作成した \n",
    "#                                   拡大体 GF(p^n) の元を, 配列の配列で列挙する。\n",
    "#                                   n は原始多項式 cl の係数配列の「大きさ/長さ」になっているので指定は不要な点に注意\n",
    "    n=length(cl)# GF(p^n)の n は既約多項式の係数の配列の長さから分かる\n",
    "    Alp=zeros(Int64,n,n)# ゼロ行列を用意して, 以下 「αの累乗」を計算する為の行列の準備をする。\n",
    "    for i=2:n\n",
    "        Alp[i-1,i]=1\n",
    "    end\n",
    "    for i=1:n\n",
    "        Alp[i,1]=(2*p-cl[i])%p\n",
    "    end\n",
    "#    display(Alp)\n",
    "    be=Vector(1:n).*0# ゼロ配列を準備する。GF(p^n)の元としては, これがゼロになる。\n",
    "    ansl=[Vector(1:n).*0]# 関数が返す αの累乗を収めておく配列。最終これを返すこととなる。\n",
    "    e=copy(be)\n",
    "    e[n]=1# e=[0,0,...,0,1]とする。GF(p^n)の元としては, これが１になる。\n",
    "    push!(ansl,e)# 関数の返すαの累乗を収める配列anslに1も入れておく。\n",
    "#    println(e)\n",
    "    chk=true\n",
    "    for i=1:p^n-1\n",
    "        e=(Alp*e).%p\n",
    "#        println(e)\n",
    "        if e ∈ ansl\n",
    "            chk=false\n",
    "#            println(\" *** Break ***\")\n",
    "            break\n",
    "        else\n",
    "            push!(ansl,e)\n",
    "        end\n",
    "    end\n",
    "    unique(ansl)\n",
    "end\n",
    "function PrimitivePolynomialPicker(p,n)\n",
    "    chk=false\n",
    "    while !chk\n",
    "        cl=IrreduciblePolynomialPicker(p,n)\n",
    "        Fpnl=unique!(makeGFpnElementList(p,cl))\n",
    "#        println(cl,\",\",Fpnl)\n",
    "        if length(Fpnl)==p^n\n",
    "            return cl\n",
    "            chk=true\n",
    "            break\n",
    "        end\n",
    "    end\n",
    "end\n",
    "# -------------------------------------------------------------------------\n",
    "p,n=3,2\n",
    "cl=PrimitivePolynomialPicker(p,n)\n",
    "Fpnl=makeGFpnElementList(p,cl)\n",
    "# -------------------------------------------------------------------------\n",
    "function SimpleAryAry(aryl)\n",
    "    prnstrl=[]# 以下で得られた GF(p^n)の元を配列表現で一覧にしている。\n",
    "    for e ∈ aryl\n",
    "        push!(prnstrl,\"[\"*join(e,\",\")*\"]\")\n",
    "    end\n",
    "    println(join(prnstrl,\",\"))\n",
    "end\n",
    "SimpleAryAry(Fpnl)"
   ]
  },
  {
   "cell_type": "markdown",
   "id": "51c0c232-772a-4fa6-b91c-c7e854f04ae9",
   "metadata": {},
   "source": [
    "### 行列は計算上どう役になっているのか\n",
    "$GF(p^n)$ の元の配列を返す **makeGFpnElementList(p,cl)** の最初に行列 **Alp** が登場します。  \n",
    "$n\\times n$の正方行列で, この**Alp**に元を表す配列を掛けると, $\\alpha$を掛ける計算ができるというわけです。  \n",
    "そもそも $GF(p^n)$ の元は, 原始多項式の根である $\\alpha$ の累乗で構成される, $\\alpha$ の高々 $n-1$次の多項式です。  \n",
    "そしてその「$\\alpha$ の高々 $n-1$次の多項式」も係数で扱うことになります。  \n",
    "例えば, $p=5$ として $2\\alpha^4+3\\alpha^3+4\\alpha^2+\\alpha+2$ だと $[2,3,4,1,2]$ でプログラム上では処理します。  \n",
    "$1$ なら $[0,0,0,0,1]$ だし, $\\alpha$ なら $[0,0,0,1,0]$ というわけです。  \n",
    "そして, $\\alpha^4$ だと $[1,0,0,0,0]$ となるわけで, $\\alpha$の累乗の最初の方は, 配列がズレるだけで簡単です。  \n",
    "では $\\alpha^5$ はどうなるのかというと, ここで, 原始多項式が効いてきます。\n",
    "仮に $x^5+2x^4+3x^3+4x^2+x+2$ が原始多項式だとすれば, $\\alpha$ は $x^5+2x^4+3x^3+4x^2+x+2=0$ の解なので, \n",
    "$\\alpha^5=-2\\alpha^4-3\\alpha^3-4\\alpha^2-\\alpha-2$となります。  \n",
    "配列で確認すれば, $\\alpha^4$ である $[1,0,0,0,0]$ に $\\alpha$ を掛けると, $[-2,-3,-4,-1,-2]$ となるというわけです。  \n",
    "ただ $-$ は使わないので, 剰余の計算で, $[3,2,1,4,3]$ となるということになりますね。  \n",
    "纏えて書けば, \n",
    "$$\n",
    "\\begin{align}\n",
    "&1\\        な &\\ [0,0,0,0,1] &\\ に\\alpha を掛けると, &\\ \\alpha\\   になるので, &\\ [0,0,0,1,0]\\\\\n",
    "&\\alpha\\   な &\\ [0,0,0,1,0] &\\ に\\alpha を掛けると, &\\ \\alpha^2\\ になるので, &\\ [0,0,1,0,0]\\\\\n",
    "&\\alpha^2\\ な &\\ [0,0,1,0,0] &\\ に\\alpha を掛けると, &\\ \\alpha^3\\ になるので, &\\ [0,1,0,0,0]\\\\\n",
    "&\\alpha^3\\ な &\\ [0,1,0,0,0] &\\ に\\alpha を掛けると, &\\ \\alpha^4\\ になるので, &\\ [1,0,0,0,0]\\\\\n",
    "&\\alpha^4\\ な &\\ [1,0,0,0,0] &\\ に\\alpha を掛けると, &\\ \\alpha^5\\ になるので, &\\ [3,2,1,4,3]\n",
    "\\end{align}\n",
    "$$\n",
    "ということです。次の行列 $Alp$ を用意しておけば,    \n",
    "$$\n",
    "Alp=\n",
    "\\left(\\begin{array}{ccccc}\n",
    "3 & 1 & 0 & 0 & 0 \\\\\n",
    "2 & 0 & 1 & 0 & 0 \\\\\n",
    "1 & 0 & 0 & 1 & 0 \\\\\n",
    "4 & 0 & 0 & 0 & 1 \\\\\n",
    "5 & 0 & 0 & 0 & 0 \n",
    "\\end{array}\\right)\n",
    "$$\n",
    "$GF(p^n)$ の元である $\\alpha^i=[a,b,c,d,e]$にこの $Alp$ を掛けることで, $\\alpha^{i+1}$ の配列が計算できるというわけです。\n",
    "（同じ様なことを, あとで3次拡大する時にも考えます。）"
   ]
  },
  {
   "cell_type": "code",
   "execution_count": 27,
   "id": "6b354551-600a-40d8-9022-4fb16f038df3",
   "metadata": {},
   "outputs": [
    {
     "name": "stdout",
     "output_type": "stream",
     "text": [
      "Any[0, 3, 4, 3]\n",
      "Size of GF(p^n)=2401, p^n=2401\n"
     ]
    }
   ],
   "source": [
    "p,n=7,4\n",
    "cl=PrimitivePolynomialPicker(p,n)\n",
    "println(cl)\n",
    "Fpnl=makeGFpnElementList(p,cl)\n",
    "#SimpleAryAry(Fpnl)\n",
    "println(\"Size of GF(p^n)=\",length(Fpnl),\", p^n=\",p^n)"
   ]
  },
  {
   "cell_type": "markdown",
   "id": "7d9e9ad4-2bc3-45c8-9c8b-4ef5fe6aed76",
   "metadata": {},
   "source": [
    "### 次にこの$GF(p^n)$を 3次拡大します。\n",
    "同じようなことを考えるわけで, ただ今回は3次拡大と決まっていますから, 3次の原始多項式が設定できれば良いとなります。  \n",
    "違うのは, 既約多項式や原始多項式の係数は, $GF(p^n)$の元であり, ここでは配列を使っています。  \n",
    "どうすれば良いでしょう。  \n",
    "多項式の候補は, **makeGFpnElementList(p,cl)**で列挙できる$GF(p^n)$の元から選べば良いでしょう。  \n",
    "ただ既約多項式かどうかのチェックには, その配列係数の多項式に, 配列形式な$GF(p^n)$の元を代入するという事になります。  "
   ]
  },
  {
   "cell_type": "code",
   "execution_count": null,
   "id": "e3b75430-8059-448b-b3fc-7ab221d64143",
   "metadata": {},
   "outputs": [],
   "source": []
  }
 ],
 "metadata": {
  "kernelspec": {
   "display_name": "Julia 1.10.4",
   "language": "julia",
   "name": "julia-1.10"
  },
  "language_info": {
   "file_extension": ".jl",
   "mimetype": "application/julia",
   "name": "julia",
   "version": "1.10.4"
  }
 },
 "nbformat": 4,
 "nbformat_minor": 5
}
