{
 "cells": [
  {
   "cell_type": "markdown",
   "id": "7fc85da9-201f-4b07-8caa-ea9cd7dd75e3",
   "metadata": {},
   "source": [
    "# 有限体\n",
    "### Julia 1.7.1"
   ]
  },
  {
   "cell_type": "code",
   "execution_count": 1,
   "id": "8f16a75f-a63a-4c0e-8313-a8cd84f5c61a",
   "metadata": {},
   "outputs": [],
   "source": [
    "using SymPy"
   ]
  },
  {
   "cell_type": "code",
   "execution_count": 2,
   "id": "091b3af1-b2bc-4c8b-afc7-fa48233b938b",
   "metadata": {},
   "outputs": [
    {
     "name": "stdout",
     "output_type": "stream",
     "text": [
      "\n",
      "Welcome to Nemo version 0.32.1\n",
      "\n",
      "Nemo comes with absolutely no warranty whatsoever\n",
      "\n"
     ]
    }
   ],
   "source": [
    "using Nemo"
   ]
  },
  {
   "cell_type": "markdown",
   "id": "f09edafd-1d16-4563-bb19-3c095a2b59d1",
   "metadata": {},
   "source": [
    "先ずは，標数$p=2$で，位数は$p^2$である有限体$R$を設定しよう。多分$\\alpha$が普通でない元"
   ]
  },
  {
   "cell_type": "code",
   "execution_count": 3,
   "id": "d1e1bb33-8f7c-47f0-b52e-50621f1af3b9",
   "metadata": {},
   "outputs": [
    {
     "name": "stdout",
     "output_type": "stream",
     "text": [
      "0, 1, α, α + 1, "
     ]
    },
    {
     "data": {
      "text/plain": [
       "Finite field of degree 2 over F_2"
      ]
     },
     "execution_count": 3,
     "metadata": {},
     "output_type": "execute_result"
    }
   ],
   "source": [
    "F, α = FiniteField(2, 2, \"α\")\n",
    "for x in F\n",
    "    print(x,\", \")\n",
    "end\n",
    "F"
   ]
  },
  {
   "cell_type": "markdown",
   "id": "4ae7ad80-8e48-4bd8-871f-459e937e0ae2",
   "metadata": {},
   "source": [
    "そして, $0,1,\\alpha$以外のもう1つの元は$\\alpha+1$なのだけどそれを$\\beta$としておく。"
   ]
  },
  {
   "cell_type": "code",
   "execution_count": 4,
   "id": "4bf88757-b047-4d71-aa0f-d1e06303de10",
   "metadata": {},
   "outputs": [
    {
     "data": {
      "text/plain": [
       "α + 1"
      ]
     },
     "execution_count": 4,
     "metadata": {},
     "output_type": "execute_result"
    }
   ],
   "source": [
    "β=α+F(1)"
   ]
  },
  {
   "cell_type": "code",
   "execution_count": 5,
   "id": "768656d2-a9a8-4a04-b8c7-c79e1a4c569f",
   "metadata": {},
   "outputs": [
    {
     "data": {
      "text/plain": [
       "0"
      ]
     },
     "execution_count": 5,
     "metadata": {},
     "output_type": "execute_result"
    }
   ],
   "source": [
    "α^2+β"
   ]
  },
  {
   "cell_type": "code",
   "execution_count": 6,
   "id": "76f47eba-2eff-40b9-841a-a2d04b8c0e56",
   "metadata": {},
   "outputs": [
    {
     "data": {
      "text/plain": [
       "1"
      ]
     },
     "execution_count": 6,
     "metadata": {},
     "output_type": "execute_result"
    }
   ],
   "source": [
    "(α+1)^2+(β+1)^2"
   ]
  },
  {
   "cell_type": "code",
   "execution_count": 7,
   "id": "c51861bf-ccaa-44b0-b913-d47fac8a5a29",
   "metadata": {},
   "outputs": [
    {
     "data": {
      "text/plain": [
       "0"
      ]
     },
     "execution_count": 7,
     "metadata": {},
     "output_type": "execute_result"
    }
   ],
   "source": [
    "(α+β+1)^2"
   ]
  },
  {
   "cell_type": "markdown",
   "id": "9bf1d886-9d9a-4148-ba12-4c7a5e3107e3",
   "metadata": {},
   "source": [
    "有限体$F$の元同士の積を列挙する。"
   ]
  },
  {
   "cell_type": "code",
   "execution_count": 8,
   "id": "1bee1cae-35d7-4e8e-9c52-cfc6db07dd0f",
   "metadata": {},
   "outputs": [
    {
     "name": "stdout",
     "output_type": "stream",
     "text": [
      "0  0  0  0  \n",
      "0  1  α  α + 1  \n",
      "0  α  α + 1  1  \n",
      "0  α + 1  1  α  \n"
     ]
    }
   ],
   "source": [
    "for x in F\n",
    "    for y in F\n",
    "        print(x*y,\"  \")\n",
    "    end\n",
    "    println()\n",
    "end"
   ]
  },
  {
   "cell_type": "markdown",
   "id": "0e250b8d-b131-44c7-b215-327e9ec91a58",
   "metadata": {},
   "source": [
    "シンプルに行列の積で"
   ]
  },
  {
   "cell_type": "code",
   "execution_count": 9,
   "id": "2e63f3bf-aed3-47b4-9b56-d082527443ee",
   "metadata": {},
   "outputs": [
    {
     "data": {
      "text/plain": [
       "4×4 Matrix{Any}:\n",
       " 0   0      0      0\n",
       "  0  1      α      α + 1\n",
       "  0  α      α + 1  1\n",
       "  0  α + 1  1      α"
      ]
     },
     "execution_count": 9,
     "metadata": {},
     "output_type": "execute_result"
    }
   ],
   "source": [
    "x,y = [0;F(1);α;β],[0 F(1) α β]\n",
    "x*y"
   ]
  },
  {
   "cell_type": "markdown",
   "id": "c41240f2-f29e-4fdf-8e00-fc7d923d19d2",
   "metadata": {},
   "source": [
    "和の方は行列を使うと少し面倒だけど"
   ]
  },
  {
   "cell_type": "code",
   "execution_count": 10,
   "id": "25e61b44-10ec-4128-935a-e1401d92620f",
   "metadata": {},
   "outputs": [
    {
     "data": {
      "text/plain": [
       "4×4 Matrix{Any}:\n",
       " 0       1      α      α + 1\n",
       "  1      0      α + 1  α\n",
       "  α      α + 1  0      1\n",
       "  α + 1  α      1      0"
      ]
     },
     "execution_count": 10,
     "metadata": {},
     "output_type": "execute_result"
    }
   ],
   "source": [
    "x,y=[\n",
    "0\n",
    "F(1)\n",
    "α\n",
    "β\n",
    "],[0 F(1) α β]\n",
    "X,Y=[x x x x],[y\n",
    "    y\n",
    "    y\n",
    "    y]\n",
    "X+Y"
   ]
  },
  {
   "cell_type": "markdown",
   "id": "6ffa55d5-4855-4e06-be73-32babcbafae6",
   "metadata": {},
   "source": [
    "1を使うかF(1)を使うかは微妙なのだけど, 上で$F(1)$ではなくて$1$を使うとこうなる。"
   ]
  },
  {
   "cell_type": "code",
   "execution_count": 11,
   "id": "72f7137b-e5b0-40a3-8b8f-a274381373b6",
   "metadata": {},
   "outputs": [
    {
     "data": {
      "text/plain": [
       "4×4 Matrix{Any}:\n",
       " 0       1       α      α + 1\n",
       " 1       2       α + 1  α\n",
       "  α       α + 1  0      1\n",
       "  α + 1   α      1      0"
      ]
     },
     "execution_count": 11,
     "metadata": {},
     "output_type": "execute_result"
    }
   ],
   "source": [
    "x,y=[\n",
    "0\n",
    "1\n",
    "α\n",
    "β\n",
    "],[0 1 α β]\n",
    "X,Y=[x x x x],[y\n",
    "    y\n",
    "    y\n",
    "    y]\n",
    "X+Y"
   ]
  },
  {
   "cell_type": "code",
   "execution_count": null,
   "id": "11ea3f7d-2ee1-4854-91ed-898062b8baca",
   "metadata": {},
   "outputs": [],
   "source": []
  }
 ],
 "metadata": {
  "kernelspec": {
   "display_name": "Julia 1.7.1",
   "language": "julia",
   "name": "julia-1.7"
  },
  "language_info": {
   "file_extension": ".jl",
   "mimetype": "application/julia",
   "name": "julia",
   "version": "1.7.1"
  },
  "widgets": {
   "application/vnd.jupyter.widget-state+json": {
    "state": {},
    "version_major": 2,
    "version_minor": 0
   }
  }
 },
 "nbformat": 4,
 "nbformat_minor": 5
}
