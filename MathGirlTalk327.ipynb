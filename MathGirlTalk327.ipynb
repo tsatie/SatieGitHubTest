{
  "nbformat": 4,
  "nbformat_minor": 0,
  "metadata": {
    "colab": {
      "name": "MathGirlTalk327.ipynb",
      "provenance": [],
      "authorship_tag": "ABX9TyPiGHGNjuxhJ/sDG6cBqKny",
      "include_colab_link": true
    },
    "kernelspec": {
      "name": "python3",
      "display_name": "Python 3"
    },
    "language_info": {
      "name": "python"
    }
  },
  "cells": [
    {
      "cell_type": "markdown",
      "metadata": {
        "id": "view-in-github",
        "colab_type": "text"
      },
      "source": [
        "<a href=\"https://colab.research.google.com/github/tsatie/SatieGitHubTest/blob/master/MathGirlTalk327.ipynb\" target=\"_parent\"><img src=\"https://colab.research.google.com/assets/colab-badge.svg\" alt=\"Open In Colab\"/></a>"
      ]
    },
    {
      "cell_type": "markdown",
      "metadata": {
        "id": "DfmkrkL8g-hT"
      },
      "source": [
        "# 数学ガールの秘密ノート アルゴリズム編\n",
        "## 第327回 二分探索木(前編)\n",
        "### Pythonで実装して遊ぶ\n"
      ]
    },
    {
      "cell_type": "markdown",
      "metadata": {
        "id": "-YRX1T0zhZUQ"
      },
      "source": [
        "先ずは二分木検索用のNodeの定義から"
      ]
    },
    {
      "cell_type": "code",
      "metadata": {
        "colab": {
          "base_uri": "https://localhost:8080/"
        },
        "id": "1yTb2jECg795",
        "outputId": "029ddb03-418c-4db4-f22f-2aab60751387"
      },
      "source": [
        "class Node:\n",
        "  def __init__(self, key):\n",
        "    self.key = key\n",
        "    self.left = None\n",
        "    self.right = None\n",
        "  def show(self):\n",
        "    if self.left==None:\n",
        "      showleft=None\n",
        "    else:\n",
        "      showleft=self.left.key\n",
        "      self.left.show()\n",
        "    if self.right==None:\n",
        "      showright=None\n",
        "    else:\n",
        "      showright=self.right.key\n",
        "      self.right.show()\n",
        "    print(self.key,'(',showleft,'-',showright,')')\n",
        "a=Node(0)\n",
        "a.show()\n",
        "print(a.key,a.right)"
      ],
      "execution_count": 33,
      "outputs": [
        {
          "output_type": "stream",
          "text": [
            "0 ( None - None )\n",
            "0 None\n"
          ],
          "name": "stdout"
        }
      ]
    },
    {
      "cell_type": "markdown",
      "metadata": {
        "id": "8G04lAf2g9BT"
      },
      "source": [
        "そして二分木の定義。\n",
        "\n",
        "根っこなルートになる大本は-∞なんだけどPythonには一応floatにあるみたい。"
      ]
    },
    {
      "cell_type": "code",
      "metadata": {
        "colab": {
          "base_uri": "https://localhost:8080/"
        },
        "id": "J4BvUjhwiT_R",
        "outputId": "74bb52e9-b315-4344-b07b-5f65eb36523f"
      },
      "source": [
        "def newtree():\n",
        "  p=Node(-float('inf'))\n",
        "  return p\n",
        "t=newtree()\n",
        "t.show()\n",
        "print(t.key,t.right)"
      ],
      "execution_count": 34,
      "outputs": [
        {
          "output_type": "stream",
          "text": [
            "-inf ( None - None )\n",
            "-inf None\n"
          ],
          "name": "stdout"
        }
      ]
    },
    {
      "cell_type": "code",
      "metadata": {
        "colab": {
          "base_uri": "https://localhost:8080/"
        },
        "id": "seHYyKiNinEO",
        "outputId": "a2720ee2-9a83-4167-e17b-68bf0469eb4c"
      },
      "source": [
        "t.right=Node(40)\n",
        "t.show()"
      ],
      "execution_count": 44,
      "outputs": [
        {
          "output_type": "stream",
          "text": [
            "40 ( None - None )\n",
            "-inf ( None - 40 )\n"
          ],
          "name": "stdout"
        }
      ]
    },
    {
      "cell_type": "markdown",
      "metadata": {
        "id": "sZ6WtEALo0M0"
      },
      "source": [
        "面倒なので二分木にkeyなNodeを付け加えるものを作る。"
      ]
    },
    {
      "cell_type": "code",
      "metadata": {
        "colab": {
          "base_uri": "https://localhost:8080/"
        },
        "id": "0mvwIENGkGyz",
        "outputId": "97db0163-e9ce-4d03-fdc5-80c946266b6c"
      },
      "source": [
        "def addtree(tree,key):\n",
        "  if tree==None:\n",
        "    tree=Node(key)\n",
        "  else:\n",
        "    if key>tree.key:\n",
        "      tree.right=addtree(tree.right,key)\n",
        "    else:\n",
        "      tree.left=addtree(tree.left,key)\n",
        "  return tree\n",
        "t=addtree(t,50)\n",
        "t.show()\n",
        "#t.right.show()"
      ],
      "execution_count": 45,
      "outputs": [
        {
          "output_type": "stream",
          "text": [
            "50 ( None - None )\n",
            "40 ( None - 50 )\n",
            "-inf ( None - 40 )\n"
          ],
          "name": "stdout"
        }
      ]
    },
    {
      "cell_type": "code",
      "metadata": {
        "colab": {
          "base_uri": "https://localhost:8080/"
        },
        "id": "z3EIP3bem_7H",
        "outputId": "fd876216-dfcf-471e-9645-8d3eb438c4a6"
      },
      "source": [
        ""
      ],
      "execution_count": 37,
      "outputs": [
        {
          "output_type": "stream",
          "text": [
            "40 ( None - None )\n"
          ],
          "name": "stdout"
        }
      ]
    },
    {
      "cell_type": "code",
      "metadata": {
        "colab": {
          "base_uri": "https://localhost:8080/"
        },
        "id": "mqH0N3IOnhrn",
        "outputId": "3f02c588-6cca-4a8c-cde1-f06610747d4d"
      },
      "source": [
        "t=newtree()\n",
        "t=addtree(t,40)\n",
        "t=addtree(t,20)\n",
        "t=addtree(t,60)\n",
        "t=addtree(t,10)\n",
        "t=addtree(t,30)\n",
        "t=addtree(t,50)\n",
        "t=addtree(t,70)\n",
        "t.show()"
      ],
      "execution_count": 48,
      "outputs": [
        {
          "output_type": "stream",
          "text": [
            "10 ( None - None )\n",
            "30 ( None - None )\n",
            "20 ( 10 - 30 )\n",
            "50 ( None - None )\n",
            "70 ( None - None )\n",
            "60 ( 50 - 70 )\n",
            "40 ( 20 - 60 )\n",
            "-inf ( None - 40 )\n"
          ],
          "name": "stdout"
        }
      ]
    },
    {
      "cell_type": "markdown",
      "metadata": {
        "id": "3jNR9iespA3P"
      },
      "source": [
        "なんとか上手く動いてるようだ。では二分木検索だ。"
      ]
    },
    {
      "cell_type": "code",
      "metadata": {
        "id": "5pUS78p5oZiq"
      },
      "source": [
        "def searchtree(t,n):\n",
        "  if t==None:\n",
        "    return False\n",
        "  else:\n",
        "    if t.key==n:\n",
        "      return True\n",
        "    else:\n",
        "      if t.key<n:\n",
        "        return searchtree(t.right,n)\n",
        "      else:\n",
        "        return searchtree(t.left,n)"
      ],
      "execution_count": 55,
      "outputs": []
    },
    {
      "cell_type": "code",
      "metadata": {
        "colab": {
          "base_uri": "https://localhost:8080/"
        },
        "id": "VWLIcXJop3MD",
        "outputId": "4c6e4359-7922-4f57-dfb8-ef493838de6c"
      },
      "source": [
        "searchtree(t,35)"
      ],
      "execution_count": 59,
      "outputs": [
        {
          "output_type": "execute_result",
          "data": {
            "text/plain": [
              "False"
            ]
          },
          "metadata": {
            "tags": []
          },
          "execution_count": 59
        }
      ]
    },
    {
      "cell_type": "code",
      "metadata": {
        "id": "nGthW98up8ft"
      },
      "source": [
        ""
      ],
      "execution_count": null,
      "outputs": []
    }
  ]
}