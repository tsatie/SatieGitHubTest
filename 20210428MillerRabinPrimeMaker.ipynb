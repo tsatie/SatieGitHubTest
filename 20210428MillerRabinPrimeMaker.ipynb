{
  "nbformat": 4,
  "nbformat_minor": 0,
  "metadata": {
    "colab": {
      "name": "20210428MillerRabinPrimeMaker.ipynb",
      "provenance": [],
      "collapsed_sections": [],
      "authorship_tag": "ABX9TyOHdhMmsU7tcdyQoL/W+LNE",
      "include_colab_link": true
    },
    "kernelspec": {
      "name": "python3",
      "display_name": "Python 3"
    },
    "language_info": {
      "name": "python"
    }
  },
  "cells": [
    {
      "cell_type": "markdown",
      "metadata": {
        "id": "view-in-github",
        "colab_type": "text"
      },
      "source": [
        "<a href=\"https://colab.research.google.com/github/tsatie/SatieGitHubTest/blob/master/20210428MillerRabinPrimeMaker.ipynb\" target=\"_parent\"><img src=\"https://colab.research.google.com/assets/colab-badge.svg\" alt=\"Open In Colab\"/></a>"
      ]
    },
    {
      "cell_type": "markdown",
      "metadata": {
        "id": "av245qpoC8s4"
      },
      "source": [
        "#Miller-Rabin素数判定法\n",
        "Python で試してみる\n",
        "\n",
        "n を素数かどうか判定する自然数とする。\n",
        "1. $n-1 = 2^k m$ となる$k,\\ m$を求める。 \n",
        "2. $2\\le a \\le n-1$を満たす自然数$a$を無作為に選ぶ\n",
        "3. $b=a^m\\!\\!\\!\\!\\mod\\!n$ を計算する  \n",
        "4. $b\\equiv 1\\ \\ (\\text{mod}\\ n)$ なら「$n$は素数である」と判定して停止する。\n",
        "5. $i=0$ から $k-1$ について、以下の計算を行う\n",
        "    1. $b\\equiv -1\\ \\ (\\text{mod}\\ n)$ なら「$n$は素数である」と判定して停止する\n",
        "    2. $b=b^2\\mod n$を計算する\n",
        "　　　　"
      ]
    },
    {
      "cell_type": "code",
      "metadata": {
        "colab": {
          "base_uri": "https://localhost:8080/"
        },
        "id": "AK7w-nJ4C7uR",
        "outputId": "280a1d1f-2a9a-4629-d21f-66e1d2133730"
      },
      "source": [
        "import random\n",
        "def miller_rabin_test(n):\n",
        "  ans=False\n",
        "  # (1) n-1 = 2^k * m となる k,m を計算する\n",
        "  k = 0\n",
        "  m = n - 1\n",
        "  mod=0\n",
        "  while mod==0:\n",
        "    m, mod = divmod(m, 2)\n",
        "    k=k+1\n",
        "  m,k=m*2+1,k-1\n",
        "#  print(n, m, mod, k, 2**k*m)\n",
        "  for chg in range(1,100):\n",
        "    a=random.randint(2, n - 1)\n",
        "#    print(a)\n",
        "#    b=a\n",
        "    b=pow(a, m, n)\n",
        "#    for i in range(0,m):\n",
        "#      b=b*a\n",
        "#      b=b%n\n",
        "#    print(b)\n",
        "    if b==1:\n",
        "      ans=True\n",
        "      break\n",
        "    else:\n",
        "      for j in range(0,k):\n",
        "#        print (j,b)\n",
        "        if b==n-1:\n",
        "          ans=True\n",
        "          break\n",
        "        else:\n",
        "          b=(b**2)%n\n",
        "#  print(ans)\n",
        "  return ans\n",
        "\n",
        "nn=1\n",
        "for j in range(1,3):\n",
        "  n=0\n",
        "  while n%2==0:\n",
        "    n=0\n",
        "    for i in range(1,100):\n",
        "      n=n*10+random.randint(0,9)\n",
        "\n",
        "  print(n,miller_rabin_test(n))\n",
        "  n=n+2\n",
        "  while miller_rabin_test(n)==False:\n",
        "    n=n+2\n",
        "  print(n,miller_rabin_test(n))\n",
        "  nn=nn*n\n",
        "print(nn)\n"
      ],
      "execution_count": 153,
      "outputs": [
        {
          "output_type": "stream",
          "text": [
            "915920178816670079048346359928337186533287510252415504537639582088196039616804309277042400290487627 False\n",
            "915920178816670079048346359928337186533287510252415504537639582088196039616804309277042400290488353 True\n",
            "33963649323365692962637875814218980328069842672116824160741487598136559491580691980165275760330495 False\n",
            "33963649323365692962637875814218980328069842672116824160741487598136559491580691980165275760330831 True\n",
            "31107991761523781235116006397655825020166598456232205351967059612433211807553238552793142387256471986311106045789017511629712286295496306558614988476678042967128980565249799573176837643725832311343\n"
          ],
          "name": "stdout"
        }
      ]
    },
    {
      "cell_type": "markdown",
      "metadata": {
        "id": "56RkVX-dFOf8"
      },
      "source": [
        "\n",
        "\n"
      ]
    }
  ]
}