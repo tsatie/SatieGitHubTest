{
 "cells": [
  {
   "cell_type": "markdown",
   "id": "b3797aab-5fc7-43e6-b9e9-c3ac3699c20a",
   "metadata": {},
   "source": [
    "# Nemoの使い方"
   ]
  },
  {
   "cell_type": "markdown",
   "id": "ec2b181f-f514-4352-b285-97d83ee1559e",
   "metadata": {},
   "source": [
    "## Qiitaにある記事「今さら森博嗣「笑わない数学者」のビリヤードの問題を解く(8)～謎は全て解けた」  \n",
    "の中にある\n",
    "### 「2.有限体の射影平面による解法」\n",
    "の\n",
    "#### 2.1 解法概要\n",
    "には\n",
    "##### 「ボールの個数 $n=p^m+1$ の場合，対応する有限体 $\\mathbb{F}_{p^m}$ となる。3次の既約多項式 $f(x)$ を選び， $f(x)=0$ の解を $\\alpha$ とおく。  \n",
    "##### ボールの数値の総和 $\\sigma=n(n-1)+1$ とすると， $\\alpha$ のべき乗を計算する。  \n",
    "##### $1,\\ \\alpha,\\ \\alpha^2,\\ \\alpha^3,\\ \\cdots,\\ \\alpha^{\\sigma-1},\\ $\n",
    "##### $f(x)=0$ より $\\alpha^3$ は $\\alpha$ の二次式以下で表すことができるので, $\\alpha^3$ は $\\alpha$ の2次式以下に次数下げができる。\n",
    "##### このうち $\\alpha^2$ を含まない $\\alpha^i$ の指数（位置）を読み出し，これらの差分（間隔）を求めるとビリヤード問題の解が得られる。」\n",
    "とある。"
   ]
  },
  {
   "cell_type": "markdown",
   "id": "a19397c5-6dfe-45bd-b62e-a317d6b6c792",
   "metadata": {},
   "source": [
    "#### 2.2 具体的な計算例\n",
    "には, \n",
    "##### 「ボールの個数 $n=5=2^2+1$ の場合を考える。対応する有限体は $\\mathbb{F}_{2^2}=\\mathbb{F}_{4}$ となる。\n",
    "##### 有限体 $\\mathbb{F}_{4}$ のメンバーは 四次方程式 $x^4-x=x(x-1)(x^2+x+1)=0$ の解である。\n",
    "##### このうち $x^2+x+1=0$ の解を $\\omega$ とおくと $\\omega^2+\\omega+1=0$ より $\\omega^2=\\omega+1$ となる。\n",
    "##### よって有限体 $\\mathbb{F}_{4}$ のメンバーは $\\{0,\\ 1,\\ \\omega,\\ \\omega+1\\}$ である。\n",
    "\n",
    "##### 三次の既約多項式として $f(x)=x^3+x^2+x+\\omega$ を選ぶ。 $f(x)=0$ の解を $\\alpha$ とすると，$\\alpha^3=\\alpha^2+\\alpha+\\omega$ となる。\n",
    "##### これを利用して $\\alpha^0$ から $\\alpha^{21}$ まで順次求めていき， $\\alpha^i$ を $\\alpha$ の2次式以下に次数下げを行って表す。」\n",
    "とあり, この計算を **Julia** に任せたいなぁと..."
   ]
  },
  {
   "cell_type": "code",
   "execution_count": 1,
   "id": "1f346ae5-d76e-4f23-b25e-63252cff1e7b",
   "metadata": {},
   "outputs": [
    {
     "name": "stdout",
     "output_type": "stream",
     "text": [
      "\n",
      "Welcome to Nemo version building\n",
      "\n",
      "Nemo comes with absolutely no warranty whatsoever\n"
     ]
    }
   ],
   "source": [
    "using Nemo"
   ]
  },
  {
   "cell_type": "code",
   "execution_count": 2,
   "id": "b965ff6f-dafb-4d24-b888-9775ef15aae1",
   "metadata": {},
   "outputs": [
    {
     "name": "stdout",
     "output_type": "stream",
     "text": [
      "Finite field of degree 2 and characteristic 2, ω + 1\n"
     ]
    }
   ],
   "source": [
    "F4,ω=finite_field(4,\"ω\")\n",
    "println(F4,\", \",ω^2)"
   ]
  },
  {
   "cell_type": "code",
   "execution_count": 3,
   "id": "492c6acf-5261-49f3-a763-b96bd610a5ab",
   "metadata": {},
   "outputs": [
    {
     "name": "stdout",
     "output_type": "stream",
     "text": [
      "Univariate polynomial ring in x over F4, x^3 + x^2 + x + ω\n"
     ]
    }
   ],
   "source": [
    "F4x,x=F4[\"x\"]\n",
    "f=x^3+x^2+x+ω\n",
    "println(F4x,\", \",f)"
   ]
  },
  {
   "cell_type": "code",
   "execution_count": 4,
   "id": "c9be7980-2a68-47e6-8cf0-a430da0338e9",
   "metadata": {},
   "outputs": [
    {
     "name": "stdout",
     "output_type": "stream",
     "text": [
      "Finite field of degree 3 over F4, 64\n"
     ]
    }
   ],
   "source": [
    "F64,α=finite_field(f,\"α\")\n",
    "oF=order(F64)\n",
    "println(F64,\", \",oF)"
   ]
  },
  {
   "cell_type": "code",
   "execution_count": 5,
   "id": "28af2452-f678-48df-a07b-d8404520b771",
   "metadata": {},
   "outputs": [
    {
     "name": "stdout",
     "output_type": "stream",
     "text": [
      "0: 1   ***\n",
      "1: α   ***\n",
      "2: α^2\n",
      "3: α^2 + α + ω\n",
      "4: (ω + 1)*α + ω   ***\n",
      "5: (ω + 1)*α^2 + ω*α\n",
      "6: α^2 + (ω + 1)*α + 1\n",
      "7: ω*α^2 + ω\n",
      "8: ω*α^2 + ω + 1\n",
      "9: ω*α^2 + α + ω + 1\n",
      "10: (ω + 1)*α^2 + α + ω + 1\n",
      "11: ω*α^2 + 1\n",
      "12: ω*α^2 + (ω + 1)*α + ω + 1\n",
      "13: α^2 + α + ω + 1\n",
      "14: ω*α + ω   ***\n",
      "15: ω*α^2 + ω*α\n",
      "16: ω*α + ω + 1   ***\n",
      "17: ω*α^2 + (ω + 1)*α\n",
      "18: α^2 + ω*α + ω + 1\n",
      "19: (ω + 1)*α^2 + ω*α + ω\n",
      "20: α^2 + α + 1\n",
      "21: ω\n",
      "Any[0, 1, 4, 14, 16, 21]Any[1, 3, 10, 2, 5]\n"
     ]
    }
   ],
   "source": [
    "i,e,dset=0,α^21,[]\n",
    "while α^i!=e\n",
    "#for i=0:oF\n",
    "    print(i,\": \",α^i)\n",
    "    if coeff(α^i,2)==0\n",
    "        push!(dset,i)\n",
    "        print(\"   ***\\n\")\n",
    "    else\n",
    "        print(\"\\n\")\n",
    "    end\n",
    "    i=i+1\n",
    "end\n",
    "println(i,\": \",α^i)\n",
    "push!(dset,i)\n",
    "blst=[]\n",
    "for i=2:length(dset)\n",
    "    push!(blst,dset[i]-dset[i-1])\n",
    "end\n",
    "println(dset,blst)\n"
   ]
  },
  {
   "cell_type": "markdown",
   "id": "255e225e-f0a7-4840-97e7-c9904a8a51a7",
   "metadata": {},
   "source": [
    "というわけで, 森博嗣さんの「笑わない数学者」に出てくるビリヤード問題, $\\mathbb{F}_{2^2}$の場合の解が得られました。"
   ]
  },
  {
   "cell_type": "code",
   "execution_count": null,
   "id": "fbe36b1f-c927-4c38-b661-bde2497626ef",
   "metadata": {},
   "outputs": [],
   "source": []
  }
 ],
 "metadata": {
  "kernelspec": {
   "display_name": "Julia 1.10.0",
   "language": "julia",
   "name": "julia-1.10"
  },
  "language_info": {
   "file_extension": ".jl",
   "mimetype": "application/julia",
   "name": "julia",
   "version": "1.10.0"
  }
 },
 "nbformat": 4,
 "nbformat_minor": 5
}
