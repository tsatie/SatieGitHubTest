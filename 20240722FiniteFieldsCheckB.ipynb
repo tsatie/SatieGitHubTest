{
 "cells": [
  {
   "cell_type": "markdown",
   "id": "901f37d6-6639-4ba9-84fd-987310fde1bf",
   "metadata": {},
   "source": [
    "# 所謂有限体から有限射影平面を作る作り方に依らない事を確認したい\n",
    "+ 例えば有限体 $GF(p^n)$ で3次元 **ベクトル空間** を考えて ${GF(p^n)}^3$ 拵える場合  \n",
    "+ 例えば有限体 $GF(p^n)$ で3次の **既約多項式** を用いて, 拡張体 ${GF(p^n)}^3$ 拵える場合  \n",
    "+ 直接, 有限体 $GF(p^{3n})$ で直接的に同じ位数の $GF(p^{3n})={GF(p^n)}^3$ を拵える場合\n",
    "\n",
    "いずれの場合も,  $GF(p^{3n})$ な **有限射影平面** を定義できるはずで, どの方法であろうと同じものができるはずだ。   \n",
    "既にそれぞれの方法で **有限射影平面** を作成できることは確認できていたか？（そこからか...）"
   ]
  },
  {
   "cell_type": "markdown",
   "id": "d63dd79a-5e5d-4476-b7e0-a5c22f21a6f4",
   "metadata": {},
   "source": [
    "**Nemo.jl** という **Pkg** を用いる。先ずは環境などの確認と **Pkg** の設定から。"
   ]
  },
  {
   "cell_type": "code",
   "execution_count": 1,
   "id": "25697686-fd05-4e6a-be37-af80be4238c4",
   "metadata": {},
   "outputs": [
    {
     "name": "stdout",
     "output_type": "stream",
     "text": [
      "Julia Version 1.10.4\n",
      "Commit 48d4fd48430 (2024-06-04 10:41 UTC)\n",
      "Build Info:\n",
      "  Official https://julialang.org/ release\n",
      "Platform Info:\n",
      "  OS: macOS (arm64-apple-darwin22.4.0)\n",
      "  CPU: 8 × Apple M3\n",
      "  WORD_SIZE: 64\n",
      "  LIBM: libopenlibm\n",
      "  LLVM: libLLVM-15.0.7 (ORCJIT, apple-m1)\n",
      "Threads: 1 default, 0 interactive, 1 GC (on 4 virtual cores)\n",
      "nothing\n",
      "\n",
      "Welcome to Nemo version building\n",
      "\n",
      "Nemo comes with absolutely no warranty whatsoever\n"
     ]
    }
   ],
   "source": [
    "println(versioninfo())\n",
    "using Nemo,Plots,LaTeXStrings,Latexify,Combinatorics"
   ]
  },
  {
   "cell_type": "code",
   "execution_count": 2,
   "id": "d587b1e9-b322-43cb-a277-e95c080688a6",
   "metadata": {},
   "outputs": [
    {
     "name": "stdout",
     "output_type": "stream",
     "text": [
      "x^3 + 2*x + 1\n",
      "19683\n",
      "27, 19683, 757, 728\n",
      "757\n",
      "757, 757\n"
     ]
    }
   ],
   "source": [
    "# FiniteField(p^n):Fpnを設る. その為に p と n を決めておく。\n",
    "p,n=3,3\n",
    "Fpn,α=finite_field(p,n,\"α\")\n",
    "# 設た有限体 Fpn の生成多項式を見ておく。\n",
    "println(defining_polynomial(Fpn))\n",
    "# 有限体 Fpn の元を Fpnl という配列に入れておく\n",
    "Fpnl=[]\n",
    "for x ∈ Fpn\n",
    "    push!(Fpnl,x)\n",
    "end\n",
    "# 有限体 Fpn の元による3次元ベクトル空間 Fpnl3 を設る。\n",
    "Fpnl3=[]\n",
    "for x ∈ Fpn,y ∈ Fpn,z ∈ Fpn\n",
    "    push!(Fpnl3,[x,y,z])\n",
    "end\n",
    "# Fpnl3 の元の数などを確認しておく。\n",
    "println(length(Fpnl3))\n",
    "pn=p^n\n",
    "println(pn,\", \",pn^3,\", \",pn^2+pn+1,\", \",pn^2-1)\n",
    "# Fpnl3 を有限射影平面とみた時の「原点を通る平面」を列挙して, それら平面の配列 Fpnl3p を用意する。\n",
    "Fpnl3p=[]\n",
    "for x ∈ Fpnl3\n",
    "    a,b,c=x[1],x[2],x[3]\n",
    "    ln=[]\n",
    "    for p ∈ Fpnl3\n",
    "# 「原点を通る平面」は, ax+by+cz=0 を満たす点の集合とする。\n",
    "# ここで, a,b,c は当然 Fpn の元であり, 3つ組みなので, Fpnl3 にその全ての組み合わせがあるわけだ。\n",
    "        if a*p[1]+b*p[2]+c*p[3]==0\n",
    "            if p !=[0,0,0]\n",
    "                push!(ln,p)\n",
    "            end\n",
    "        end\n",
    "    end\n",
    "# 当然だけど重複するものは省く\n",
    "    if x!=[0,0,0] && !(ln ∈ Fpnl3p)\n",
    "        push!(Fpnl3p,ln)\n",
    "    end\n",
    "end\n",
    "# 出来上がった「原点を通る平面」の配列 Fpnl3p の数を確認しておく。\n",
    "println(length(Fpnl3p))\n",
    "# Fpnl3 を有限射影平面とみた時の「原点を通る直線」を列挙して, それら直線の配列 Fpnl3l を用意する。\n",
    "Fpnl3l=[]\n",
    "for x ∈ Fpnl3\n",
    "    if x!=[0,0,0]\n",
    "        lnb=Set()\n",
    "# 「原点を通る直線」は, Fpnl3 の点 y の「Fpn なスカラー倍」を満たす点の集合とする。\n",
    "        for y ∈ Fpn\n",
    "            if y!=0\n",
    "                push!(lnb,[y*x[1],y*x[2],y*x[3]])\n",
    "            end\n",
    "        end\n",
    "# 当然だけど重複するものは省く\n",
    "        if !(lnb ∈ Fpnl3l)\n",
    "            push!(Fpnl3l,lnb)\n",
    "        end\n",
    "    end\n",
    "end\n",
    "# 出来上がった「原点を通る直線」の配列 Fpnl3l の数を確認しておく。\n",
    "println(length(Fpnl3l),\", \",pn^2+pn+1)"
   ]
  },
  {
   "cell_type": "markdown",
   "id": "a8341659-0d49-476c-951f-8f2ccb955c91",
   "metadata": {},
   "source": [
    "#### 次は,  $GF(p^n)$ な Fpn を元に3次の既約多項式で拡張する場合を確認する。  "
   ]
  },
  {
   "cell_type": "code",
   "execution_count": 3,
   "id": "a64a1173-f6df-4b30-a8ff-97272ce7656a",
   "metadata": {},
   "outputs": [
    {
     "name": "stdout",
     "output_type": "stream",
     "text": [
      "19683\n",
      "9841, 1\n",
      "19683\n"
     ]
    }
   ],
   "source": [
    "# Fpn の多項式環を設え, 変数を y としておく。\n",
    "Fpnr,y=polynomial_ring(Fpn, \"y\")\n",
    "# 3次の既約多項式を「適当に」決めて, その解を ω として有限体を拡張する。\n",
    "#FFpn,ω=finite_field(y^3+y^2+y+α,\"ω\")\n",
    "FFpn,ω=finite_field(y^3+y^2+1+α,\"ω\")\n",
    "# この拡張した有限体 FFpn の元を配列 FFpnp に入れておく。\n",
    "FFpnp=[]\n",
    "for x ∈ FFpn\n",
    "    push!(FFpnp,x)\n",
    "end\n",
    "# できた FFpnp の要素の数を数えて確認しておく。\n",
    "println(length(FFpnp))\n",
    "# 拡大しても有限体なので, 適当な元の累乗で全ての元が得られる筈なので, それを確認してみる。\n",
    "# (ω+α+1)^i で各累乗を計算し, それを配列 FFpp に収める。\n",
    "FFpp=[]\n",
    "i=0\n",
    "while i<pn^3\n",
    "    ff=(ω+α+1)^i\n",
    "    if ff ∈ FFpp # 同じものが現れれば抜ける\n",
    "        println(length(FFpp),\", \",ff)\n",
    "        break\n",
    "    else\n",
    "        push!(FFpp,ff)\n",
    "        i=i+1\n",
    "    end\n",
    "end\n",
    "# できた FFpp の要素の数を数えて確認しておく。\n",
    "println(length(FFpnp))"
   ]
  },
  {
   "cell_type": "markdown",
   "id": "9ae940c9-5005-4799-8113-05db63cababc",
   "metadata": {},
   "source": [
    "#### 問題は, この場合出来上がった有限射影平面を構成する点群 **FFpp** からどう「原点を通る平面」と「原点を取る直線」を構成するかだ。\n",
    "#### が, そのままだった。つまり,  $\\omega$ の係数がそのまま3次元座標になり, Fpnl3 の点と対応する。"
   ]
  },
  {
   "cell_type": "code",
   "execution_count": 9,
   "id": "0bf4e404-b93f-461c-b737-b60d4d6b50a2",
   "metadata": {},
   "outputs": [
    {
     "name": "stdout",
     "output_type": "stream",
     "text": [
      "9841\n"
     ]
    },
    {
     "data": {
      "text/plain": [
       "2*α + 1"
      ]
     },
     "execution_count": 9,
     "metadata": {},
     "output_type": "execute_result"
    }
   ],
   "source": [
    "println(length(FFpp))\n",
    "coeff(FFpp[length(FFpp)],0)"
   ]
  },
  {
   "cell_type": "markdown",
   "id": "4448c7dd-a92a-4aec-bd49-97389901dcb8",
   "metadata": {},
   "source": [
    "#### 最後に $GF(p^{3n})$ との比較を検討する。"
   ]
  },
  {
   "cell_type": "code",
   "execution_count": 5,
   "id": "7479a53a-b085-456d-ac2a-52886bf71c0f",
   "metadata": {},
   "outputs": [
    {
     "name": "stdout",
     "output_type": "stream",
     "text": [
      "x^9 + 2*x^3 + 2*x^2 + x + 1\n"
     ]
    }
   ],
   "source": [
    "Fp3n,γ=finite_field(p,3*n,\"γ\")\n",
    "# 設た有限体 Fpn の生成多項式を見ておく。\n",
    "println(defining_polynomial(Fp3n))"
   ]
  },
  {
   "cell_type": "markdown",
   "id": "9095fcf3-0c44-4b3b-90d3-3c09fe368108",
   "metadata": {},
   "source": [
    "#### 直接位数 $p^{3n}$ な拡大有限体 Fp3n を拵えた。$\\alpha$ の累乗でその元が全て現れることを確認する。"
   ]
  },
  {
   "cell_type": "code",
   "execution_count": 6,
   "id": "556aab2d-07b7-4776-914f-63f53b3bcc5a",
   "metadata": {},
   "outputs": [
    {
     "name": "stdout",
     "output_type": "stream",
     "text": [
      "19682, 1\n",
      "19682\n",
      "2*γ^8 + γ^7 + γ^6 + 2*γ^5 + γ^4 + γ^2 + 2*γ + 1\n",
      "1\n",
      "!!! Clear !!!\n"
     ]
    }
   ],
   "source": [
    "Fp3np=[]\n",
    "i=0\n",
    "while i<pn^3\n",
    "    ff=γ^i\n",
    "    if ff ∈ Fp3np # 同じものが現れれば抜ける\n",
    "        println(length(Fp3np),\", \",ff)\n",
    "        break\n",
    "    else\n",
    "        push!(Fp3np,ff)\n",
    "        i=i+1\n",
    "    end\n",
    "end\n",
    "# できた Fp3np の要素の数を数えて確認しておく。\n",
    "println(length(Fp3np))\n",
    "#if length(Fp3np)>1000\n",
    "#    println(Fp3np[1000])\n",
    "#else\n",
    "    println(Fp3np[2*length(Fp3np)÷3]+1)\n",
    "#end\n",
    "println(Fp3np[1])\n",
    "# 確認はここから。\n",
    "chk=true\n",
    "for x ∈ Fp3n\n",
    "    if !(x ∈ Fp3np) && x!=0\n",
    "        println(x)\n",
    "        chk=false\n",
    "        break\n",
    "    end\n",
    "end\n",
    "if chk\n",
    "    println(\"!!! Clear !!!\")\n",
    "else\n",
    "    println(\"*** Error ***\")\n",
    "end"
   ]
  },
  {
   "cell_type": "markdown",
   "id": "260302bc-7122-4d43-8d17-e2287c803dc2",
   "metadata": {},
   "source": [
    "#### 確認できた。\n",
    "#### ではこの $GF(p^{3n})$ を直接有限射影平面と見る場合の, 直線や平面だ。どう設定すれば良いだろう。"
   ]
  },
  {
   "cell_type": "code",
   "execution_count": 7,
   "id": "47bb88a4-ded8-4868-9de4-163b69b28072",
   "metadata": {},
   "outputs": [
    {
     "name": "stdout",
     "output_type": "stream",
     "text": [
      "19682, p=3, n=3\n",
      "(1, 0, 0)\n",
      "(γ, 0, 0)\n",
      "(γ^2, 0, 0)\n",
      "(0, 1, 0)\n",
      "(0, γ, 0)\n",
      "  ...\n",
      "(2*γ^2 + 2, 2, γ^2 + 2*γ + 1)\n",
      "  ...\n",
      "(2*γ^2 + 2, 2*γ^2, γ + 1)\n",
      "(2*γ, 2, γ^2 + γ + 2)\n",
      "(2*γ + 2, 2*γ + 1, γ^2 + 2*γ)\n",
      "(γ + 2, 2*γ^2 + γ + 1, 2*γ^2)\n",
      "(1, γ^2 + γ + 2, 2)\n"
     ]
    }
   ],
   "source": [
    "Fp3npp=[]\n",
    "px=[γ,γ,γ]\n",
    "for x ∈ Fp3np\n",
    "    for j=1:3\n",
    "        px[j]=γ-γ\n",
    "        for i=0:n-1\n",
    "#            println(p*(j-1)+i)\n",
    "            px[j]=px[j]+coeff(x,n*(j-1)+i)*γ^(i)\n",
    "        end\n",
    "    end\n",
    "#    println([px[1],px[2],px[3]])\n",
    "    newp=[px[1],px[2],px[3]]\n",
    "    if !(newp ∈ Fp3npp)\n",
    "#        println(newp)\n",
    "        push!(Fp3npp,newp)\n",
    "    end\n",
    "end\n",
    "println(length(Fp3npp),\", p=\",p,\", n=\",n)\n",
    "#println(Fp3npp)\n",
    "for i=1:5\n",
    "    println(\"(\",join(Fp3npp[i],\", \"),\")\")\n",
    "end\n",
    "println(\"  ...\")\n",
    "println(\"(\",join(Fp3npp[2*length(Fp3npp)÷3+2],\", \"),\")\")\n",
    "println(\"  ...\")\n",
    "for i=1:5\n",
    "    println(\"(\",join(Fp3npp[length(Fp3npp)-(10-i)],\", \"),\")\")\n",
    "end"
   ]
  },
  {
   "cell_type": "markdown",
   "id": "fa602bf4-f81a-4a11-ada6-05e195453605",
   "metadata": {},
   "source": [
    "#### 何やら上手く設定できたかも。こんなんで良いのか？"
   ]
  },
  {
   "cell_type": "code",
   "execution_count": null,
   "id": "f1e3ea1c-f302-4ded-bb85-58ce1388597f",
   "metadata": {},
   "outputs": [],
   "source": []
  }
 ],
 "metadata": {
  "kernelspec": {
   "display_name": "Julia 1.10.4",
   "language": "julia",
   "name": "julia-1.10"
  },
  "language_info": {
   "file_extension": ".jl",
   "mimetype": "application/julia",
   "name": "julia",
   "version": "1.10.4"
  }
 },
 "nbformat": 4,
 "nbformat_minor": 5
}
