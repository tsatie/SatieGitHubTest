{
  "cells": [
    {
      "cell_type": "markdown",
      "metadata": {
        "id": "view-in-github",
        "colab_type": "text"
      },
      "source": [
        "<a href=\"https://colab.research.google.com/github/tsatie/SatieGitHubTest/blob/master/0504JordanMatrixTest.ipynb\" target=\"_parent\"><img src=\"https://colab.research.google.com/assets/colab-badge.svg\" alt=\"Open In Colab\"/></a>"
      ]
    },
    {
      "cell_type": "markdown",
      "metadata": {
        "id": "jLtD_JsrPSb1"
      },
      "source": [
        "# Jordan標準形を利用した行列の累乗を求める過程の確認\n",
        "SymPy と Latexify を準備する。"
      ]
    },
    {
      "cell_type": "code",
      "execution_count": 1,
      "metadata": {
        "colab": {
          "base_uri": "https://localhost:8080/"
        },
        "id": "nyDn9ojtNwQV",
        "outputId": "d13422d8-a7c0-4331-feb1-d5adac4cfbad"
      },
      "outputs": [
        {
          "output_type": "stream",
          "name": "stderr",
          "text": [
            "\u001b[32m\u001b[1m    Updating\u001b[22m\u001b[39m registry at `~/.julia/registries/General.toml`\n",
            "\u001b[32m\u001b[1m   Resolving\u001b[22m\u001b[39m package versions...\n",
            "\u001b[32m\u001b[1m   Installed\u001b[22m\u001b[39m TermInterface ─ v2.0.0\n",
            "\u001b[32m\u001b[1m   Installed\u001b[22m\u001b[39m CommonEq ────── v0.2.1\n",
            "\u001b[32m\u001b[1m   Installed\u001b[22m\u001b[39m CommonSolve ─── v0.2.4\n",
            "\u001b[32m\u001b[1m   Installed\u001b[22m\u001b[39m PyCall ──────── v1.96.4\n",
            "\u001b[32m\u001b[1m   Installed\u001b[22m\u001b[39m SymPy ───────── v2.3.3\n",
            "\u001b[32m\u001b[1m   Installed\u001b[22m\u001b[39m SymPyCore ───── v0.3.1\n",
            "\u001b[32m\u001b[1m    Updating\u001b[22m\u001b[39m `~/.julia/environments/v1.10/Project.toml`\n",
            "  \u001b[90m[24249f21] \u001b[39m\u001b[92m+ SymPy v2.3.3\u001b[39m\n",
            "\u001b[32m\u001b[1m    Updating\u001b[22m\u001b[39m `~/.julia/environments/v1.10/Manifest.toml`\n",
            "  \u001b[90m[3709ef60] \u001b[39m\u001b[92m+ CommonEq v0.2.1\u001b[39m\n",
            "  \u001b[90m[38540f10] \u001b[39m\u001b[92m+ CommonSolve v0.2.4\u001b[39m\n",
            "  \u001b[90m[438e738f] \u001b[39m\u001b[92m+ PyCall v1.96.4\u001b[39m\n",
            "  \u001b[90m[24249f21] \u001b[39m\u001b[92m+ SymPy v2.3.3\u001b[39m\n",
            "  \u001b[90m[458b697b] \u001b[39m\u001b[92m+ SymPyCore v0.3.1\u001b[39m\n",
            "  \u001b[90m[8ea1fca8] \u001b[39m\u001b[92m+ TermInterface v2.0.0\u001b[39m\n",
            "\u001b[32m\u001b[1m    Building\u001b[22m\u001b[39m PyCall → `~/.julia/scratchspaces/44cfe95a-1eb2-52ea-b672-e2afdf69b78f/9816a3826b0ebf49ab4926e2b18842ad8b5c8f04/build.log`\n",
            "\u001b[32m\u001b[1mPrecompiling\u001b[22m\u001b[39m packages...\n",
            "   3743.4 ms\u001b[32m  ✓ \u001b[39m\u001b[90mCommonEq\u001b[39m\n",
            "   2136.5 ms\u001b[32m  ✓ \u001b[39m\u001b[90mCommonSolve\u001b[39m\n",
            "   3070.5 ms\u001b[32m  ✓ \u001b[39m\u001b[90mTermInterface\u001b[39m\n",
            "   7023.8 ms\u001b[32m  ✓ \u001b[39m\u001b[90mSymPyCore\u001b[39m\n",
            "  25589.3 ms\u001b[32m  ✓ \u001b[39m\u001b[90mPyCall\u001b[39m\n",
            "   2327.8 ms\u001b[32m  ✓ \u001b[39mSymPy\n",
            "  6 dependencies successfully precompiled in 41 seconds. 459 already precompiled.\n",
            "\u001b[32m\u001b[1m   Resolving\u001b[22m\u001b[39m package versions...\n",
            "\u001b[32m\u001b[1m    Updating\u001b[22m\u001b[39m `~/.julia/environments/v1.10/Project.toml`\n",
            "  \u001b[90m[23fbe1c1] \u001b[39m\u001b[92m+ Latexify v0.16.7\u001b[39m\n",
            "\u001b[32m\u001b[1m  No Changes\u001b[22m\u001b[39m to `~/.julia/environments/v1.10/Manifest.toml`\n"
          ]
        }
      ],
      "source": [
        "using Pkg\n",
        "Pkg.add(\"SymPy\")\n",
        "Pkg.add(\"Latexify\")"
      ]
    },
    {
      "cell_type": "markdown",
      "metadata": {
        "id": "48xyy4HZQ7zt"
      },
      "source": [
        "**Latexfy, SymPy, LinearAlgebra** を使う"
      ]
    },
    {
      "cell_type": "code",
      "execution_count": 2,
      "metadata": {
        "id": "uFYG94vrOAXA"
      },
      "outputs": [],
      "source": [
        "using Latexify,SymPy,LinearAlgebra"
      ]
    },
    {
      "cell_type": "markdown",
      "source": [
        "$$A=\\left(\\begin{array}~ 1&1&0&0\\\\1&1&1&0\\\\1&1&1&1\\\\1&1&1&1\\end{array}\\right)$$として, $A$の累乗を求めたい。\n",
        "ただ, 明らかに同じ成分の行があるので, 行列式は$0$になるし,\n",
        "対角化は無理だ。\n",
        "\n",
        "そこで, **Jordan標準形**を利用しようとなる。\n",
        "他にも色々変形はあるのだろうけど。\n",
        "\n",
        "そもそもが**Jordan標準形**とは対角成分だけでにできなくても,\n",
        "対角に扱い易い正方行列が並ぶ次のような形様の行列。(縦横の線は「扱い易い正方行列」を見易くできるかと入れてありますが本来描くべきものではありません)\n",
        "$$J=\\left(\\begin{array}{ccc|c|cc|c}~\n",
        "\\lambda_1&1&0&0&0&0&0\\\\\n",
        "0&\\lambda_1&1&0&0&0&0\\\\\n",
        "0&0&\\lambda_1&0&0&0&0\\\\\\hline\n",
        "0&0&0&\\lambda_2&0&0&0\\\\\\hline\n",
        "0&0&0&0&\\lambda_3&1&0\\\\\n",
        "0&0&0&0&0&\\lambda_3&0\\\\\\hline\n",
        "0&0&0&0&0&0&\\lambda_4\\\\\n",
        "\\end{array}\\right)$$\n",
        "というものです。$\\lambda_i$は固有値です。\n",
        "\n",
        "この固有値は, 次のような行列の行列式が$0$になる値として設定されています。\n",
        "\n",
        "そして任意の行列は必ずこのような**Jordan標準形**を持ち,\n",
        "適切な行列$P$が存在して,\n",
        "$$P^{-1}AP=J$$\n",
        "を満たすと。これより,  \n",
        "$$AP=PJ$$\n",
        "であり, 更に\n",
        "$$A=PJP^{-1}$$\n",
        "が成り立っている。\n",
        "\n",
        "そこで,\n",
        "$$B=A-\\lambda I=\\left(\\begin{array}{cccc}~ 1-\\lambda&1&0&0\\\\1&1-\\lambda&1&0\\\\1&1&1-\\lambda&1\\\\1&1&1&1-\\lambda\\end{array}\\right)$$\n",
        "を用意しておきます。"
      ],
      "metadata": {
        "id": "qVJ2edtH6Ike"
      }
    },
    {
      "cell_type": "code",
      "execution_count": 3,
      "metadata": {
        "colab": {
          "base_uri": "https://localhost:8080/",
          "height": 68
        },
        "id": "xkBKO4GOPOgH",
        "outputId": "41ae15bd-62fc-44e2-fe5e-56515e957f5b"
      },
      "outputs": [
        {
          "output_type": "execute_result",
          "data": {
            "text/plain": [
              "4×4 Matrix{Sym{PyCall.PyObject}}:\n",
              " 1 - λ           1           0           0\n",
              "          1  1 - λ           1           0\n",
              "          1           1  1 - λ           1\n",
              "          1           1           1  1 - λ"
            ],
            "text/latex": "$\\left[\\begin{smallmatrix}1 - \\lambda & 1 & 0 & 0\\\\1 & 1 - \\lambda & 1 & 0\\\\1 & 1 & 1 - \\lambda & 1\\\\1 & 1 & 1 & 1 - \\lambda\\end{smallmatrix}\\right]$"
          },
          "metadata": {},
          "execution_count": 3
        }
      ],
      "source": [
        "A=SymPy.Matrix([1 1 0 0;1 1 1 0;1 1 1 1;1 1 1 1])\n",
        "lambda=symbols(\"lambda\",commutative = true)\n",
        "B=A-lambda*1I(4)\n",
        "B"
      ]
    },
    {
      "cell_type": "markdown",
      "source": [
        "この$B=A-\\lambda I$の行列式を計算して貰い, ついでに因数分解もしてもらう。"
      ],
      "metadata": {
        "id": "nyeltSRR7V9y"
      }
    },
    {
      "cell_type": "code",
      "execution_count": 4,
      "metadata": {
        "colab": {
          "base_uri": "https://localhost:8080/",
          "height": 38
        },
        "id": "hl1G57MpPaZN",
        "outputId": "5f464cec-f85a-4de9-b0df-3bbfea3a3523"
      },
      "outputs": [
        {
          "output_type": "execute_result",
          "data": {
            "text/plain": [
              " 2                \n",
              "λ ⋅(λ - 3)⋅(λ - 1)"
            ],
            "text/latex": "$\\lambda^{2} \\left(\\lambda - 3\\right) \\left(\\lambda - 1\\right)$"
          },
          "metadata": {},
          "execution_count": 4
        }
      ],
      "source": [
        "factor(det(B))"
      ]
    },
    {
      "cell_type": "markdown",
      "source": [
        "$B=A-\\lambda I$ の行列式が $0$ になるような $\\lambda$ について解いて貰う... のだけど, 綺麗に因数分解できているので, 既に $\\lambda=0,1,3$ であることは分かっている。\n",
        "\n",
        "そして何より, 固有値が分かったので, **Jordan標準形**である$J$が\n",
        "$$J=\\left(\\begin{array}{cc|c|c}~\n",
        "\\lambda_1&1&0&0\\\\\n",
        "0&\\lambda_1&0&0\\\\\\hline\n",
        "0&0&\\lambda_2&0\\\\\\hline\n",
        "0&0&0&\\lambda_3\n",
        "\\end{array}\\right)=\n",
        "\\left(\\begin{array}{cccc}~\n",
        "0&1&0&0\\\\\n",
        "0&0&0&0\\\\%\\hline\n",
        "0&0&1&0\\\\%\\hline\n",
        "0&0&0&3\n",
        "\\end{array}\\right)$$\n",
        "であることがこの時点で分かっていることとなる。\n",
        "\n",
        "おそらくこの解を元にジョルダン標準形を拵えるのだったはず。"
      ],
      "metadata": {
        "id": "l8Be_Zfk79Y-"
      }
    },
    {
      "cell_type": "code",
      "execution_count": 5,
      "metadata": {
        "colab": {
          "base_uri": "https://localhost:8080/",
          "height": 49
        },
        "id": "K-fqn3kMRX_O",
        "outputId": "1bdfba76-8e20-4032-dad6-9535734354e6"
      },
      "outputs": [
        {
          "output_type": "execute_result",
          "data": {
            "text/plain": [
              "3-element Vector{Sym{PyCall.PyObject}}:\n",
              " 0\n",
              " 1\n",
              " 3"
            ],
            "text/latex": "$\\left[\\begin{smallmatrix}0\\\\1\\\\3\\end{smallmatrix}\\right]$"
          },
          "metadata": {},
          "execution_count": 5
        }
      ],
      "source": [
        "solve(det(B),lambda)"
      ]
    },
    {
      "cell_type": "markdown",
      "source": [
        "**Claude** はこのあとそれぞれの解(固有値と呼んでいる)から**一般化固有ベクトル**を求めるとしている。\n",
        "\n",
        "先ずは, $\\lambda=0$に対して, ベクトル$v$で$Av=0$となるものを求めるようだ。"
      ],
      "metadata": {
        "id": "BUyDkV9U8sPW"
      }
    },
    {
      "cell_type": "code",
      "source": [
        "a,b,c,d,v=symbols(\"a,b,c,d,v\",commutative = true)\n",
        "v=[a;b;c;d]\n",
        "zr=[0,0,0,0]\n",
        "A*v"
      ],
      "metadata": {
        "colab": {
          "base_uri": "https://localhost:8080/",
          "height": 68
        },
        "id": "lSAn9uJU-eop",
        "outputId": "e2975843-4191-4ecd-dd4d-f2ab3e69fa5f"
      },
      "execution_count": 6,
      "outputs": [
        {
          "output_type": "execute_result",
          "data": {
            "text/plain": [
              "4-element Vector{Sym{PyCall.PyObject}}:\n",
              "         a + b\n",
              "     a + b + c\n",
              " a + b + c + d\n",
              " a + b + c + d"
            ],
            "text/latex": "$\\left[\\begin{smallmatrix}a + b\\\\a + b + c\\\\a + b + c + d\\\\a + b + c + d\\end{smallmatrix}\\right]$"
          },
          "metadata": {},
          "execution_count": 6
        }
      ]
    },
    {
      "cell_type": "code",
      "source": [
        "linsolve([a+b,a+b+c,a+b+c+d],(a,b,c))\n",
        "v_1=[1,-1,0,0]"
      ],
      "metadata": {
        "colab": {
          "base_uri": "https://localhost:8080/"
        },
        "id": "As-ZKS4l-_om",
        "outputId": "9d623288-5157-4075-ac61-a61c24a96096"
      },
      "execution_count": 7,
      "outputs": [
        {
          "output_type": "execute_result",
          "data": {
            "text/plain": [
              "4-element Vector{Int64}:\n",
              "  1\n",
              " -1\n",
              "  0\n",
              "  0"
            ]
          },
          "metadata": {},
          "execution_count": 7
        }
      ]
    },
    {
      "cell_type": "markdown",
      "source": [
        "うーん... コレは**Julia**や**Python**だとどうすれば解けるのだろう。\n",
        "上のセルに書いてある**linsolve([a+b,a+b+c,a+b+c+d],(a,b,c))**では解いてくれなかった。\n",
        "\n",
        "解は明らかに$a=a,\\ b=-a,\\ c=0,\\ d=0$ だ。\n",
        "\n",
        "コレにより,\n",
        "$$v_1=\\left(\\begin{array}{c}~1\\\\-1\\\\0\\\\0\\end{array}\\right)$$\n",
        "$$Av_1=0$$\n",
        "ということだ。\n",
        "\n",
        "で, $0$が重解だからか？\n",
        "次は, $Av_2=v_1$を解くのだけど..."
      ],
      "metadata": {
        "id": "hsugwWb784L4"
      }
    },
    {
      "cell_type": "code",
      "source": [
        "A*v"
      ],
      "metadata": {
        "colab": {
          "base_uri": "https://localhost:8080/",
          "height": 68
        },
        "id": "CQTc0hJ7EMwm",
        "outputId": "929b5b86-e409-414d-fb45-3d8e49db7dfe"
      },
      "execution_count": 8,
      "outputs": [
        {
          "output_type": "execute_result",
          "data": {
            "text/plain": [
              "4-element Vector{Sym{PyCall.PyObject}}:\n",
              "         a + b\n",
              "     a + b + c\n",
              " a + b + c + d\n",
              " a + b + c + d"
            ],
            "text/latex": "$\\left[\\begin{smallmatrix}a + b\\\\a + b + c\\\\a + b + c + d\\\\a + b + c + d\\end{smallmatrix}\\right]$"
          },
          "metadata": {},
          "execution_count": 8
        }
      ]
    },
    {
      "cell_type": "markdown",
      "source": [
        "仕方がないので, 見ながら解くと, $$v_1=[a,1-a,-2,1]$$となるか... コレにより,\n",
        "$$v_2=\\left(\\begin{array}{c}~0\\\\1\\\\-2\\\\1\\end{array}\\right)$$\n",
        "とするのか。で,\n",
        "$Av_2=v_1$\n",
        "となる。\n",
        "\n",
        "次は, $\\lambda=1$に対して, ベクトル$v$で $(A-1I)v=0$ となるものを求めるようだ。"
      ],
      "metadata": {
        "id": "_mhcTt2MEZCT"
      }
    },
    {
      "cell_type": "code",
      "source": [
        "(A-1I(4))*v"
      ],
      "metadata": {
        "colab": {
          "base_uri": "https://localhost:8080/",
          "height": 61
        },
        "id": "eZ_7Vp11Hxuw",
        "outputId": "76a9bd6a-c592-467d-d2ba-441f8092917a"
      },
      "execution_count": 9,
      "outputs": [
        {
          "output_type": "execute_result",
          "data": {
            "text/plain": [
              "4-element Vector{Sym{PyCall.PyObject}}:\n",
              "         b\n",
              "     a + c\n",
              " a + b + d\n",
              " a + b + c"
            ],
            "text/latex": "$\\left[\\begin{smallmatrix}b\\\\a + c\\\\a + b + d\\\\a + b + c\\end{smallmatrix}\\right]$"
          },
          "metadata": {},
          "execution_count": 9
        }
      ]
    },
    {
      "cell_type": "markdown",
      "source": [
        "これも見ながら解けば, $$v_3=[a,0,-a,-a]$$となる。コレより,\n",
        "$$v_3=\\left(\\begin{array}{c}~1\\\\0\\\\-1\\\\-1\\end{array}\\right)$$\n",
        "とする。\n",
        "$Av_3=v_3$となるわけだ。\n",
        "\n",
        "次は, $\\lambda=3$に対して, ベクトル$v$で $(A-3I)v=0$ となるものを求める。"
      ],
      "metadata": {
        "id": "d08tIFoqISRY"
      }
    },
    {
      "cell_type": "code",
      "source": [
        "(A-3I(4))*v"
      ],
      "metadata": {
        "colab": {
          "base_uri": "https://localhost:8080/",
          "height": 68
        },
        "id": "ALaJPJy4JK_G",
        "outputId": "50477336-6ab7-46ac-9124-6a5e2a3fec92"
      },
      "execution_count": 10,
      "outputs": [
        {
          "output_type": "execute_result",
          "data": {
            "text/plain": [
              "4-element Vector{Sym{PyCall.PyObject}}:\n",
              "        -2⋅a + b\n",
              "     a - 2⋅b + c\n",
              " a + b - 2⋅c + d\n",
              " a + b + c - 2⋅d"
            ],
            "text/latex": "$\\left[\\begin{smallmatrix}- 2 a + b\\\\a - 2 b + c\\\\a + b - 2 c + d\\\\a + b + c - 2 d\\end{smallmatrix}\\right]$"
          },
          "metadata": {},
          "execution_count": 10
        }
      ]
    },
    {
      "cell_type": "markdown",
      "source": [
        "これも見ながら解けば, $$v_4=[a,2a,3a,3a]$$となる。コレより,\n",
        "$$v_4=\\left(\\begin{array}~1\\\\2\\\\3\\\\3\\end{array}\\right)$$\n",
        "とする。\n",
        "$Av_4=3v_4$となるわけだ。\n",
        "\n",
        "あとは, ここまでで得た, $v_1,v_2,v_3,v_4$を並べれば次のように$P$が構成できるのだと。\n",
        "$$P=\\left(\\begin{array}{cccc}~1&0&1&1\\\\-1&1&0&2\\\\0&-2&-1&3\\\\0&1&-1&3\\end{array}\\right)$$\n",
        "どういう具合だろう？\n",
        "\n",
        "つまり, $P^{-1}AP=J$ つまり $AP=PJ$ なのだが,  \n",
        "\\begin{align*}\n",
        "Av_1&=0\\\\\n",
        "Av_2&=v_1\\\\\n",
        "Av_3&=Iv_3=v_3\\\\\n",
        "Av_4&=3Iv_4=3v_4\\\\\n",
        "\\end{align*}\n",
        "だから,\n",
        "\\begin{align*}\n",
        "AP=\\left(\\begin{array}~0&v_1&v_2&3v_3\\end{array}\\right)\n",
        "\\end{align*}\n"
      ],
      "metadata": {
        "id": "96LOB9BBJgbF"
      }
    },
    {
      "cell_type": "code",
      "execution_count": 11,
      "metadata": {
        "colab": {
          "base_uri": "https://localhost:8080/",
          "height": 60
        },
        "id": "a3vlOsbGSYuq",
        "outputId": "44092eb0-73d0-4b32-e0f0-095fbb68e3f3"
      },
      "outputs": [
        {
          "output_type": "execute_result",
          "data": {
            "text/plain": [
              "4×4 Matrix{Sym{PyCall.PyObject}}:\n",
              "  1   0   1  1\n",
              " -1   1   0  2\n",
              "  0  -2  -1  3\n",
              "  0   1  -1  3"
            ],
            "text/latex": "$\\left[\\begin{smallmatrix}1 & 0 & 1 & 1\\\\-1 & 1 & 0 & 2\\\\0 & -2 & -1 & 3\\\\0 & 1 & -1 & 3\\end{smallmatrix}\\right]$"
          },
          "metadata": {},
          "execution_count": 11
        }
      ],
      "source": [
        "P=SymPy.Matrix([sympy.sqrt(1) 0 1 1;-1 1 0 2;0 -2 -1 3;0 1 -1 3])"
      ]
    },
    {
      "cell_type": "markdown",
      "source": [
        "$P$の逆行列は求められるので, あとは$P^{-1}AP$を計算すれば**Jordan標準形**$J$が得られる。"
      ],
      "metadata": {
        "id": "xua0Mn5vI-sv"
      }
    },
    {
      "cell_type": "code",
      "source": [
        "inv(P)"
      ],
      "metadata": {
        "colab": {
          "base_uri": "https://localhost:8080/",
          "height": 73
        },
        "id": "gpDwuzTTIu3U",
        "outputId": "90cdd7da-f58a-462d-8d76-0dd9aa65f1d4"
      },
      "execution_count": 12,
      "outputs": [
        {
          "output_type": "execute_result",
          "data": {
            "text/plain": [
              "4×4 Matrix{Sym{PyCall.PyObject}}:\n",
              " 1/3  -2/3  -1/9   4/9\n",
              "   0     0  -1/3   1/3\n",
              " 1/2   1/2     0  -1/2\n",
              " 1/6   1/6   1/9  1/18"
            ],
            "text/latex": "$\\left[\\begin{smallmatrix}\\frac{1}{3} & - \\frac{2}{3} & - \\frac{1}{9} & \\frac{4}{9}\\\\0 & 0 & - \\frac{1}{3} & \\frac{1}{3}\\\\\\frac{1}{2} & \\frac{1}{2} & 0 & - \\frac{1}{2}\\\\\\frac{1}{6} & \\frac{1}{6} & \\frac{1}{9} & \\frac{1}{18}\\end{smallmatrix}\\right]$"
          },
          "metadata": {},
          "execution_count": 12
        }
      ]
    },
    {
      "cell_type": "code",
      "source": [
        "A*P"
      ],
      "metadata": {
        "colab": {
          "base_uri": "https://localhost:8080/",
          "height": 60
        },
        "id": "uT8k6t16GuP-",
        "outputId": "f1ee2b45-6d40-4f35-81d9-b111e087e9c4"
      },
      "execution_count": 13,
      "outputs": [
        {
          "output_type": "execute_result",
          "data": {
            "text/plain": [
              "4×4 Matrix{Sym{PyCall.PyObject}}:\n",
              " 0   1   1  3\n",
              " 0  -1   0  6\n",
              " 0   0  -1  9\n",
              " 0   0  -1  9"
            ],
            "text/latex": "$\\left[\\begin{smallmatrix}0 & 1 & 1 & 3\\\\0 & -1 & 0 & 6\\\\0 & 0 & -1 & 9\\\\0 & 0 & -1 & 9\\end{smallmatrix}\\right]$"
          },
          "metadata": {},
          "execution_count": 13
        }
      ]
    },
    {
      "cell_type": "markdown",
      "source": [
        "固有値$0$が重解なので, $0$が多い行列になっている。スカスカだ。"
      ],
      "metadata": {
        "id": "oGTa6Z_zJXC8"
      }
    },
    {
      "cell_type": "code",
      "execution_count": 14,
      "metadata": {
        "colab": {
          "base_uri": "https://localhost:8080/",
          "height": 60
        },
        "id": "VvE878kMVNOg",
        "outputId": "04128c55-bb63-442b-dd49-09e2a10d2916"
      },
      "outputs": [
        {
          "output_type": "execute_result",
          "data": {
            "text/plain": [
              "4×4 Matrix{Sym{PyCall.PyObject}}:\n",
              " 0  1  0  0\n",
              " 0  0  0  0\n",
              " 0  0  1  0\n",
              " 0  0  0  3"
            ],
            "text/latex": "$\\left[\\begin{smallmatrix}0 & 1 & 0 & 0\\\\0 & 0 & 0 & 0\\\\0 & 0 & 1 & 0\\\\0 & 0 & 0 & 3\\end{smallmatrix}\\right]$"
          },
          "metadata": {},
          "execution_count": 14
        }
      ],
      "source": [
        "J=inv(P)*A*P"
      ]
    },
    {
      "cell_type": "markdown",
      "source": [
        "そして当然だが, このスカスカの行列$J$に$P$と$P^{-1}$を掛ければ$A$となる。"
      ],
      "metadata": {
        "id": "qxm_kjPpJlBC"
      }
    },
    {
      "cell_type": "code",
      "execution_count": 15,
      "metadata": {
        "colab": {
          "base_uri": "https://localhost:8080/",
          "height": 60
        },
        "id": "n6grrvzMWMT8",
        "outputId": "d41df44f-983f-47f7-dc45-0b288ba06709"
      },
      "outputs": [
        {
          "output_type": "execute_result",
          "data": {
            "text/plain": [
              "4×4 Matrix{Sym{PyCall.PyObject}}:\n",
              " 1  1  0  0\n",
              " 1  1  1  0\n",
              " 1  1  1  1\n",
              " 1  1  1  1"
            ],
            "text/latex": "$\\left[\\begin{smallmatrix}1 & 1 & 0 & 0\\\\1 & 1 & 1 & 0\\\\1 & 1 & 1 & 1\\\\1 & 1 & 1 & 1\\end{smallmatrix}\\right]$"
          },
          "metadata": {},
          "execution_count": 15
        }
      ],
      "source": [
        "P*J*inv(P)"
      ]
    },
    {
      "cell_type": "code",
      "execution_count": 16,
      "metadata": {
        "colab": {
          "base_uri": "https://localhost:8080/",
          "height": 60
        },
        "id": "LXbhR5i2XLsa",
        "outputId": "06e20468-aac3-4d07-c42c-fbf9f0ecbb7b"
      },
      "outputs": [
        {
          "output_type": "execute_result",
          "data": {
            "text/plain": [
              "4×4 Matrix{Sym{PyCall.PyObject}}:\n",
              " 0  0  0  0\n",
              " 0  0  0  0\n",
              " 0  0  1  0\n",
              " 0  0  0  9"
            ],
            "text/latex": "$\\left[\\begin{smallmatrix}0 & 0 & 0 & 0\\\\0 & 0 & 0 & 0\\\\0 & 0 & 1 & 0\\\\0 & 0 & 0 & 9\\end{smallmatrix}\\right]$"
          },
          "metadata": {},
          "execution_count": 16
        }
      ],
      "source": [
        "J^2"
      ]
    },
    {
      "cell_type": "code",
      "execution_count": 17,
      "metadata": {
        "colab": {
          "base_uri": "https://localhost:8080/",
          "height": 60
        },
        "id": "HAkPwK1jYC6O",
        "outputId": "831a60b3-7881-44f9-e081-bba3a465bd90"
      },
      "outputs": [
        {
          "output_type": "execute_result",
          "data": {
            "text/plain": [
              "4×4 Matrix{Sym{PyCall.PyObject}}:\n",
              " 0  0  0   0\n",
              " 0  0  0   0\n",
              " 0  0  1   0\n",
              " 0  0  0  27"
            ],
            "text/latex": "$\\left[\\begin{smallmatrix}0 & 0 & 0 & 0\\\\0 & 0 & 0 & 0\\\\0 & 0 & 1 & 0\\\\0 & 0 & 0 & 27\\end{smallmatrix}\\right]$"
          },
          "metadata": {},
          "execution_count": 17
        }
      ],
      "source": [
        "J^3"
      ]
    },
    {
      "cell_type": "code",
      "execution_count": 18,
      "metadata": {
        "colab": {
          "base_uri": "https://localhost:8080/",
          "height": 60
        },
        "id": "njKr4d5QYEFT",
        "outputId": "f291a993-3a99-48b6-e667-9645b3bc17bc"
      },
      "outputs": [
        {
          "output_type": "execute_result",
          "data": {
            "text/plain": [
              "4×4 Matrix{Sym{PyCall.PyObject}}:\n",
              " 0  0  0   0\n",
              " 0  0  0   0\n",
              " 0  0  1   0\n",
              " 0  0  0  81"
            ],
            "text/latex": "$\\left[\\begin{smallmatrix}0 & 0 & 0 & 0\\\\0 & 0 & 0 & 0\\\\0 & 0 & 1 & 0\\\\0 & 0 & 0 & 81\\end{smallmatrix}\\right]$"
          },
          "metadata": {},
          "execution_count": 18
        }
      ],
      "source": [
        "J^4"
      ]
    },
    {
      "cell_type": "markdown",
      "source": [
        "明らかに, $J^n=\\begin{pmatrix}0&0&0&0\\\\0&0&0&0\\\\0&0&1&0\\\\0&0&0&3^n\\\\\\end{pmatrix}$だと分かる。すると, $A^n=PJ^nP^{-1}$だから,"
      ],
      "metadata": {
        "id": "IqwCv7UzKIc4"
      }
    },
    {
      "cell_type": "markdown",
      "source": [],
      "metadata": {
        "id": "0ragIJWxKYQm"
      }
    },
    {
      "cell_type": "code",
      "source": [
        "n=symbols(\"n\",commutative = true)\n",
        "JJ=[0 0 0 0;0 0 0 0;0 0 1 0;0 0 0 3^n]"
      ],
      "metadata": {
        "id": "FBSlXA0x8ssw",
        "colab": {
          "base_uri": "https://localhost:8080/",
          "height": 61
        },
        "outputId": "996e4e83-72b3-455c-cff5-ee62fec0e34b"
      },
      "execution_count": 28,
      "outputs": [
        {
          "output_type": "execute_result",
          "data": {
            "text/plain": [
              "4×4 Matrix{Sym{PyCall.PyObject}}:\n",
              " 0  0  0    0\n",
              " 0  0  0    0\n",
              " 0  0  1    0\n",
              " 0  0  0  3^n"
            ],
            "text/latex": "$\\left[\\begin{smallmatrix}0 & 0 & 0 & 0\\\\0 & 0 & 0 & 0\\\\0 & 0 & 1 & 0\\\\0 & 0 & 0 & 3^{n}\\end{smallmatrix}\\right]$"
          },
          "metadata": {},
          "execution_count": 28
        }
      ]
    },
    {
      "cell_type": "code",
      "source": [
        "AA=P*JJ*inv(P)\n",
        "simplify.(AA)"
      ],
      "metadata": {
        "colab": {
          "base_uri": "https://localhost:8080/",
          "height": 78
        },
        "id": "ihIOQh5ALG9e",
        "outputId": "f7adb988-f7a2-4d10-aed2-e124c7be7ecd"
      },
      "execution_count": 37,
      "outputs": [
        {
          "output_type": "execute_result",
          "data": {
            "text/plain": [
              "4×4 Matrix{Sym{PyCall.PyObject}}:\n",
              " 3^n/6 + 1/2  3^n/6 + 1/2    3^(n - 2)  3^n/18 - 1/2\n",
              "   3^(n - 1)    3^(n - 1)  2*3^(n - 2)     3^(n - 2)\n",
              " 3^n/2 - 1/2  3^n/2 - 1/2    3^(n - 1)   3^n/6 + 1/2\n",
              " 3^n/2 - 1/2  3^n/2 - 1/2    3^(n - 1)   3^n/6 + 1/2"
            ],
            "text/latex": "$\\left[\\begin{smallmatrix}\\frac{3^{n}}{6} + \\frac{1}{2} & \\frac{3^{n}}{6} + \\frac{1}{2} & 3^{n - 2} & \\frac{3^{n}}{18} - \\frac{1}{2}\\\\3^{n - 1} & 3^{n - 1} & 2 \\cdot 3^{n - 2} & 3^{n - 2}\\\\\\frac{3^{n}}{2} - \\frac{1}{2} & \\frac{3^{n}}{2} - \\frac{1}{2} & 3^{n - 1} & \\frac{3^{n}}{6} + \\frac{1}{2}\\\\\\frac{3^{n}}{2} - \\frac{1}{2} & \\frac{3^{n}}{2} - \\frac{1}{2} & 3^{n - 1} & \\frac{3^{n}}{6} + \\frac{1}{2}\\end{smallmatrix}\\right]$"
          },
          "metadata": {},
          "execution_count": 37
        }
      ]
    },
    {
      "cell_type": "code",
      "source": [
        "subs.(AA,(n=>10))"
      ],
      "metadata": {
        "colab": {
          "base_uri": "https://localhost:8080/",
          "height": 60
        },
        "id": "z__DbeV_Mxvb",
        "outputId": "d62f471d-6c99-4f5b-a967-c4e2f3e45fc8"
      },
      "execution_count": 44,
      "outputs": [
        {
          "output_type": "execute_result",
          "data": {
            "text/plain": [
              "4×4 Matrix{Sym{PyCall.PyObject}}:\n",
              "  9842   9842   6561  3280\n",
              " 19683  19683  13122  6561\n",
              " 29524  29524  19683  9842\n",
              " 29524  29524  19683  9842"
            ],
            "text/latex": "$\\left[\\begin{smallmatrix}9842 & 9842 & 6561 & 3280\\\\19683 & 19683 & 13122 & 6561\\\\29524 & 29524 & 19683 & 9842\\\\29524 & 29524 & 19683 & 9842\\end{smallmatrix}\\right]$"
          },
          "metadata": {},
          "execution_count": 44
        }
      ]
    }
  ],
  "metadata": {
    "colab": {
      "gpuType": "T4",
      "provenance": [],
      "authorship_tag": "ABX9TyN2pMBYF1+zKqjunfPDj49N",
      "include_colab_link": true
    },
    "kernelspec": {
      "display_name": "Julia",
      "name": "julia"
    },
    "language_info": {
      "name": "julia"
    }
  },
  "nbformat": 4,
  "nbformat_minor": 0
}