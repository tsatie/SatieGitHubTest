{
 "cells": [
  {
   "cell_type": "markdown",
   "id": "0da1e031-b7fe-4793-b857-32232a7bf39a",
   "metadata": {},
   "source": [
    "# Nemoの使い方...というよりは有限体の応用？\n",
    "## Qiitaにある記事「今さら森博嗣「笑わない数学者」のビリヤードの問題を解く(8)～謎は全て解けた」  \n",
    "の中にある\n",
    "### 「2.有限体の射影平面による解法」\n",
    "を書いてない方策で。"
   ]
  },
  {
   "cell_type": "code",
   "execution_count": 9,
   "id": "c3a041ad-e441-4d79-87b8-88a7e164a789",
   "metadata": {},
   "outputs": [],
   "source": [
    "using Nemo"
   ]
  },
  {
   "cell_type": "markdown",
   "id": "9b498106-9991-442a-979f-0ae758ce93d8",
   "metadata": {},
   "source": [
    "### 3次の既約多項式として $f(x)=x^3+x^2+x+\\omega$ を選ぶってのがよく分からなかった...\n",
    "ので, $\\omega$は使わずに直接$F_{2^6}=F_{64}$でやってみた。"
   ]
  },
  {
   "cell_type": "code",
   "execution_count": 19,
   "id": "25da3f8b-39c8-4ea6-8a9a-3e77e214dd81",
   "metadata": {},
   "outputs": [
    {
     "name": "stdout",
     "output_type": "stream",
     "text": [
      "Finite field of degree 6 and characteristic 2,  f=x^6 + x^4 + x^3 + x + 1\n"
     ]
    }
   ],
   "source": [
    "#F64,α=finite_field(64,\"α\")\n",
    "F64,α=finite_field(2,6,\"α\")\n",
    "f=defining_polynomial(F64)\n",
    "println(F64,\",  f=\",f)"
   ]
  },
  {
   "cell_type": "markdown",
   "id": "ab64639b-a3a4-403a-a474-2f8d17488a66",
   "metadata": {},
   "source": [
    "finite_field(64,\"$\\alpha$\")でも, finite_field(2,6,\"$\\alpha$\")でも同じようだ。  \n",
    "そして, 定義多項式は $x^6 + x^4 + x^3 + x + 1$ という$6$次の既約方程式らしい。  \n",
    "##### これを利用して $\\alpha^0$ から $\\alpha^{21}$ まで順次求めていき， $\\alpha^i$ を $\\alpha$ の5次式以下に次数下げを行って表す。」\n",
    "計算を **Julia** に任せた。"
   ]
  },
  {
   "cell_type": "code",
   "execution_count": 18,
   "id": "1f8a3c8b-d463-4cf0-9349-e131aa99199c",
   "metadata": {},
   "outputs": [
    {
     "name": "stdout",
     "output_type": "stream",
     "text": [
      "0: 1   ***\n",
      "1: α   ***\n",
      "2: α^2\n",
      "3: α^3\n",
      "4: α^4   ***\n",
      "5: α^5\n",
      "6: α^4 + α^3 + α + 1\n",
      "7: α^5 + α^4 + α^2 + α\n",
      "8: α^5 + α^4 + α^2 + α + 1\n",
      "9: α^5 + α^4 + α^2 + 1\n",
      "10: α^5 + α^4 + 1\n",
      "11: α^5 + α^4 + α^3 + 1\n",
      "12: α^5 + α^3 + 1\n",
      "13: α^3 + 1\n",
      "14: α^4 + α   ***\n",
      "15: α^5 + α^2\n",
      "16: α^4 + α + 1   ***\n",
      "17: α^5 + α^2 + α\n",
      "18: α^4 + α^2 + α + 1\n",
      "19: α^5 + α^3 + α^2 + α\n",
      "20: α^2 + α + 1\n",
      "21: α^3 + α^2 + α\n",
      "Any[0, 1, 4, 14, 16, 21]Any[1, 3, 10, 2, 5]\n"
     ]
    }
   ],
   "source": [
    "i,e,dset=0,α^21,[]\n",
    "while α^i!=e\n",
    "#for i=0:oF\n",
    "    print(i,\": \",α^i)\n",
    "    if coeff(α^i,2)==0 && coeff(α^i,3)==0 && coeff(α^i,5)==0\n",
    "        push!(dset,i)\n",
    "        print(\"   ***\\n\")\n",
    "    else\n",
    "        print(\"\\n\")\n",
    "    end\n",
    "    i=i+1\n",
    "end\n",
    "println(i,\": \",α^i)\n",
    "push!(dset,i)\n",
    "blst=[]\n",
    "for i=2:length(dset)\n",
    "    push!(blst,dset[i]-dset[i-1])\n",
    "end\n",
    "println(dset,blst)"
   ]
  },
  {
   "cell_type": "markdown",
   "id": "c58465d5-ce53-4f9c-8cf5-8235b94125fd",
   "metadata": {},
   "source": [
    "ここで少し試行錯誤して, $\\alpha^2,\\ \\alpha^3,\\ \\alpha^5$がない$i$を記録すると...  \n",
    "3次の既約多項式として $f(x)=x^3+x^2+x+\\omega$ を選ぶ場合と同じ（？）結論が得られた..."
   ]
  },
  {
   "cell_type": "code",
   "execution_count": 35,
   "id": "0360d451-132c-4805-97c8-ff5918fda500",
   "metadata": {},
   "outputs": [
    {
     "name": "stdout",
     "output_type": "stream",
     "text": [
      "Finite field of degree 6 and characteristic 2,  g=x^6 + x^4 + x^3 + x + 1\n"
     ]
    }
   ],
   "source": [
    "Fb,β=finite_field(f,\"β\")\n",
    "g=defining_polynomial(F64)\n",
    "println(Fb,\",  g=\",g)"
   ]
  },
  {
   "cell_type": "code",
   "execution_count": 34,
   "id": "115895e9-05c2-4c70-9e21-ddf7687ee6db",
   "metadata": {},
   "outputs": [
    {
     "name": "stdout",
     "output_type": "stream",
     "text": [
      "1**, β**, β^2, β^3, β^4**, β^5, β^4 + β^3 + β + 1, β^5 + β^4 + β^2 + β, β^5 + β^4 + β^2 + β + 1, β^5 + β^4 + β^2 + 1, β^5 + β^4 + 1, β^5 + β^4 + β^3 + 1, β^5 + β^3 + 1, β^3 + 1, β^4 + β**, β^5 + β^2, β^4 + β + 1**, β^5 + β^2 + β, β^4 + β^2 + β + 1, β^5 + β^3 + β^2 + β, β^2 + β + 1, β^3 + β^2 + β\n",
      "Any[0, 1, 4, 14, 16, 21]\n",
      "Any[0, 1, 4, 14, 16, 21]Any[1, 3, 10, 2, 5]\n"
     ]
    }
   ],
   "source": [
    "ddset=[]\n",
    "i,e,dset=0,α^21,[]\n",
    "while α^i!=e\n",
    "#for i=0:21\n",
    "    print(β^i)\n",
    "    if (coeff(β^i,2)==0 && coeff(β^i,3)==0 && coeff(β^i,5)==0)# || (coeff(β^i,0)==0 && coeff(β^i,4)==0 && coeff(β^i,5)==0)\n",
    "        push!(ddset,i)\n",
    "        print(\"**, \")\n",
    "    else\n",
    "        print(\", \")\n",
    "    end\n",
    "    i=i+1\n",
    "end\n",
    "println(β^i)\n",
    "push!(ddset,i)\n",
    "#print(\"\\n\")\n",
    "println(ddset)\n",
    "bblst=[]\n",
    "for i=2:length(ddset)\n",
    "    push!(bblst,ddset[i]-ddset[i-1])\n",
    "end\n",
    "println(ddset,bblst)"
   ]
  },
  {
   "cell_type": "code",
   "execution_count": null,
   "id": "f947ee8f-39a4-4f1a-a6d6-47cfb4f0b6ca",
   "metadata": {},
   "outputs": [],
   "source": []
  }
 ],
 "metadata": {
  "kernelspec": {
   "display_name": "Julia 1.10.0",
   "language": "julia",
   "name": "julia-1.10"
  },
  "language_info": {
   "file_extension": ".jl",
   "mimetype": "application/julia",
   "name": "julia",
   "version": "1.10.0"
  }
 },
 "nbformat": 4,
 "nbformat_minor": 5
}
