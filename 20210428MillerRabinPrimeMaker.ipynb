{
  "nbformat": 4,
  "nbformat_minor": 0,
  "metadata": {
    "colab": {
      "name": "20210428MillerRabinPrimeMaker.ipynb",
      "provenance": [],
      "collapsed_sections": [],
      "authorship_tag": "ABX9TyOYg1FxroEkM+1ysQJgH2CZ",
      "include_colab_link": true
    },
    "kernelspec": {
      "name": "python3",
      "display_name": "Python 3"
    },
    "language_info": {
      "name": "python"
    }
  },
  "cells": [
    {
      "cell_type": "markdown",
      "metadata": {
        "id": "view-in-github",
        "colab_type": "text"
      },
      "source": [
        "<a href=\"https://colab.research.google.com/github/tsatie/SatieGitHubTest/blob/master/20210428MillerRabinPrimeMaker.ipynb\" target=\"_parent\"><img src=\"https://colab.research.google.com/assets/colab-badge.svg\" alt=\"Open In Colab\"/></a>"
      ]
    },
    {
      "cell_type": "markdown",
      "metadata": {
        "id": "av245qpoC8s4"
      },
      "source": [
        "#Miller-Rabin素数判定法\n",
        "Python で試してみる\n",
        "\n",
        "n を素数かどうか判定する自然数とする。\n",
        "1. $n-1 = 2^k m$ となる$k,\\ m$を求める。 \n",
        "2. $2\\le a \\le n-1$を満たす自然数$a$を無作為に選ぶ\n",
        "3. $b=a^m\\!\\!\\!\\!\\mod\\!n$ を計算する  \n",
        "4. $b\\equiv 1\\ \\ (\\text{mod}\\ n)$ なら「$n$は素数である」と判定して停止する。\n",
        "5. $i=0$ から $k-1$ について、以下の計算を行う\n",
        "    1. $b\\equiv -1\\ \\ (\\text{mod}\\ n)$ なら「$n$は素数である」と判定して停止する\n",
        "    2. $b=b^2\\mod n$を計算する\n",
        "　　　　"
      ]
    },
    {
      "cell_type": "code",
      "metadata": {
        "colab": {
          "base_uri": "https://localhost:8080/"
        },
        "id": "AK7w-nJ4C7uR",
        "outputId": "436a64fe-95e4-4c93-e8b4-77492ed80959"
      },
      "source": [
        "import random\n",
        "import sympy\n",
        "def miller_rabin_test(n):\n",
        "  ans=False\n",
        "  # (1) n-1 = 2^k * m となる k,m を計算する\n",
        "  k = 0\n",
        "  m = n - 1\n",
        "  mod=0\n",
        "  while mod==0:\n",
        "    m, mod = divmod(m, 2)\n",
        "    k=k+1\n",
        "  m,k=m*2+1,k-1\n",
        "#  print(n, m, mod, k, 2**k*m)\n",
        "  for chg in range(1,100):\n",
        "    a=random.randint(2, n - 1)\n",
        "#    print(a)\n",
        "#    b=a\n",
        "    b=pow(a, m, n)\n",
        "#    for i in range(0,m):\n",
        "#      b=b*a\n",
        "#      b=b%n\n",
        "#    print(b)\n",
        "    if b==1:\n",
        "      ans=True\n",
        "      break\n",
        "    else:\n",
        "      for j in range(0,k):\n",
        "#        print (j,b)\n",
        "        if b==n-1:\n",
        "          ans=True\n",
        "          break\n",
        "        else:\n",
        "          b=(b**2)%n\n",
        "#  print(ans)\n",
        "  return ans\n",
        "\n",
        "nn=1\n",
        "for j in range(1,3):\n",
        "  n=0\n",
        "  while n%2==0:\n",
        "    n=0\n",
        "    for i in range(1,100):\n",
        "      n=n*10+random.randint(0,9)\n",
        "  print(n,miller_rabin_test(n))\n",
        "  n=n+2\n",
        "  while miller_rabin_test(n)==False:\n",
        "    n=n+2\n",
        "  print(n,miller_rabin_test(n))\n",
        "  print(sympy.isprime(n))\n",
        "  nn=nn*n\n",
        "print(nn)\n",
        "print(sympy.isprime(nn))\n"
      ],
      "execution_count": 156,
      "outputs": [
        {
          "output_type": "stream",
          "text": [
            "474373390445054598893629909855632342905427495101492412503249502985962992687250802147013285743388645 False\n",
            "474373390445054598893629909855632342905427495101492412503249502985962992687250802147013285743388873 True\n",
            "True\n",
            "623488351781554046358723449298890732358753138123978177389361456348050179526149196324228514630885965 False\n",
            "623488351781554046358723449298890732358753138123978177389361456348050179526149196324228514630886403 True\n",
            "True\n",
            "295766283337614690756394758232449878004717894058015798367519847908731847167814220310558095572073422943663379522463593995769715198733588191129570438671551112181993682469674544526356652782509117193819\n",
            "False\n"
          ],
          "name": "stdout"
        }
      ]
    },
    {
      "cell_type": "markdown",
      "metadata": {
        "id": "56RkVX-dFOf8"
      },
      "source": [
        "\n",
        "\n"
      ]
    },
    {
      "cell_type": "code",
      "metadata": {
        "colab": {
          "base_uri": "https://localhost:8080/"
        },
        "id": "3XoYAVyqfdTq",
        "outputId": "4d7c3f5c-9a2b-4850-f867-38a1d245e3c8"
      },
      "source": [
        "# Python 3 program to find a prime factor of composite using\n",
        "# Pollard's Rho algorithm\n",
        "import random\n",
        "import math\n",
        " \n",
        "# Function to calculate (base^exponent)%modulus\n",
        "def modular_pow(base, exponent,modulus):\n",
        " \n",
        "    # initialize result\n",
        "    result = 1\n",
        " \n",
        "    while (exponent > 0):\n",
        "     \n",
        "        # if y is odd, multiply base with result\n",
        "        if (exponent & 1):\n",
        "            result = (result * base) % modulus\n",
        " \n",
        "        # exponent = exponent/2\n",
        "        exponent = exponent >> 1\n",
        " \n",
        "        # base = base * base\n",
        "        base = (base * base) % modulus\n",
        "     \n",
        "    return result\n",
        " \n",
        "# method to return prime divisor for n\n",
        "def PollardRho( n):\n",
        " \n",
        "    # no prime divisor for 1\n",
        "    if (n == 1):\n",
        "        return n\n",
        " \n",
        "    # even number means one of the divisors is 2\n",
        "    if (n % 2 == 0):\n",
        "        return 2\n",
        " \n",
        "    # we will pick from the range [2, N)\n",
        "    x = (random.randint(0, 2) % (n - 2))\n",
        "    y = x\n",
        " \n",
        "    # the constant in f(x).\n",
        "    # Algorithm can be re-run with a different c\n",
        "    # if it throws failure for a composite.\n",
        "    c = (random.randint(0, 1) % (n - 1))\n",
        " \n",
        "    # Initialize candidate divisor (or result)\n",
        "    d = 1\n",
        " \n",
        "    # until the prime factor isn't obtained.\n",
        "    # If n is prime, return n\n",
        "    while (d == 1):\n",
        "     \n",
        "        # Tortoise Move: x(i+1) = f(x(i))\n",
        "        x = (modular_pow(x, 2, n) + c + n)%n\n",
        " \n",
        "        # Hare Move: y(i+1) = f(f(y(i)))\n",
        "        y = (modular_pow(y, 2, n) + c + n)%n\n",
        "        y = (modular_pow(y, 2, n) + c + n)%n\n",
        " \n",
        "        # check gcd of |x-y| and n\n",
        "        d = math.gcd(abs(x - y), n)\n",
        " \n",
        "        # retry if the algorithm fails to find prime factor\n",
        "        # with chosen x and c\n",
        "        if (d == n):\n",
        "            return PollardRho(n)\n",
        "     \n",
        "    return d\n",
        "\n",
        "nn=1\n",
        "for j in range(1,3):\n",
        "  n=0\n",
        "  while n%2==0:\n",
        "    n=0\n",
        "    for i in range(1,10):\n",
        "      n=n*10+random.randint(0,9)\n",
        "  print(n,miller_rabin_test(n))\n",
        "  n=n+2\n",
        "  while miller_rabin_test(n)==False:\n",
        "    n=n+2\n",
        "  print(n,miller_rabin_test(n))\n",
        "  print(sympy.isprime(n))\n",
        "  nn=nn*n\n",
        "print(nn)\n",
        "print(sympy.isprime(nn))\n",
        "# Driver function\n",
        "print(\"One of the divisors for\", nn , \"is \",PollardRho(nn))\n",
        "     \n",
        "# This code is contributed by chitranayal   "
      ],
      "execution_count": 168,
      "outputs": [
        {
          "output_type": "stream",
          "text": [
            "650772545 False\n",
            "650772547 True\n",
            "True\n",
            "811597193 False\n",
            "811597211 True\n",
            "True\n",
            "528165184140566417\n",
            "False\n",
            "One of the divisors for 528165184140566417 is  811597211\n"
          ],
          "name": "stdout"
        }
      ]
    }
  ]
}