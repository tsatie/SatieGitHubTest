{
  "nbformat": 4,
  "nbformat_minor": 0,
  "metadata": {
    "colab": {
      "name": "20210425SymPyTestA.ipynb",
      "provenance": [],
      "collapsed_sections": [],
      "authorship_tag": "ABX9TyPv1qBY6C1Hk3GLWKoL1b5T",
      "include_colab_link": true
    },
    "kernelspec": {
      "name": "python3",
      "display_name": "Python 3"
    },
    "language_info": {
      "name": "python"
    }
  },
  "cells": [
    {
      "cell_type": "markdown",
      "metadata": {
        "id": "view-in-github",
        "colab_type": "text"
      },
      "source": [
        "<a href=\"https://colab.research.google.com/github/tsatie/SatieGitHubTest/blob/master/20210425SymPyTestA.ipynb\" target=\"_parent\"><img src=\"https://colab.research.google.com/assets/colab-badge.svg\" alt=\"Open In Colab\"/></a>"
      ]
    },
    {
      "cell_type": "markdown",
      "metadata": {
        "id": "I7-fzSx95Vc1"
      },
      "source": [
        "# Sums of Powers of Integers \n",
        "A. F. Beardon\n",
        "\n",
        "をSymPyで遊んでみよう。できるかな？"
      ]
    },
    {
      "cell_type": "code",
      "metadata": {
        "id": "JvhmCwjaezP-"
      },
      "source": [
        "from sympy import *\n",
        "init_printing()"
      ],
      "execution_count": 1,
      "outputs": []
    },
    {
      "cell_type": "code",
      "metadata": {
        "colab": {
          "base_uri": "https://localhost:8080/",
          "height": 58
        },
        "id": "mNY-ycZy6s8y",
        "outputId": "3cbdd418-2012-4bd8-b413-944664892897"
      },
      "source": [
        "var('n')\n",
        "s=[summation(i**x,(i,1,n)) for x in range(10)]\n",
        "s[0],s[1],s[2],s[3],s[4]"
      ],
      "execution_count": 87,
      "outputs": [
        {
          "output_type": "execute_result",
          "data": {
            "image/png": "[encoded data removed]",
            "text/latex": "$\\displaystyle \\left( n, \\  \\frac{n^{2}}{2} + \\frac{n}{2}, \\  \\frac{n^{3}}{3} + \\frac{n^{2}}{2} + \\frac{n}{6}, \\  \\frac{n^{4}}{4} + \\frac{n^{3}}{2} + \\frac{n^{2}}{4}, \\  \\frac{n^{5}}{5} + \\frac{n^{4}}{2} + \\frac{n^{3}}{3} - \\frac{n}{30}\\right)$",
            "text/plain": [
              "⎛    2       3    2       4    3    2   5    4    3     ⎞\n",
              "⎜   n    n  n    n    n  n    n    n   n    n    n    n ⎟\n",
              "⎜n, ── + ─, ── + ── + ─, ── + ── + ──, ── + ── + ── - ──⎟\n",
              "⎝   2    2  3    2    6  4    2    4   5    2    3    30⎠"
            ]
          },
          "metadata": {
            "tags": []
          },
          "execution_count": 87
        }
      ]
    },
    {
      "cell_type": "code",
      "metadata": {
        "colab": {
          "base_uri": "https://localhost:8080/",
          "height": 68
        },
        "id": "r_kwl6YnB2MO",
        "outputId": "bd404cf2-0fbe-4a21-ad4d-f68dc1a221c8"
      },
      "source": [
        "s[5],s[6],s[3]-s[1]**2,s[3]-expand(s[1]**2)"
      ],
      "execution_count": 88,
      "outputs": [
        {
          "output_type": "execute_result",
          "data": {
            "image/png": "[encoded data removed]",
            "text/latex": "$\\displaystyle \\left( \\frac{n^{6}}{6} + \\frac{n^{5}}{2} + \\frac{5 n^{4}}{12} - \\frac{n^{2}}{12}, \\  \\frac{n^{7}}{7} + \\frac{n^{6}}{2} + \\frac{n^{5}}{2} - \\frac{n^{3}}{6} + \\frac{n}{42}, \\  \\frac{n^{4}}{4} + \\frac{n^{3}}{2} + \\frac{n^{2}}{4} - \\left(\\frac{n^{2}}{2} + \\frac{n}{2}\\right)^{2}, \\  0\\right)$",
            "text/plain": [
              "⎛                                                                    2   ⎞\n",
              "⎜ 6    5      4    2   7    6    5    3        4    3    2   ⎛ 2    ⎞    ⎟\n",
              "⎜n    n    5⋅n    n   n    n    n    n    n   n    n    n    ⎜n    n⎟    ⎟\n",
              "⎜── + ── + ──── - ──, ── + ── + ── - ── + ──, ── + ── + ── - ⎜── + ─⎟ , 0⎟\n",
              "⎝6    2     12    12  7    2    2    6    42  4    2    4    ⎝2    2⎠    ⎠"
            ]
          },
          "metadata": {
            "tags": []
          },
          "execution_count": 88
        }
      ]
    },
    {
      "cell_type": "code",
      "metadata": {
        "colab": {
          "base_uri": "https://localhost:8080/",
          "height": 37
        },
        "id": "uBM4-ArR7o-u",
        "outputId": "62a01795-0166-4e6b-d9dc-755aa387dedb"
      },
      "source": [
        "simplify(s[3]-s[1]**2)"
      ],
      "execution_count": 72,
      "outputs": [
        {
          "output_type": "execute_result",
          "data": {
            "image/png": "[encoded data removed]",
            "text/latex": "$\\displaystyle 0$",
            "text/plain": [
              "0"
            ]
          },
          "metadata": {
            "tags": []
          },
          "execution_count": 72
        }
      ]
    },
    {
      "cell_type": "code",
      "metadata": {
        "colab": {
          "base_uri": "https://localhost:8080/",
          "height": 57
        },
        "id": "J1QoMuN09iJg",
        "outputId": "232da3ba-f7ce-4e71-cc13-522727391c8c"
      },
      "source": [
        "Eq(simplify(s[3]),simplify(s[1]**2))"
      ],
      "execution_count": 73,
      "outputs": [
        {
          "output_type": "execute_result",
          "data": {
            "image/png": "[encoded data removed]",
            "text/latex": "$\\displaystyle \\frac{n^{2} \\left(n^{2} + 2 n + 1\\right)}{4} = \\frac{n^{2} \\left(n + 1\\right)^{2}}{4}$",
            "text/plain": [
              " 2 ⎛ 2          ⎞    2        2\n",
              "n ⋅⎝n  + 2⋅n + 1⎠   n ⋅(n + 1) \n",
              "───────────────── = ───────────\n",
              "        4                4     "
            ]
          },
          "metadata": {
            "tags": []
          },
          "execution_count": 73
        }
      ]
    },
    {
      "cell_type": "code",
      "metadata": {
        "colab": {
          "base_uri": "https://localhost:8080/",
          "height": 68
        },
        "id": "rvRxMpSL_FYK",
        "outputId": "09417bb1-38f3-4c04-eae3-b8572be10161"
      },
      "source": [
        "Eq(s[3],s[1]**2),Eq(simplify(s[3]),simplify(s[1]**2)),Eq(s[3],expand(s[1]**2))"
      ],
      "execution_count": 74,
      "outputs": [
        {
          "output_type": "execute_result",
          "data": {
            "text/latex": "$\\displaystyle \\left( \\frac{n^{4}}{4} + \\frac{n^{3}}{2} + \\frac{n^{2}}{4} = \\left(\\frac{n^{2}}{2} + \\frac{n}{2}\\right)^{2}, \\  \\frac{n^{2} \\left(n^{2} + 2 n + 1\\right)}{4} = \\frac{n^{2} \\left(n + 1\\right)^{2}}{4}, \\  \\text{True}\\right)$",
            "text/plain": [
              "⎛                       2                                       ⎞\n",
              "⎜ 4    3    2   ⎛ 2    ⎞    2 ⎛ 2          ⎞    2        2      ⎟\n",
              "⎜n    n    n    ⎜n    n⎟   n ⋅⎝n  + 2⋅n + 1⎠   n ⋅(n + 1)       ⎟\n",
              "⎜── + ── + ── = ⎜── + ─⎟ , ───────────────── = ───────────, True⎟\n",
              "⎝4    2    4    ⎝2    2⎠           4                4           ⎠"
            ]
          },
          "metadata": {
            "tags": []
          },
          "execution_count": 74
        }
      ]
    },
    {
      "cell_type": "code",
      "metadata": {
        "colab": {
          "base_uri": "https://localhost:8080/",
          "height": 58
        },
        "id": "4su7AZU2_46S",
        "outputId": "d6015c45-4724-48e4-a2d6-9af61c2343dd"
      },
      "source": [
        "factor(s[5])"
      ],
      "execution_count": 75,
      "outputs": [
        {
          "output_type": "execute_result",
          "data": {
            "image/png": "[encoded data removed]",
            "text/latex": "$\\displaystyle \\frac{n^{2} \\left(n + 1\\right)^{2} \\left(2 n^{2} + 2 n - 1\\right)}{12}$",
            "text/plain": [
              " 2        2 ⎛   2          ⎞\n",
              "n ⋅(n + 1) ⋅⎝2⋅n  + 2⋅n - 1⎠\n",
              "────────────────────────────\n",
              "             12             "
            ]
          },
          "metadata": {
            "tags": []
          },
          "execution_count": 75
        }
      ]
    },
    {
      "cell_type": "code",
      "metadata": {
        "colab": {
          "base_uri": "https://localhost:8080/",
          "height": 56
        },
        "id": "cQRQ2GNJA-50",
        "outputId": "fc521ca3-01d4-44c9-aad8-16987ca4ab4e"
      },
      "source": [
        "factor(s[6])"
      ],
      "execution_count": 76,
      "outputs": [
        {
          "output_type": "execute_result",
          "data": {
            "image/png": "[encoded data removed]",
            "text/latex": "$\\displaystyle \\frac{n \\left(n + 1\\right) \\left(2 n + 1\\right) \\left(3 n^{4} + 6 n^{3} - 3 n + 1\\right)}{42}$",
            "text/plain": [
              "                    ⎛   4      3          ⎞\n",
              "n⋅(n + 1)⋅(2⋅n + 1)⋅⎝3⋅n  + 6⋅n  - 3⋅n + 1⎠\n",
              "───────────────────────────────────────────\n",
              "                     42                    "
            ]
          },
          "metadata": {
            "tags": []
          },
          "execution_count": 76
        }
      ]
    },
    {
      "cell_type": "code",
      "metadata": {
        "colab": {
          "base_uri": "https://localhost:8080/",
          "height": 58
        },
        "id": "Bs2KEQ-BCKH1",
        "outputId": "4ab38c46-dc60-498c-c7c2-265589490fb3"
      },
      "source": [
        "expand(s[1]**3),1*s[3]/4+3*s[5]/4,Eq(expand(s[1]**3),1*s[3]/4+3*s[5]/4)"
      ],
      "execution_count": 78,
      "outputs": [
        {
          "output_type": "execute_result",
          "data": {
            "text/latex": "$\\displaystyle \\left( \\frac{n^{6}}{8} + \\frac{3 n^{5}}{8} + \\frac{3 n^{4}}{8} + \\frac{n^{3}}{8}, \\  \\frac{n^{6}}{8} + \\frac{3 n^{5}}{8} + \\frac{3 n^{4}}{8} + \\frac{n^{3}}{8}, \\  \\text{True}\\right)$",
            "text/plain": [
              "⎛ 6      5      4    3   6      5      4    3      ⎞\n",
              "⎜n    3⋅n    3⋅n    n   n    3⋅n    3⋅n    n       ⎟\n",
              "⎜── + ──── + ──── + ──, ── + ──── + ──── + ──, True⎟\n",
              "⎝8     8      8     8   8     8      8     8       ⎠"
            ]
          },
          "metadata": {
            "tags": []
          },
          "execution_count": 78
        }
      ]
    },
    {
      "cell_type": "code",
      "metadata": {
        "colab": {
          "base_uri": "https://localhost:8080/",
          "height": 58
        },
        "id": "PVQswNw_CdgB",
        "outputId": "9a825ec5-1967-44b8-b99d-3a4a1d53b750"
      },
      "source": [
        "expand(s[1]**5),1*s[5]/16+5*s[7]/8+5*s[9]/16,Eq(expand(s[1]**5),1*s[5]/16+5*s[7]/8+5*s[9]/16)"
      ],
      "execution_count": 82,
      "outputs": [
        {
          "output_type": "execute_result",
          "data": {
            "text/latex": "$\\displaystyle \\left( \\frac{n^{10}}{32} + \\frac{5 n^{9}}{32} + \\frac{5 n^{8}}{16} + \\frac{5 n^{7}}{16} + \\frac{5 n^{6}}{32} + \\frac{n^{5}}{32}, \\  \\frac{n^{10}}{32} + \\frac{5 n^{9}}{32} + \\frac{5 n^{8}}{16} + \\frac{5 n^{7}}{16} + \\frac{5 n^{6}}{32} + \\frac{n^{5}}{32}, \\  \\text{True}\\right)$",
            "text/plain": [
              "⎛ 10      9      8      7      6    5   10      9      8      7      6    5   \n",
              "⎜n     5⋅n    5⋅n    5⋅n    5⋅n    n   n     5⋅n    5⋅n    5⋅n    5⋅n    n    \n",
              "⎜─── + ──── + ──── + ──── + ──── + ──, ─── + ──── + ──── + ──── + ──── + ──, T\n",
              "⎝ 32    32     16     16     32    32   32    32     16     16     32    32   \n",
              "\n",
              "   ⎞\n",
              "   ⎟\n",
              "rue⎟\n",
              "   ⎠"
            ]
          },
          "metadata": {
            "tags": []
          },
          "execution_count": 82
        }
      ]
    },
    {
      "cell_type": "code",
      "metadata": {
        "colab": {
          "base_uri": "https://localhost:8080/",
          "height": 58
        },
        "id": "xmBlrGVFGw8t",
        "outputId": "8f0ef511-8032-41a0-eb8c-288dd6942e3f"
      },
      "source": [
        "a, b = symbols('a b')\n",
        "solve(s[1]**3-(a*s[3]+b*s[5]), [a, b])"
      ],
      "execution_count": 90,
      "outputs": [
        {
          "output_type": "execute_result",
          "data": {
            "image/png": "[encoded data removed]",
            "text/latex": "$\\displaystyle \\left\\{ a : \\frac{1}{4}, \\  b : \\frac{3}{4}\\right\\}$",
            "text/plain": [
              "{a: 1/4, b: 3/4}"
            ]
          },
          "metadata": {
            "tags": []
          },
          "execution_count": 90
        }
      ]
    },
    {
      "cell_type": "code",
      "metadata": {
        "colab": {
          "base_uri": "https://localhost:8080/",
          "height": 58
        },
        "id": "cu1sKXEiIJ8B",
        "outputId": "067d2cbf-b217-4104-9f81-0af400b283ef"
      },
      "source": [
        "a, b, c, d, e, f = symbols('a b c d e f')\n",
        "solve(a*s[1]**3+b*s[1]**2+c*s[1]+d*s[2]**2+e*s[2], [a, b,c,d,e])"
      ],
      "execution_count": 91,
      "outputs": [
        {
          "output_type": "execute_result",
          "data": {
            "image/png": "[encoded data removed]",
            "text/latex": "$\\displaystyle \\left\\{ a : - \\frac{8 d}{9}, \\  b : - \\frac{d}{9}, \\  c : 0, \\  e : 0\\right\\}$",
            "text/plain": [
              "⎧   -8⋅d      -d             ⎫\n",
              "⎨a: ─────, b: ───, c: 0, e: 0⎬\n",
              "⎩     9        9             ⎭"
            ]
          },
          "metadata": {
            "tags": []
          },
          "execution_count": 91
        }
      ]
    },
    {
      "cell_type": "code",
      "metadata": {
        "colab": {
          "base_uri": "https://localhost:8080/",
          "height": 58
        },
        "id": "08iy4RdELhKB",
        "outputId": "953f6f1d-b095-45ab-810f-cd7ee3af277d"
      },
      "source": [
        "a, b, c, d, e, f, g, h, i, j = symbols('a b c d e f g h i j')\n",
        "sol=solve(a*s[2]**4+b*s[2]**3+c*s[2]**2+d*s[2]+e*s[3]**3+f*s[3]**2+g*s[3]+h*s[2]**2*s[3], [a, b,c,d,e,f,g])\n",
        "sol"
      ],
      "execution_count": 97,
      "outputs": [
        {
          "output_type": "execute_result",
          "data": {
            "image/png": "[encoded data removed]",
            "text/latex": "$\\displaystyle \\left\\{ a : - \\frac{9 h}{2}, \\  b : 0, \\  c : 0, \\  d : 0, \\  e : \\frac{32 h}{9}, \\  f : - \\frac{h}{18}, \\  g : 0\\right\\}$",
            "text/plain": [
              "⎧   -9⋅h                        32⋅h     -h       ⎫\n",
              "⎨a: ─────, b: 0, c: 0, d: 0, e: ────, f: ───, g: 0⎬\n",
              "⎩     2                          9        18      ⎭"
            ]
          },
          "metadata": {
            "tags": []
          },
          "execution_count": 97
        }
      ]
    },
    {
      "cell_type": "code",
      "metadata": {
        "colab": {
          "base_uri": "https://localhost:8080/",
          "height": 58
        },
        "id": "9sX__xunPa_u",
        "outputId": "604d7c46-343a-41a7-a5ee-59db1a895050"
      },
      "source": [
        "sol[a],sol[e],sol[f]"
      ],
      "execution_count": 108,
      "outputs": [
        {
          "output_type": "execute_result",
          "data": {
            "image/png": "[encoded data removed]",
            "text/latex": "$\\displaystyle \\left( - \\frac{9 h}{2}, \\  \\frac{32 h}{9}, \\  - \\frac{h}{18}\\right)$",
            "text/plain": [
              "⎛-9⋅h   32⋅h  -h ⎞\n",
              "⎜─────, ────, ───⎟\n",
              "⎝  2     9     18⎠"
            ]
          },
          "metadata": {
            "tags": []
          },
          "execution_count": 108
        }
      ]
    },
    {
      "cell_type": "code",
      "metadata": {
        "colab": {
          "base_uri": "https://localhost:8080/"
        },
        "id": "FwKQfbnVQO_R",
        "outputId": "ebc46f1d-bf72-4a39-ea3b-70cbc0d3df03"
      },
      "source": [
        "a,b,c,d = symbols('a b c d')\n",
        "expr1 = expand((a**2+b**2)*(c**2+d**2))\n",
        "expr2 = expand((a*c-b*d)**2+(a*d+b*c)**2)\n",
        "expr1 == expr2"
      ],
      "execution_count": 109,
      "outputs": [
        {
          "output_type": "execute_result",
          "data": {
            "text/plain": [
              "True"
            ]
          },
          "metadata": {
            "tags": []
          },
          "execution_count": 109
        }
      ]
    },
    {
      "cell_type": "code",
      "metadata": {
        "colab": {
          "base_uri": "https://localhost:8080/",
          "height": 54
        },
        "id": "Av5g-IkKRW4b",
        "outputId": "839ca60d-1c38-46ea-fa59-580eb4c2ad59"
      },
      "source": [
        "simplify(s[5]/s[3])"
      ],
      "execution_count": 111,
      "outputs": [
        {
          "output_type": "execute_result",
          "data": {
            "image/png": "[encoded data removed]",
            "text/latex": "$\\displaystyle \\frac{2 n^{2}}{3} + \\frac{2 n}{3} - \\frac{1}{3}$",
            "text/plain": [
              "   2          \n",
              "2⋅n    2⋅n   1\n",
              "──── + ─── - ─\n",
              " 3      3    3"
            ]
          },
          "metadata": {
            "tags": []
          },
          "execution_count": 111
        }
      ]
    },
    {
      "cell_type": "code",
      "metadata": {
        "colab": {
          "base_uri": "https://localhost:8080/",
          "height": 58
        },
        "id": "jgrO2xJUSK48",
        "outputId": "0733aca9-a8e6-4d15-9057-2929797a87f2"
      },
      "source": [
        "a, b, c, d, e, f = symbols('a b c d e f')\n",
        "solve(s[5]/s[3]-(a*s[1]+b), [a, b])"
      ],
      "execution_count": 113,
      "outputs": [
        {
          "output_type": "execute_result",
          "data": {
            "image/png": "[encoded data removed]",
            "text/latex": "$\\displaystyle \\left\\{ a : \\frac{4}{3}, \\  b : - \\frac{1}{3}\\right\\}$",
            "text/plain": [
              "{a: 4/3, b: -1/3}"
            ]
          },
          "metadata": {
            "tags": []
          },
          "execution_count": 113
        }
      ]
    },
    {
      "cell_type": "code",
      "metadata": {
        "colab": {
          "base_uri": "https://localhost:8080/",
          "height": 58
        },
        "id": "vOwbP1FVSjnj",
        "outputId": "12a78ac7-caa5-4d15-f055-26acb4f9bcae"
      },
      "source": [
        "a, b, c, d, e, f = symbols('a b c d e f',positive=True)\n",
        "solve(s[3]-((a*s[5]+b*s[3])/s[3])**2, [a, b])"
      ],
      "execution_count": 116,
      "outputs": [
        {
          "output_type": "execute_result",
          "data": {
            "image/png": "[encoded data removed]",
            "text/latex": "$\\displaystyle \\left[ \\left( \\frac{3}{4}, \\  \\frac{1}{4}\\right)\\right]$",
            "text/plain": [
              "[(3/4, 1/4)]"
            ]
          },
          "metadata": {
            "tags": []
          },
          "execution_count": 116
        }
      ]
    },
    {
      "cell_type": "code",
      "metadata": {
        "id": "uEqhY-ruTA48"
      },
      "source": [
        ""
      ],
      "execution_count": null,
      "outputs": []
    }
  ]
}