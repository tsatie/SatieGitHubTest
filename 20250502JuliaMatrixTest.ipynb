{
  "nbformat": 4,
  "nbformat_minor": 0,
  "metadata": {
    "colab": {
      "provenance": [],
      "gpuType": "T4",
      "authorship_tag": "ABX9TyOAJM3Mcec+FVYanicGPD2/",
      "include_colab_link": true
    },
    "kernelspec": {
      "name": "julia",
      "display_name": "Julia"
    },
    "language_info": {
      "name": "julia"
    },
    "accelerator": "GPU"
  },
  "cells": [
    {
      "cell_type": "markdown",
      "metadata": {
        "id": "view-in-github",
        "colab_type": "text"
      },
      "source": [
        "<a href=\"https://colab.research.google.com/github/tsatie/SatieGitHubTest/blob/master/20250502JuliaMatrixTest.ipynb\" target=\"_parent\"><img src=\"https://colab.research.google.com/assets/colab-badge.svg\" alt=\"Open In Colab\"/></a>"
      ]
    },
    {
      "cell_type": "code",
      "execution_count": 1,
      "metadata": {
        "colab": {
          "base_uri": "https://localhost:8080/"
        },
        "id": "E0hBdgsdrLPr",
        "outputId": "d604d9e3-d957-4302-a35a-a53c1ac7acb9"
      },
      "outputs": [
        {
          "output_type": "stream",
          "name": "stderr",
          "text": [
            "\u001b[32m\u001b[1m    Updating\u001b[22m\u001b[39m registry at `~/.julia/registries/General.toml`\n",
            "\u001b[32m\u001b[1m   Resolving\u001b[22m\u001b[39m package versions...\n",
            "\u001b[32m\u001b[1m   Installed\u001b[22m\u001b[39m CommonSolve ─── v0.2.4\n",
            "\u001b[32m\u001b[1m   Installed\u001b[22m\u001b[39m PyCall ──────── v1.96.4\n",
            "\u001b[32m\u001b[1m   Installed\u001b[22m\u001b[39m TermInterface ─ v2.0.0\n",
            "\u001b[32m\u001b[1m   Installed\u001b[22m\u001b[39m SymPyCore ───── v0.3.1\n",
            "\u001b[32m\u001b[1m   Installed\u001b[22m\u001b[39m CommonEq ────── v0.2.1\n",
            "\u001b[32m\u001b[1m   Installed\u001b[22m\u001b[39m SymPy ───────── v2.3.3\n",
            "\u001b[32m\u001b[1m    Updating\u001b[22m\u001b[39m `~/.julia/environments/v1.10/Project.toml`\n",
            "  \u001b[90m[24249f21] \u001b[39m\u001b[92m+ SymPy v2.3.3\u001b[39m\n",
            "\u001b[32m\u001b[1m    Updating\u001b[22m\u001b[39m `~/.julia/environments/v1.10/Manifest.toml`\n",
            "  \u001b[90m[3709ef60] \u001b[39m\u001b[92m+ CommonEq v0.2.1\u001b[39m\n",
            "  \u001b[90m[38540f10] \u001b[39m\u001b[92m+ CommonSolve v0.2.4\u001b[39m\n",
            "  \u001b[90m[438e738f] \u001b[39m\u001b[92m+ PyCall v1.96.4\u001b[39m\n",
            "  \u001b[90m[24249f21] \u001b[39m\u001b[92m+ SymPy v2.3.3\u001b[39m\n",
            "  \u001b[90m[458b697b] \u001b[39m\u001b[92m+ SymPyCore v0.3.1\u001b[39m\n",
            "  \u001b[90m[8ea1fca8] \u001b[39m\u001b[92m+ TermInterface v2.0.0\u001b[39m\n",
            "\u001b[32m\u001b[1m    Building\u001b[22m\u001b[39m PyCall → `~/.julia/scratchspaces/44cfe95a-1eb2-52ea-b672-e2afdf69b78f/9816a3826b0ebf49ab4926e2b18842ad8b5c8f04/build.log`\n",
            "\u001b[32m\u001b[1mPrecompiling\u001b[22m\u001b[39m packages...\n",
            "   3002.4 ms\u001b[32m  ✓ \u001b[39m\u001b[90mCommonEq\u001b[39m\n",
            "   1803.9 ms\u001b[32m  ✓ \u001b[39m\u001b[90mCommonSolve\u001b[39m\n",
            "   1808.4 ms\u001b[32m  ✓ \u001b[39m\u001b[90mTermInterface\u001b[39m\n",
            "   4928.5 ms\u001b[32m  ✓ \u001b[39m\u001b[90mSymPyCore\u001b[39m\n",
            "  18369.2 ms\u001b[32m  ✓ \u001b[39m\u001b[90mPyCall\u001b[39m\n",
            "   1805.2 ms\u001b[32m  ✓ \u001b[39mSymPy\n",
            "  6 dependencies successfully precompiled in 30 seconds. 459 already precompiled.\n",
            "\u001b[32m\u001b[1m   Resolving\u001b[22m\u001b[39m package versions...\n",
            "\u001b[32m\u001b[1m    Updating\u001b[22m\u001b[39m `~/.julia/environments/v1.10/Project.toml`\n",
            "  \u001b[90m[23fbe1c1] \u001b[39m\u001b[92m+ Latexify v0.16.7\u001b[39m\n",
            "\u001b[32m\u001b[1m  No Changes\u001b[22m\u001b[39m to `~/.julia/environments/v1.10/Manifest.toml`\n"
          ]
        }
      ],
      "source": [
        "using Pkg\n",
        "Pkg.add(\"SymPy\")\n",
        "Pkg.add(\"Latexify\")"
      ]
    },
    {
      "cell_type": "code",
      "source": [
        "using Latexify,SymPy"
      ],
      "metadata": {
        "id": "X_n-ne5WuPK0"
      },
      "execution_count": 4,
      "outputs": []
    },
    {
      "cell_type": "code",
      "source": [
        "mat=[1 1 0 0 0;1 1 1 0 0;1 1 1 1 0;1 1 1 1 1;1 1 1 1 1]\n",
        "latexify(mat)"
      ],
      "metadata": {
        "colab": {
          "base_uri": "https://localhost:8080/",
          "height": 204
        },
        "id": "1F5t7IamtONj",
        "outputId": "4a3952e9-c863-4076-f95a-73fb460824fd"
      },
      "execution_count": 5,
      "outputs": [
        {
          "output_type": "execute_result",
          "data": {
            "text/plain": [
              "L\"\\begin{equation}\n",
              "\\left[\n",
              "\\begin{array}{ccccc}\n",
              "1 & 1 & 0 & 0 & 0 \\\\\n",
              "1 & 1 & 1 & 0 & 0 \\\\\n",
              "1 & 1 & 1 & 1 & 0 \\\\\n",
              "1 & 1 & 1 & 1 & 1 \\\\\n",
              "1 & 1 & 1 & 1 & 1 \\\\\n",
              "\\end{array}\n",
              "\\right]\n",
              "\\end{equation}\n",
              "\""
            ],
            "text/latex": "\\begin{equation}\n\\left[\n\\begin{array}{ccccc}\n1 & 1 & 0 & 0 & 0 \\\\\n1 & 1 & 1 & 0 & 0 \\\\\n1 & 1 & 1 & 1 & 0 \\\\\n1 & 1 & 1 & 1 & 1 \\\\\n1 & 1 & 1 & 1 & 1 \\\\\n\\end{array}\n\\right]\n\\end{equation}\n"
          },
          "metadata": {},
          "execution_count": 5
        }
      ]
    },
    {
      "cell_type": "code",
      "source": [
        "matF=[1 1 0 0;1 1 1 0;1 1 1 1;1 1 1 1]\n",
        "latexify(matF^5)"
      ],
      "metadata": {
        "colab": {
          "base_uri": "https://localhost:8080/",
          "height": 187
        },
        "id": "gUTaHhpjuck3",
        "outputId": "48f3714b-af02-4e44-b3c4-85249496efd2"
      },
      "execution_count": 6,
      "outputs": [
        {
          "output_type": "execute_result",
          "data": {
            "text/plain": [
              "L\"\\begin{equation}\n",
              "\\left[\n",
              "\\begin{array}{cccc}\n",
              "41 & 41 & 27 & 13 \\\\\n",
              "81 & 81 & 54 & 27 \\\\\n",
              "121 & 121 & 81 & 41 \\\\\n",
              "121 & 121 & 81 & 41 \\\\\n",
              "\\end{array}\n",
              "\\right]\n",
              "\\end{equation}\n",
              "\""
            ],
            "text/latex": "\\begin{equation}\n\\left[\n\\begin{array}{cccc}\n41 & 41 & 27 & 13 \\\\\n81 & 81 & 54 & 27 \\\\\n121 & 121 & 81 & 41 \\\\\n121 & 121 & 81 & 41 \\\\\n\\end{array}\n\\right]\n\\end{equation}\n"
          },
          "metadata": {},
          "execution_count": 6
        }
      ]
    },
    {
      "cell_type": "code",
      "source": [
        "n=symbols(\"n\",commutative = true)"
      ],
      "metadata": {
        "colab": {
          "base_uri": "https://localhost:8080/",
          "height": 38
        },
        "id": "nv_9E1QEu4ug",
        "outputId": "1ca108ec-a7f4-42e2-d8e6-8a25793a91db"
      },
      "execution_count": 44,
      "outputs": [
        {
          "output_type": "execute_result",
          "data": {
            "text/plain": [
              "n"
            ],
            "text/latex": "$n$"
          },
          "metadata": {},
          "execution_count": 44
        }
      ]
    },
    {
      "cell_type": "code",
      "source": [
        "matFn(n)=[(3^(n-1)+1)/2 (3^(n-1)+1)/2 3^(n-2) (3^(n-2)-1)/2;\n",
        "3^(n-1) 3^(n-1) 2*3^(n-2) 3^(n-2);\n",
        "(3^n-1)/2 (3^n-1)/2 3^(n-1) (3^(n-1)+1)/2;\n",
        "(3^n-1)/2 (3^n-1)/2 3^(n-1) (3^(n-1)+1)/2]\n",
        "matFn(n)"
      ],
      "metadata": {
        "colab": {
          "base_uri": "https://localhost:8080/",
          "height": 83
        },
        "id": "q8zW0FZavPUX",
        "outputId": "5d18d26e-abd1-4269-9742-d6465dd277ff"
      },
      "execution_count": 45,
      "outputs": [
        {
          "output_type": "execute_result",
          "data": {
            "text/plain": [
              "4×4 Matrix{Sym{PyCall.PyObject}}:\n",
              " 3^(n - 1)/2 + 1/2  3^(n - 1)/2 + 1/2    3^(n - 2)  3^(n - 2)/2 - 1/2\n",
              "         3^(n - 1)          3^(n - 1)  2*3^(n - 2)          3^(n - 2)\n",
              "       3^n/2 - 1/2        3^n/2 - 1/2    3^(n - 1)  3^(n - 1)/2 + 1/2\n",
              "       3^n/2 - 1/2        3^n/2 - 1/2    3^(n - 1)  3^(n - 1)/2 + 1/2"
            ],
            "text/latex": "$\\left[\\begin{smallmatrix}\\frac{3^{n - 1}}{2} + \\frac{1}{2} & \\frac{3^{n - 1}}{2} + \\frac{1}{2} & 3^{n - 2} & \\frac{3^{n - 2}}{2} - \\frac{1}{2}\\\\3^{n - 1} & 3^{n - 1} & 2 \\cdot 3^{n - 2} & 3^{n - 2}\\\\\\frac{3^{n}}{2} - \\frac{1}{2} & \\frac{3^{n}}{2} - \\frac{1}{2} & 3^{n - 1} & \\frac{3^{n - 1}}{2} + \\frac{1}{2}\\\\\\frac{3^{n}}{2} - \\frac{1}{2} & \\frac{3^{n}}{2} - \\frac{1}{2} & 3^{n - 1} & \\frac{3^{n - 1}}{2} + \\frac{1}{2}\\end{smallmatrix}\\right]$"
          },
          "metadata": {},
          "execution_count": 45
        }
      ]
    },
    {
      "cell_type": "code",
      "source": [
        "latexify(matFn(n))"
      ],
      "metadata": {
        "colab": {
          "base_uri": "https://localhost:8080/",
          "height": 207
        },
        "id": "kxHGCvacwTvV",
        "outputId": "eefa0c9a-a744-44b4-9d9d-5e8f04f321c3"
      },
      "execution_count": 46,
      "outputs": [
        {
          "output_type": "execute_result",
          "data": {
            "text/plain": [
              "L\"\\begin{equation}\n",
              "\\left[\n",
              "\\begin{array}{cccc}\n",
              "\\frac{3^{n - 1}}{2} + \\frac{1}{2} & \\frac{3^{n - 1}}{2} + \\frac{1}{2} & 3^{n - 2} & \\frac{3^{n - 2}}{2} - \\frac{1}{2} \\\\\n",
              "3^{n - 1} & 3^{n - 1} & 2 \\cdot 3^{n - 2} & 3^{n - 2} \\\\\n",
              "\\frac{3^{n}}{2} - \\frac{1}{2} & \\frac{3^{n}}{2} - \\frac{1}{2} & 3^{n - 1} & \\frac{3^{n - 1}}{2} + \\frac{1}{2} \\\\\n",
              "\\frac{3^{n}}{2} - \\frac{1}{2} & \\frac{3^{n}}{2} - \\frac{1}{2} & 3^{n - 1} & \\frac{3^{n - 1}}{2} + \\frac{1}{2} \\\\\n",
              "\\end{array}\n",
              "\\right]\n",
              "\\end{equation}\n",
              "\""
            ],
            "text/latex": "\\begin{equation}\n\\left[\n\\begin{array}{cccc}\n\\frac{3^{n - 1}}{2} + \\frac{1}{2} & \\frac{3^{n - 1}}{2} + \\frac{1}{2} & 3^{n - 2} & \\frac{3^{n - 2}}{2} - \\frac{1}{2} \\\\\n3^{n - 1} & 3^{n - 1} & 2 \\cdot 3^{n - 2} & 3^{n - 2} \\\\\n\\frac{3^{n}}{2} - \\frac{1}{2} & \\frac{3^{n}}{2} - \\frac{1}{2} & 3^{n - 1} & \\frac{3^{n - 1}}{2} + \\frac{1}{2} \\\\\n\\frac{3^{n}}{2} - \\frac{1}{2} & \\frac{3^{n}}{2} - \\frac{1}{2} & 3^{n - 1} & \\frac{3^{n - 1}}{2} + \\frac{1}{2} \\\\\n\\end{array}\n\\right]\n\\end{equation}\n"
          },
          "metadata": {},
          "execution_count": 46
        }
      ]
    },
    {
      "cell_type": "code",
      "source": [
        "matFn(n)*matF-matFn(n+1)"
      ],
      "metadata": {
        "colab": {
          "base_uri": "https://localhost:8080/",
          "height": 83
        },
        "id": "js3s458JwyG2",
        "outputId": "a286072d-153e-4285-e123-e58b99fb6111"
      },
      "execution_count": 47,
      "outputs": [
        {
          "output_type": "execute_result",
          "data": {
            "text/plain": [
              "4×4 Matrix{Sym{PyCall.PyObject}}:\n",
              " -3^n/2 + 3*3^(n - 2)/2 + 3^(n - 1)  …  3*3^(n - 2)/2 - 3^(n - 1)/2\n",
              "   -3^n + 3*3^(n - 2) + 2*3^(n - 1)         3*3^(n - 2) - 3^(n - 1)\n",
              "  3^n + 3*3^(n - 1)/2 - 3^(n + 1)/2          -3^n/2 + 3*3^(n - 1)/2\n",
              "  3^n + 3*3^(n - 1)/2 - 3^(n + 1)/2          -3^n/2 + 3*3^(n - 1)/2"
            ],
            "text/latex": "$\\left[\\begin{smallmatrix}- \\frac{3^{n}}{2} + \\frac{3 \\cdot 3^{n - 2}}{2} + 3^{n - 1} & - \\frac{3^{n}}{2} + \\frac{3 \\cdot 3^{n - 2}}{2} + 3^{n - 1} & \\frac{3 \\cdot 3^{n - 2}}{2} - \\frac{3^{n - 1}}{2} & \\frac{3 \\cdot 3^{n - 2}}{2} - \\frac{3^{n - 1}}{2}\\\\- 3^{n} + 3 \\cdot 3^{n - 2} + 2 \\cdot 3^{n - 1} & - 3^{n} + 3 \\cdot 3^{n - 2} + 2 \\cdot 3^{n - 1} & 3 \\cdot 3^{n - 2} - 3^{n - 1} & 3 \\cdot 3^{n - 2} - 3^{n - 1}\\\\3^{n} + \\frac{3 \\cdot 3^{n - 1}}{2} - \\frac{3^{n + 1}}{2} & 3^{n} + \\frac{3 \\cdot 3^{n - 1}}{2} - \\frac{3^{n + 1}}{2} & - \\frac{3^{n}}{2} + \\frac{3 \\cdot 3^{n - 1}}{2} & - \\frac{3^{n}}{2} + \\frac{3 \\cdot 3^{n - 1}}{2}\\\\3^{n} + \\frac{3 \\cdot 3^{n - 1}}{2} - \\frac{3^{n + 1}}{2} & 3^{n} + \\frac{3 \\cdot 3^{n - 1}}{2} - \\frac{3^{n + 1}}{2} & - \\frac{3^{n}}{2} + \\frac{3 \\cdot 3^{n - 1}}{2} & - \\frac{3^{n}}{2} + \\frac{3 \\cdot 3^{n - 1}}{2}\\end{smallmatrix}\\right]$"
          },
          "metadata": {},
          "execution_count": 47
        }
      ]
    },
    {
      "cell_type": "code",
      "source": [
        "collect(simplify(matFn(n)*matF-matFn(n+1)))"
      ],
      "metadata": {
        "colab": {
          "base_uri": "https://localhost:8080/",
          "height": 83
        },
        "id": "HNhv4g4nw7rX",
        "outputId": "6745942d-0df2-4c20-f584-7d099906f2dc"
      },
      "execution_count": 51,
      "outputs": [
        {
          "output_type": "execute_result",
          "data": {
            "text/plain": [
              "4×4 Matrix{Sym{PyCall.PyObject}}:\n",
              " -3^n/2 + 3*3^(n - 2)/2 + 3^(n - 1)  …  3*3^(n - 2)/2 - 3^(n - 1)/2\n",
              "   -3^n + 3*3^(n - 2) + 2*3^(n - 1)         3*3^(n - 2) - 3^(n - 1)\n",
              "  3^n + 3*3^(n - 1)/2 - 3^(n + 1)/2          -3^n/2 + 3*3^(n - 1)/2\n",
              "  3^n + 3*3^(n - 1)/2 - 3^(n + 1)/2          -3^n/2 + 3*3^(n - 1)/2"
            ],
            "text/latex": "$\\left[\\begin{smallmatrix}- \\frac{3^{n}}{2} + \\frac{3 \\cdot 3^{n - 2}}{2} + 3^{n - 1} & - \\frac{3^{n}}{2} + \\frac{3 \\cdot 3^{n - 2}}{2} + 3^{n - 1} & \\frac{3 \\cdot 3^{n - 2}}{2} - \\frac{3^{n - 1}}{2} & \\frac{3 \\cdot 3^{n - 2}}{2} - \\frac{3^{n - 1}}{2}\\\\- 3^{n} + 3 \\cdot 3^{n - 2} + 2 \\cdot 3^{n - 1} & - 3^{n} + 3 \\cdot 3^{n - 2} + 2 \\cdot 3^{n - 1} & 3 \\cdot 3^{n - 2} - 3^{n - 1} & 3 \\cdot 3^{n - 2} - 3^{n - 1}\\\\3^{n} + \\frac{3 \\cdot 3^{n - 1}}{2} - \\frac{3^{n + 1}}{2} & 3^{n} + \\frac{3 \\cdot 3^{n - 1}}{2} - \\frac{3^{n + 1}}{2} & - \\frac{3^{n}}{2} + \\frac{3 \\cdot 3^{n - 1}}{2} & - \\frac{3^{n}}{2} + \\frac{3 \\cdot 3^{n - 1}}{2}\\\\3^{n} + \\frac{3 \\cdot 3^{n - 1}}{2} - \\frac{3^{n + 1}}{2} & 3^{n} + \\frac{3 \\cdot 3^{n - 1}}{2} - \\frac{3^{n + 1}}{2} & - \\frac{3^{n}}{2} + \\frac{3 \\cdot 3^{n - 1}}{2} & - \\frac{3^{n}}{2} + \\frac{3 \\cdot 3^{n - 1}}{2}\\end{smallmatrix}\\right]$"
          },
          "metadata": {},
          "execution_count": 51
        }
      ]
    },
    {
      "cell_type": "code",
      "source": [
        "simplify(3^n+2*3^n)"
      ],
      "metadata": {
        "colab": {
          "base_uri": "https://localhost:8080/",
          "height": 37
        },
        "id": "X31VYMoHxAlm",
        "outputId": "bff7d02b-21a3-4e61-d5ef-0422c02bb9ac"
      },
      "execution_count": 62,
      "outputs": [
        {
          "output_type": "execute_result",
          "data": {
            "text/plain": [
              " n + 1\n",
              "3     "
            ],
            "text/latex": "$3^{n + 1}$"
          },
          "metadata": {},
          "execution_count": 62
        }
      ]
    },
    {
      "cell_type": "code",
      "source": [
        "simplify([3^n+2*3^n])"
      ],
      "metadata": {
        "colab": {
          "base_uri": "https://localhost:8080/",
          "height": 37
        },
        "id": "rGd7DSry39eq",
        "outputId": "d3579793-12ff-4909-b5f0-895f4a5f8c6d"
      },
      "execution_count": 60,
      "outputs": [
        {
          "output_type": "execute_result",
          "data": {
            "text/plain": [
              "1-element Vector{Sym{PyCall.PyObject}}:\n",
              " 3*3^n"
            ],
            "text/latex": "$\\left[\\begin{smallmatrix}3 \\cdot 3^{n}\\end{smallmatrix}\\right]$"
          },
          "metadata": {},
          "execution_count": 60
        }
      ]
    },
    {
      "cell_type": "code",
      "source": [
        "x,y,a,b=symbols(\"x,y,a,b\")"
      ],
      "metadata": {
        "colab": {
          "base_uri": "https://localhost:8080/"
        },
        "id": "1SObPi8K4ZfZ",
        "outputId": "1d1934f5-8089-464b-e77a-8a23c936e6f3"
      },
      "execution_count": 63,
      "outputs": [
        {
          "output_type": "execute_result",
          "data": {
            "text/plain": [
              "(x, y, a, b)"
            ]
          },
          "metadata": {},
          "execution_count": 63
        }
      ]
    },
    {
      "cell_type": "code",
      "source": [
        "simplify((2x+3)*(3x-4))"
      ],
      "metadata": {
        "colab": {
          "base_uri": "https://localhost:8080/",
          "height": 38
        },
        "id": "bVAc6SRE5c5k",
        "outputId": "872096e0-f706-40b8-ff14-27028c355c53"
      },
      "execution_count": 64,
      "outputs": [
        {
          "output_type": "execute_result",
          "data": {
            "text/plain": [
              "   2         \n",
              "6⋅x  + x - 12"
            ],
            "text/latex": "$6 x^{2} + x - 12$"
          },
          "metadata": {},
          "execution_count": 64
        }
      ]
    },
    {
      "cell_type": "code",
      "source": [
        "factor(6*x^2+x-12)"
      ],
      "metadata": {
        "colab": {
          "base_uri": "https://localhost:8080/",
          "height": 38
        },
        "id": "NxvRo44u5iOV",
        "outputId": "f8beadc3-8cea-4e03-de19-812abd757a8b"
      },
      "execution_count": 85,
      "outputs": [
        {
          "output_type": "execute_result",
          "data": {
            "text/plain": [
              "(2⋅x + 3)⋅(3⋅x - 4)"
            ],
            "text/latex": "$\\left(2 x + 3\\right) \\left(3 x - 4\\right)$"
          },
          "metadata": {},
          "execution_count": 85
        }
      ]
    },
    {
      "cell_type": "code",
      "source": [
        "factor(6*x^2+37*x+6)"
      ],
      "metadata": {
        "colab": {
          "base_uri": "https://localhost:8080/",
          "height": 38
        },
        "id": "hFgxhwzc5oTt",
        "outputId": "72698361-336d-472b-cad1-7b81cdd1d54f"
      },
      "execution_count": 87,
      "outputs": [
        {
          "output_type": "execute_result",
          "data": {
            "text/plain": [
              "(x + 6)⋅(6⋅x + 1)"
            ],
            "text/latex": "$\\left(x + 6\\right) \\left(6 x + 1\\right)$"
          },
          "metadata": {},
          "execution_count": 87
        }
      ]
    },
    {
      "cell_type": "code",
      "source": [],
      "metadata": {
        "id": "mwjYtksY59Pk"
      },
      "execution_count": null,
      "outputs": []
    }
  ]
}