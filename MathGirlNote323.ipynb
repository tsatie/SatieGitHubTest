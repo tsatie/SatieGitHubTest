{
 "cells": [
  {
   "cell_type": "markdown",
   "id": "3f279bab",
   "metadata": {},
   "source": [
    "# 数学ガールの秘密ノート第323回の線形リストの実装"
   ]
  },
  {
   "cell_type": "markdown",
   "id": "c0db5e8f",
   "metadata": {},
   "source": [
    "## 第323回　アルゴリズム、なかなか大変（前編）\n",
    "リストヘッド付き線形リストというデータ構造\n",
    "これを Python で素朴に実装してみる。\n",
    "\n",
    "Engineering Note\n",
    "〜　プログラミングなどの技術的なメモ　〜\n",
    "https://engineeringnote.hateblo.jp/entry/python/algorithm-and-data-structures/linked_list\n",
    "を参考にしてみる"
   ]
  },
  {
   "cell_type": "code",
   "execution_count": 1,
   "id": "cbbec8b0",
   "metadata": {},
   "outputs": [],
   "source": [
    "class Box:\n",
    "    def __init__(self, value):\n",
    "        self.value = value\n",
    "        self.next = None"
   ]
  },
  {
   "cell_type": "markdown",
   "id": "fc8b31c2",
   "metadata": {},
   "source": [
    "<code>class Box:</code><br>\n",
    "で value と next をデータに持つ「箱」というデータ型を定義する。 <br>\n",
    "<code>    def \\_\\_init__(self, value):</code><br>\n",
    "オブジェクトというかBoxというクラスのデータを設定したときに行われる初期設定を行うコンストラクタと呼ばれるメソッド。<br>\n",
    "<code>        self.value = value</code><br>\n",
    "<code>self<\\code> はそのデータを指す。その <code>value</code> の値は <code>value</code> にして、<br>\n",
    "<code>        self.next = None</code> <br>\n",
    "next（線形に繋がる次の「箱」は最初はないのだから Python で「ない」ことを表す <code>None</code> としておく）<br>\n",
    "続く　<code>Box</code> が線形に結ばれた <code>LinkedBoxes</code> というオブジェクト？構造体？の定義の中で例えば <code>self.head=Box(None)<\\code>とあるが、これが所謂リストヘッドな箱なので、値である <code>value</code> は<code>Box(None)</code>なので<code>None</code>と設定される。"
   ]
  },
  {
   "cell_type": "code",
   "execution_count": 51,
   "id": "b5ca865a",
   "metadata": {},
   "outputs": [],
   "source": [
    "class LinkedBoxes:\n",
    "    def __init__(self):\n",
    "        self.head = Box(None)\n",
    "    def addBox(self, value):\n",
    "        front = self.head\n",
    "        rear = front.next\n",
    "        while rear!=None:\n",
    "            front = rear\n",
    "            rear = rear.next\n",
    "        newbox = Box(value)\n",
    "        newbox.next = rear\n",
    "        front.next = newbox\n",
    "    def showboxes(self):\n",
    "        print('ListHead :',self.head.value, end=' -> ')\n",
    "        tmp = self.head.next\n",
    "        while tmp:\n",
    "            if tmp.next!=None:\n",
    "                print(tmp.value, end=' -> ')\n",
    "            else:\n",
    "                print(tmp.value)\n",
    "            tmp = tmp.next"
   ]
  },
  {
   "cell_type": "markdown",
   "id": "a9a708b2",
   "metadata": {},
   "source": [
    "続いて <code>Box</code> が線形に結ばれた <code>LinkedBoxes</code> というオブジェクト？構造体？の定義<br>\n",
    "<code>class LinkedBoxes:\n",
    "    def __init__(self):\n",
    "        self.head = Box(None)</code><br>\n",
    "で、<code>LinkedBoxes</code>というクラスを定義し、初期設定としては、繋がった箱のリストのヘッダだけがある状態とする。\n",
    "<code>    def addBox(self, value):\n",
    "        front = self.head\n",
    "        rear = front.next\n",
    "        while rear!=None:\n",
    "            front = rear\n",
    "            rear = rear.next\n",
    "        newbox = Box(value)\n",
    "        newbox.next = rear\n",
    "        front.next = newbox</code><br>\n",
    "線形に結ばれたリストに箱を加えるという<code>LinkedBoxes</code>に関する固有の操作である<code>addBox</code>を定義している。<br>\n",
    "線形リストの終端を探してそこに新しい箱を継ぐという操作だ。<br>\n",
    "そのために先ず正面というか其処という意味合いの<code>front</code>に線形リストのヘッダである<code>self.head</code>を設定する。\n",
    "そして前面という感じの意味合いの<code>rear</code>にその<code>front</code>の次である<code>front.next</code>を設定する。当然だけど<code>rear</code>がない、つまり<code>None</code>なら終端というか最後尾という事になる。\n",
    "そこで<code>rear!=None</code>つまり前面というか次の箱がないという状態になるまで、\n",
    "<code>rear</code>を<code>front</code>にして、\n",
    "<code>rear</code>の次（<code>rear.next</code>）を新しく<code>rear</code>にする操作を繰り返す。\n",
    "いよいよ<code>rear</code>が<code>None</code>となったら、\n",
    "新しい箱<code>newbox</code>を呼んでその箱の値は<code>value</code>として\n",
    "<code>newbox</code>の次（<code>newbox.next</code>）は<code>rear</code>として、\n",
    "<code>front</code>の次（<code>front.next</code>）は<code>newbox</code>とします。\n",
    "つまり継ぎ替えているわけですね。"
   ]
  },
  {
   "cell_type": "markdown",
   "id": "138a284c",
   "metadata": {},
   "source": [
    "<code>    def showboxes(self):\n",
    "        print('ListHead :',self.head.value, end=' -> ')\n",
    "        tmp = self.head.next\n",
    "        while tmp:\n",
    "          if tmp.next!=None:\n",
    "            print(tmp.value, end=' -> ')\n",
    "          else:\n",
    "            print(tmp.value)\n",
    "          tmp = tmp.next</code><br>\n",
    "はこの線形リンクの全体像をとりあえずそれらしく表示する操作です。詳細は省きます。"
   ]
  },
  {
   "cell_type": "code",
   "execution_count": 85,
   "id": "c602cecf",
   "metadata": {
    "scrolled": true
   },
   "outputs": [
    {
     "name": "stdout",
     "output_type": "stream",
     "text": [
      "<__main__.Box object at 0x7fb71556f3d0>\n",
      "ListHead : None -> 31 -> 41 -> 59 -> 26 -> 53\n"
     ]
    }
   ],
   "source": [
    "boxes = LinkedBoxes()\n",
    "for item in [31,41,59,26,53]:\n",
    "    boxes.addBox(item)\n",
    "print(boxes.head)\n",
    "boxes.showboxes()"
   ]
  },
  {
   "cell_type": "markdown",
   "id": "e5128200",
   "metadata": {},
   "source": [
    "実際に「秘密ノート」にある線形リンクを作ってみたわけです。"
   ]
  },
  {
   "cell_type": "markdown",
   "id": "de90e3c4",
   "metadata": {},
   "source": [
    "それでは第３２３回の冒頭で紹介されている前回？前々回のアルゴリズムというか操作を実装してみましょう。<br>\n",
    "<b>List 9:リストヘッド付き線形リスト版MOVE-TO-FIRST</b><br>\n",
    "というやつです。"
   ]
  },
  {
   "cell_type": "code",
   "execution_count": 80,
   "id": "5166136e",
   "metadata": {},
   "outputs": [],
   "source": [
    "def move_to_first(self,value):\n",
    "    p=self.head\n",
    "    while p.next!=None:\n",
    "        q=p.next\n",
    "        if q.value==value:\n",
    "            p.next=q.next\n",
    "            q.next=self.head.next\n",
    "            self.head.next=q\n",
    "            break\n",
    "        else:\n",
    "            p=q\n",
    "#LinkedBoxes.move_to_first = move_to_first"
   ]
  },
  {
   "cell_type": "code",
   "execution_count": 86,
   "id": "6e3d274e",
   "metadata": {},
   "outputs": [
    {
     "name": "stdout",
     "output_type": "stream",
     "text": [
      "ListHead : None -> 31 -> 41 -> 59 -> 26 -> 53\n",
      "ListHead : None -> 59 -> 31 -> 41 -> 26 -> 53\n"
     ]
    }
   ],
   "source": [
    "boxes.showboxes()\n",
    "move_to_first(boxes,59)\n",
    "boxes.showboxes()"
   ]
  },
  {
   "cell_type": "code",
   "execution_count": null,
   "id": "62609b22",
   "metadata": {},
   "outputs": [],
   "source": []
  }
 ],
 "metadata": {
  "kernelspec": {
   "display_name": "Python 3",
   "language": "python",
   "name": "python3"
  },
  "language_info": {
   "codemirror_mode": {
    "name": "ipython",
    "version": 3
   },
   "file_extension": ".py",
   "mimetype": "text/x-python",
   "name": "python",
   "nbconvert_exporter": "python",
   "pygments_lexer": "ipython3",
   "version": "3.7.6"
  }
 },
 "nbformat": 4,
 "nbformat_minor": 5
}
