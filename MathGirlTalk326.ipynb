{
  "nbformat": 4,
  "nbformat_minor": 0,
  "metadata": {
    "colab": {
      "name": "MathGirlTalk326.ipynb",
      "provenance": [],
      "collapsed_sections": [],
      "authorship_tag": "ABX9TyNITTiK0tPeU2i3EQqnZVGb",
      "include_colab_link": true
    },
    "kernelspec": {
      "name": "python3",
      "display_name": "Python 3"
    },
    "language_info": {
      "name": "python"
    }
  },
  "cells": [
    {
      "cell_type": "markdown",
      "metadata": {
        "id": "view-in-github",
        "colab_type": "text"
      },
      "source": [
        "<a href=\"https://colab.research.google.com/github/tsatie/SatieGitHubTest/blob/master/MathGirlTalk326.ipynb\" target=\"_parent\"><img src=\"https://colab.research.google.com/assets/colab-badge.svg\" alt=\"Open In Colab\"/></a>"
      ]
    },
    {
      "cell_type": "markdown",
      "metadata": {
        "id": "daTjtUuysqH6"
      },
      "source": [
        "# 数学ガールの秘密ノート アルゴリズム編\n",
        "## 第326回 スタックとキュー(後編)\n",
        "### Pythonで実装して遊ぶ\n",
        "先ずはスタックの実装"
      ]
    },
    {
      "cell_type": "code",
      "metadata": {
        "colab": {
          "base_uri": "https://localhost:8080/"
        },
        "id": "01l7VZBVsj0O",
        "outputId": "31a1a7a4-52d5-440a-81f2-935bc58f6213"
      },
      "source": [
        "class Node:\n",
        "  def __init__(self, value):\n",
        "    self.value = value\n",
        "    self.next = self\n",
        "    self.prev = self\n",
        "  def show(self):\n",
        "    print(self.value,'(',self.prev.value,'<->',self.next.value,')')\n",
        "a=Node(0)\n",
        "a.show()\n",
        "print(a.value)"
      ],
      "execution_count": 1,
      "outputs": [
        {
          "output_type": "stream",
          "text": [
            "0 ( 0 <-> 0 )\n",
            "0\n"
          ],
          "name": "stdout"
        }
      ]
    },
    {
      "cell_type": "code",
      "metadata": {
        "id": "QB47QujFtdrf"
      },
      "source": [
        "def new_Node(v):\n",
        "  return Node(v)\n",
        "def new_Stack():\n",
        "  return new_Node(0)"
      ],
      "execution_count": 2,
      "outputs": []
    },
    {
      "cell_type": "code",
      "metadata": {
        "colab": {
          "base_uri": "https://localhost:8080/"
        },
        "id": "WhzJ0n-KtrxT",
        "outputId": "cafc9e12-60c1-4dd8-d9d2-21424e7a91db"
      },
      "source": [
        "s=new_Stack()\n",
        "s.show()\n",
        "print(s.value)"
      ],
      "execution_count": 3,
      "outputs": [
        {
          "output_type": "stream",
          "text": [
            "0 ( 0 <-> 0 )\n",
            "0\n"
          ],
          "name": "stdout"
        }
      ]
    },
    {
      "cell_type": "code",
      "metadata": {
        "id": "1vGXiwYwtwiP"
      },
      "source": [
        "def push(s,v):\n",
        "  p=new_Node(v)\n",
        "  p.prev=s\n",
        "  p.next=s.next\n",
        "  p.prev.next=p\n",
        "  p.next.prev=p"
      ],
      "execution_count": 4,
      "outputs": []
    },
    {
      "cell_type": "code",
      "metadata": {
        "id": "yeAjXRQruuJy"
      },
      "source": [
        "push(s,5)"
      ],
      "execution_count": 5,
      "outputs": []
    },
    {
      "cell_type": "code",
      "metadata": {
        "id": "LzlWmjliux0h"
      },
      "source": [
        "def is_empty_Stack(s):\n",
        "  if s.next==s:\n",
        "    return True\n",
        "  else:\n",
        "    return False"
      ],
      "execution_count": 6,
      "outputs": []
    },
    {
      "cell_type": "code",
      "metadata": {
        "colab": {
          "base_uri": "https://localhost:8080/"
        },
        "id": "67reAmMkvNph",
        "outputId": "0b920f95-f127-41a6-9122-0df7bf2ffc72"
      },
      "source": [
        "s=new_Stack()\n",
        "is_empty_Stack(s)"
      ],
      "execution_count": 7,
      "outputs": [
        {
          "output_type": "execute_result",
          "data": {
            "text/plain": [
              "True"
            ]
          },
          "metadata": {
            "tags": []
          },
          "execution_count": 7
        }
      ]
    },
    {
      "cell_type": "code",
      "metadata": {
        "colab": {
          "base_uri": "https://localhost:8080/"
        },
        "id": "zTHm4t1RvR_X",
        "outputId": "2f86edc2-8539-4e8b-b561-753ef302ae01"
      },
      "source": [
        "s=new_Stack()\n",
        "push(s,5)\n",
        "is_empty_Stack(s)"
      ],
      "execution_count": 8,
      "outputs": [
        {
          "output_type": "execute_result",
          "data": {
            "text/plain": [
              "False"
            ]
          },
          "metadata": {
            "tags": []
          },
          "execution_count": 8
        }
      ]
    },
    {
      "cell_type": "code",
      "metadata": {
        "id": "zg9SgYsivX-w"
      },
      "source": [
        "def pop(s):\n",
        "  if is_empty_Stack(s):\n",
        "    False\n",
        "  else:\n",
        "    p=s.next\n",
        "    p.prev.next=p.next\n",
        "    p.next.prev=p.prev\n",
        "    return p.value"
      ],
      "execution_count": 9,
      "outputs": []
    },
    {
      "cell_type": "code",
      "metadata": {
        "colab": {
          "base_uri": "https://localhost:8080/"
        },
        "id": "ScJpd15uv5yd",
        "outputId": "c3060718-5627-46b9-87c0-e1d876f42c11"
      },
      "source": [
        "s=new_Stack()\n",
        "push(s,5)\n",
        "print(is_empty_Stack(s))\n",
        "print(pop(s))\n",
        "print(is_empty_Stack(s))\n"
      ],
      "execution_count": 10,
      "outputs": [
        {
          "output_type": "stream",
          "text": [
            "False\n",
            "5\n",
            "True\n"
          ],
          "name": "stdout"
        }
      ]
    },
    {
      "cell_type": "code",
      "metadata": {
        "colab": {
          "base_uri": "https://localhost:8080/"
        },
        "id": "rGLECGSbwALo",
        "outputId": "80126e90-fcbc-44d4-829c-3702e5c05dc3"
      },
      "source": [
        "s=new_Stack()\n",
        "push(s,5)\n",
        "push(s,3)\n",
        "print(is_empty_Stack(s))\n",
        "print(pop(s))\n",
        "print(is_empty_Stack(s))\n",
        "print(pop(s))\n",
        "print(is_empty_Stack(s))"
      ],
      "execution_count": 11,
      "outputs": [
        {
          "output_type": "stream",
          "text": [
            "False\n",
            "3\n",
            "False\n",
            "5\n",
            "True\n"
          ],
          "name": "stdout"
        }
      ]
    },
    {
      "cell_type": "markdown",
      "metadata": {
        "id": "knJ_xVC-woLn"
      },
      "source": [
        "そんなわけで、スタックが実装できました。\n",
        "面白いのは双方向線形リストもそのヘッダもクラスとしては定義してないところ。\n",
        "次に続くものと前に続くものと値の３つだけが定義されたNodeというクラス一つだけ。\n",
        "ヘッダも値は関係なくて自分の次が自分ならヘッダという話。楽しい。"
      ]
    },
    {
      "cell_type": "markdown",
      "metadata": {
        "id": "lbmADW2vxSVn"
      },
      "source": [
        "そして次はキュー(queue)だ。動物の尻尾（王家？の紋章に使われるような模樣を指す言葉らしい）が語源。\n",
        "\n",
        "スタックは、最初に 入れた要素が最後に出てくるFIRST-IN-LAST-OUTでしたが、 キューは、最初に入れた要素が最初に出てくるFIRST-IN-FIRST-OUTという性質を持っています。 スタックはFILOと呼ばれますし、キューはFIFOと呼ばれることもあります。 \n"
      ]
    },
    {
      "cell_type": "code",
      "metadata": {
        "id": "ssi11ahTwciL"
      },
      "source": [
        "def new_Queue():\n",
        "  return new_Node(0)"
      ],
      "execution_count": 12,
      "outputs": []
    },
    {
      "cell_type": "code",
      "metadata": {
        "id": "Zpxumfiizqpx"
      },
      "source": [
        "def enQueue(q,v):\n",
        "  p=new_Node(v)\n",
        "  p.next=q\n",
        "  p.prev=q.prev\n",
        "  p.next.prev=p\n",
        "  p.prev.next=p\n",
        "def is_empty_Queue(q):\n",
        "  if q.next==q:\n",
        "    return True\n",
        "  else:\n",
        "    return False\n",
        "def deQueue(q):\n",
        "  if is_empty_Queue(q):\n",
        "    False\n",
        "  else:\n",
        "    p=q.next\n",
        "    p.prev.next=p.next\n",
        "    p.next.prev=p.prev\n",
        "    return p.value"
      ],
      "execution_count": 13,
      "outputs": []
    },
    {
      "cell_type": "code",
      "metadata": {
        "colab": {
          "base_uri": "https://localhost:8080/"
        },
        "id": "D33JZZgP0R_n",
        "outputId": "f3a49f07-b4e9-43dd-9209-4af9e130005a"
      },
      "source": [
        "q=new_Queue()\n",
        "enQueue(s,5)\n",
        "enQueue(s,8)\n",
        "enQueue(s,-1)\n",
        "print(is_empty_Queue(s))\n",
        "print(deQueue(s))\n",
        "print(is_empty_Queue(s))\n",
        "print(deQueue(s))\n",
        "print(is_empty_Queue(s))\n",
        "print(deQueue(s))\n"
      ],
      "execution_count": 14,
      "outputs": [
        {
          "output_type": "stream",
          "text": [
            "False\n",
            "5\n",
            "False\n",
            "8\n",
            "False\n",
            "-1\n"
          ],
          "name": "stdout"
        }
      ]
    },
    {
      "cell_type": "code",
      "metadata": {
        "id": "toE1_unW1F04"
      },
      "source": [
        "class Charfile:\n",
        "  def __init__(self, text):\n",
        "    self.chars = text\n",
        "    self.pos = 0\n",
        "  def nextCharacter(self):\n",
        "    if self.pos>=len(self.chars):\n",
        "      return None\n",
        "    else:\n",
        "      ans=self.chars[self.pos:self.pos+1]\n",
        "      self.pos=self.pos+1\n",
        "      return ans  "
      ],
      "execution_count": 15,
      "outputs": []
    },
    {
      "cell_type": "code",
      "metadata": {
        "colab": {
          "base_uri": "https://localhost:8080/"
        },
        "id": "0DEjErcxD9DZ",
        "outputId": "cbb2d6db-518d-44bc-cd85-b6af8338afd8"
      },
      "source": [
        "f=Charfile('abcd123efg456')\n",
        "print(f.pos,f.chars)\n",
        "print(f.nextCharacter())\n",
        "print(f.nextCharacter())"
      ],
      "execution_count": 16,
      "outputs": [
        {
          "output_type": "stream",
          "text": [
            "0 abcd123efg456\n",
            "a\n",
            "b\n"
          ],
          "name": "stdout"
        }
      ]
    },
    {
      "cell_type": "code",
      "metadata": {
        "id": "O6wWWTCeEG5T"
      },
      "source": [
        "def isAlphabet(c):\n",
        "  if c!=None:\n",
        "    return ｃ.isalpha()\n",
        "  else:\n",
        "    False\n",
        "def isDigit(c):\n",
        "  if c!=None:\n",
        "    return c.isdigit()\n",
        "  else:\n",
        "    False\n",
        "def isTerminator(c):\n",
        "  if c==None:\n",
        "    return True\n",
        "  else:\n",
        "    return False"
      ],
      "execution_count": 17,
      "outputs": []
    },
    {
      "cell_type": "code",
      "metadata": {
        "colab": {
          "base_uri": "https://localhost:8080/"
        },
        "id": "yVJQCY2fHGkb",
        "outputId": "f9304e9a-5712-430c-ce8c-6e55fd23ac64"
      },
      "source": [
        "f=Charfile('ab12')\n",
        "c=f.nextCharacter()\n",
        "print(c,isAlphabet(c),isDigit(c),isTerminator(c))\n",
        "c=f.nextCharacter()\n",
        "print(c,isAlphabet(c),isDigit(c),isTerminator(c))\n",
        "c=f.nextCharacter()\n",
        "print(c,isAlphabet(c),isDigit(c),isTerminator(c))\n",
        "c=f.nextCharacter()\n",
        "print(c,isAlphabet(c),isDigit(c),isTerminator(c))\n",
        "c=f.nextCharacter()\n",
        "print(c,isAlphabet(c),isDigit(c),isTerminator(c))"
      ],
      "execution_count": 18,
      "outputs": [
        {
          "output_type": "stream",
          "text": [
            "a True False False\n",
            "b True False False\n",
            "1 False True False\n",
            "2 False True False\n",
            "None None None True\n"
          ],
          "name": "stdout"
        }
      ]
    },
    {
      "cell_type": "code",
      "metadata": {
        "id": "SsV0313gHN58"
      },
      "source": [
        "def displayPair(x,y):\n",
        "  print(x+y)"
      ],
      "execution_count": 36,
      "outputs": []
    },
    {
      "cell_type": "code",
      "metadata": {
        "colab": {
          "base_uri": "https://localhost:8080/"
        },
        "id": "rXALpyElIyEl",
        "outputId": "f2f12fc5-8c95-494f-fb8e-2f005e71827b"
      },
      "source": [
        "displayPair('c','2')"
      ],
      "execution_count": 37,
      "outputs": [
        {
          "output_type": "stream",
          "text": [
            "c2\n"
          ],
          "name": "stdout"
        }
      ]
    },
    {
      "cell_type": "code",
      "metadata": {
        "colab": {
          "base_uri": "https://localhost:8080/"
        },
        "id": "kKg_ZHhtMdYd",
        "outputId": "d225c494-bdf9-45c1-fea5-4b7afe0a126b"
      },
      "source": [
        "q=new_Queue()\n",
        "print(q)"
      ],
      "execution_count": 38,
      "outputs": [
        {
          "output_type": "stream",
          "text": [
            "<__main__.Node object at 0x7fd5b42ef310>\n"
          ],
          "name": "stdout"
        }
      ]
    },
    {
      "cell_type": "code",
      "metadata": {
        "id": "7HikofmsI2EV"
      },
      "source": [
        "def pairing(charlst):\n",
        "  f=Charfile(charlst)\n",
        "  sq=new_Queue()\n",
        "  nq=new_Queue()\n",
        "  c=f.nextCharacter()\n",
        "  print(sq.value,nq.value,c)\n",
        "  while not isTerminator(c):\n",
        "    print(c)\n",
        "    if isAlphabet(c):\n",
        "      enQueue(sq,c)\n",
        "    else:\n",
        "      enQueue(nq,c)\n",
        "    c=f.nextCharacter()\n",
        "  while not (is_empty_Queue(sq) or is_empty_Queue(nq)):\n",
        "    sc=deQueue(sq)\n",
        "    nc=deQueue(nq)\n",
        "    displayPair(sc,nc)"
      ],
      "execution_count": 39,
      "outputs": []
    },
    {
      "cell_type": "code",
      "metadata": {
        "colab": {
          "base_uri": "https://localhost:8080/"
        },
        "id": "TzPriAytJdys",
        "outputId": "6c884c31-674f-473b-dd52-c547583fdb55"
      },
      "source": [
        "pairing('123ab4cde5f')"
      ],
      "execution_count": 40,
      "outputs": [
        {
          "output_type": "stream",
          "text": [
            "0 0 1\n",
            "1\n",
            "2\n",
            "3\n",
            "a\n",
            "b\n",
            "4\n",
            "c\n",
            "d\n",
            "e\n",
            "5\n",
            "f\n",
            "a1\n",
            "b2\n",
            "c3\n",
            "d4\n",
            "e5\n"
          ],
          "name": "stdout"
        }
      ]
    },
    {
      "cell_type": "markdown",
      "metadata": {
        "id": "ut7IENsAab-e"
      },
      "source": [
        "さて、ではqueueを２つ使わずに１つで済ませるパズルを解いてみよう。"
      ]
    },
    {
      "cell_type": "code",
      "metadata": {
        "id": "IpVkahPMKy1a"
      },
      "source": [
        "def isAlphabetQueue(q):\n",
        "  return q.next.value.isalpha()"
      ],
      "execution_count": 45,
      "outputs": []
    },
    {
      "cell_type": "code",
      "metadata": {
        "colab": {
          "base_uri": "https://localhost:8080/"
        },
        "id": "QyMTn_a-WwNN",
        "outputId": "75ea44d4-7782-4de8-ac70-038babe85e49"
      },
      "source": [
        "q=new_Queue()\n",
        "enQueue(q,'1')\n",
        "enQueue(q,'2')\n",
        "isAlphabetQueue(q)"
      ],
      "execution_count": 49,
      "outputs": [
        {
          "output_type": "execute_result",
          "data": {
            "text/plain": [
              "False"
            ]
          },
          "metadata": {
            "tags": []
          },
          "execution_count": 49
        }
      ]
    },
    {
      "cell_type": "code",
      "metadata": {
        "id": "dJaLKyKDXIrp"
      },
      "source": [
        "def pairingS(charlst):\n",
        "  f=Charfile(charlst)\n",
        "  q=new_Queue()\n",
        "  c=f.nextCharacter()\n",
        "  if not isTerminator(c):\n",
        "    enQueue(q,c)\n",
        "    c=f.nextCharacter()\n",
        "    while not isTerminator(c):\n",
        "      if isAlphabet(c):\n",
        "        if isAlphabetQueue(q):\n",
        "          enQueue(q,c)\n",
        "        else:\n",
        "          cn=deQueue(q)\n",
        "          print(c+cn)\n",
        "#          display(c,cn)\n",
        "      else:\n",
        "        if isAlphabetQueue(q):\n",
        "          cs=deQueue(q)\n",
        "          print(cs+c)\n",
        "#          display(cs,c)\n",
        "        else:\n",
        "          enQueue(q,c)\n",
        "      c=f.nextCharacter()"
      ],
      "execution_count": 64,
      "outputs": []
    },
    {
      "cell_type": "code",
      "metadata": {
        "colab": {
          "base_uri": "https://localhost:8080/",
          "height": 328
        },
        "id": "lKS_WAzYZBFC",
        "outputId": "383aa4f6-7770-4e81-be0c-4bff7dd80bc9"
      },
      "source": [
        "pairingS('123ab4cde5f')"
      ],
      "execution_count": 65,
      "outputs": [
        {
          "output_type": "stream",
          "text": [
            "a1\n",
            "b2\n",
            "c3\n",
            "d4\n"
          ],
          "name": "stdout"
        },
        {
          "output_type": "error",
          "ename": "AttributeError",
          "evalue": "ignored",
          "traceback": [
            "\u001b[0;31m---------------------------------------------------------------------------\u001b[0m",
            "\u001b[0;31mAttributeError\u001b[0m                            Traceback (most recent call last)",
            "\u001b[0;32m<ipython-input-65-6ea505069866>\u001b[0m in \u001b[0;36m<module>\u001b[0;34m()\u001b[0m\n\u001b[0;32m----> 1\u001b[0;31m \u001b[0mpairingS\u001b[0m\u001b[0;34m(\u001b[0m\u001b[0;34m'123ab4cde5f'\u001b[0m\u001b[0;34m)\u001b[0m\u001b[0;34m\u001b[0m\u001b[0;34m\u001b[0m\u001b[0m\n\u001b[0m",
            "\u001b[0;32m<ipython-input-64-565e9764ba36>\u001b[0m in \u001b[0;36mpairingS\u001b[0;34m(charlst)\u001b[0m\n\u001b[1;32m      8\u001b[0m     \u001b[0;32mwhile\u001b[0m \u001b[0;32mnot\u001b[0m \u001b[0misTerminator\u001b[0m\u001b[0;34m(\u001b[0m\u001b[0mc\u001b[0m\u001b[0;34m)\u001b[0m\u001b[0;34m:\u001b[0m\u001b[0;34m\u001b[0m\u001b[0;34m\u001b[0m\u001b[0m\n\u001b[1;32m      9\u001b[0m       \u001b[0;32mif\u001b[0m \u001b[0misAlphabet\u001b[0m\u001b[0;34m(\u001b[0m\u001b[0mc\u001b[0m\u001b[0;34m)\u001b[0m\u001b[0;34m:\u001b[0m\u001b[0;34m\u001b[0m\u001b[0;34m\u001b[0m\u001b[0m\n\u001b[0;32m---> 10\u001b[0;31m         \u001b[0;32mif\u001b[0m \u001b[0misAlphabetQueue\u001b[0m\u001b[0;34m(\u001b[0m\u001b[0mq\u001b[0m\u001b[0;34m)\u001b[0m\u001b[0;34m:\u001b[0m\u001b[0;34m\u001b[0m\u001b[0;34m\u001b[0m\u001b[0m\n\u001b[0m\u001b[1;32m     11\u001b[0m           \u001b[0menQueue\u001b[0m\u001b[0;34m(\u001b[0m\u001b[0mq\u001b[0m\u001b[0;34m,\u001b[0m\u001b[0mc\u001b[0m\u001b[0;34m)\u001b[0m\u001b[0;34m\u001b[0m\u001b[0;34m\u001b[0m\u001b[0m\n\u001b[1;32m     12\u001b[0m         \u001b[0;32melse\u001b[0m\u001b[0;34m:\u001b[0m\u001b[0;34m\u001b[0m\u001b[0;34m\u001b[0m\u001b[0m\n",
            "\u001b[0;32m<ipython-input-45-70f7a5682d46>\u001b[0m in \u001b[0;36misAlphabetQueue\u001b[0;34m(q)\u001b[0m\n\u001b[1;32m      1\u001b[0m \u001b[0;32mdef\u001b[0m \u001b[0misAlphabetQueue\u001b[0m\u001b[0;34m(\u001b[0m\u001b[0mq\u001b[0m\u001b[0;34m)\u001b[0m\u001b[0;34m:\u001b[0m\u001b[0;34m\u001b[0m\u001b[0;34m\u001b[0m\u001b[0m\n\u001b[0;32m----> 2\u001b[0;31m   \u001b[0;32mreturn\u001b[0m \u001b[0mq\u001b[0m\u001b[0;34m.\u001b[0m\u001b[0mnext\u001b[0m\u001b[0;34m.\u001b[0m\u001b[0mvalue\u001b[0m\u001b[0;34m.\u001b[0m\u001b[0misalpha\u001b[0m\u001b[0;34m(\u001b[0m\u001b[0;34m)\u001b[0m\u001b[0;34m\u001b[0m\u001b[0;34m\u001b[0m\u001b[0m\n\u001b[0m",
            "\u001b[0;31mAttributeError\u001b[0m: 'int' object has no attribute 'isalpha'"
          ]
        }
      ]
    },
    {
      "cell_type": "code",
      "metadata": {
        "id": "-DEzbJLQZFA1"
      },
      "source": [
        ""
      ],
      "execution_count": null,
      "outputs": []
    }
  ]
}