{
 "cells": [
  {
   "cell_type": "markdown",
   "metadata": {},
   "source": [
    "# Count Length of Longest increasing or decreasing subsequence"
   ]
  },
  {
   "cell_type": "markdown",
   "metadata": {},
   "source": [
    "# 最長の単調増加／減少部分列を数え上げる"
   ]
  },
  {
   "cell_type": "markdown",
   "metadata": {},
   "source": [
    "例えば, 1,2,3,4,5,6の並べ替えは, 3,5,1,4,6,2 のようなものが全部で6!通りある。\n",
    "\n",
    "例えば, 3,5,1,4,6,2の単調増加な部分列は, 3,5とか1,4,6があるが最長なものは3,4,6のような長さが3のものだ。\n",
    "当然単調減少な部分列にも最長なものがありその長さが分かるだろう。上の例では, 5,4,2などの長さ3だろうか。\n",
    "そしてそれらを併せて評価すれば, 単調増加／単調減少な部分列の最長のものの長さは 3 となる。\n",
    "\n",
    "これを全ての並べ替えについて数え上げると, \n",
    "最大長が3のものが306, 4のものが362, 5のものが50, 6のものが2だと分かる。\n",
    "分かると言っても, プログラムを組んで実直に数えて貰っただけだが。"
   ]
  },
  {
   "cell_type": "markdown",
   "metadata": {},
   "source": [
    "プログラム言語は**Julia**を使うてみた。**Package**として**Combinatorics**を利用した。"
   ]
  },
  {
   "cell_type": "code",
   "execution_count": 1,
   "metadata": {},
   "outputs": [],
   "source": [
    "using Combinatorics"
   ]
  },
  {
   "cell_type": "code",
   "execution_count": 11,
   "metadata": {},
   "outputs": [
    {
     "name": "stdout",
     "output_type": "stream",
     "text": [
      "  0.011865 seconds (8.04 k allocations: 466.125 KiB)\n"
     ]
    },
    {
     "data": {
      "text/plain": [
       "incdecSubseqCnt (generic function with 1 method)"
      ]
     },
     "execution_count": 11,
     "metadata": {},
     "output_type": "execute_result"
    }
   ],
   "source": [
    "@time function incdecSubseqCnt(ary)\n",
    "    incpairs=[[ary[1],1]]\n",
    "    decpairs=[[ary[1],1]]\n",
    "    for i=2:length(ary)\n",
    "        maxl,addj=1,-1\n",
    "        for j=1:length(incpairs)\n",
    "            if ary[i]>incpairs[j][1] && incpairs[j][2]>maxl-1\n",
    "                addj,maxl=j,incpairs[j][2]+1\n",
    "            end\n",
    "        end\n",
    "        if addj>0\n",
    "            push!(incpairs,[ary[i],maxl])\n",
    "        else\n",
    "            push!(incpairs,[ary[i],1])\n",
    "        end\n",
    "        maxl,addj=1,-1\n",
    "        for j=1:length(decpairs)\n",
    "            if ary[i]<decpairs[j][1] && decpairs[j][2]>maxl-1\n",
    "                addj,maxl=j,decpairs[j][2]+1\n",
    "            end\n",
    "        end\n",
    "        if addj>0\n",
    "            push!(decpairs,[ary[i],maxl])\n",
    "        else\n",
    "            push!(decpairs,[ary[i],1])\n",
    "        end       \n",
    "    end\n",
    "    incmaxl=1\n",
    "    for i=1:length(incpairs)    \n",
    "        if incmaxl<incpairs[i][2]\n",
    "            incmaxl=incpairs[i][2]\n",
    "        end\n",
    "    end\n",
    "    decmaxl=1\n",
    "    for i=1:length(decpairs)    \n",
    "        if decmaxl<decpairs[i][2]\n",
    "            decmaxl=decpairs[i][2]\n",
    "        end\n",
    "    end\n",
    "    return max(incmaxl,decmaxl)\n",
    "end"
   ]
  },
  {
   "cell_type": "code",
   "execution_count": 15,
   "metadata": {},
   "outputs": [
    {
     "name": "stdout",
     "output_type": "stream",
     "text": [
      "3 : Int32[0, 4, 2]\n",
      "4 : Int32[0, 4, 18, 2]\n",
      "5 : Int32[0, 0, 86, 32, 2]\n",
      "6 : Int32[0, 0, 306, 362, 50, 2]\n",
      "7 : Int32[0, 0, 882, 3242, 842, 72, 2]\n",
      "8 : Int32[0, 0, 1764, 24564, 12210, 1682, 98, 2]\n",
      "9 : Int32[0, 0, 1764, 163872, 161158, 32930, 3026, 128, 2]\n",
      "10 : Int32[0, 0, 0, 985032, 1969348, 592652, 76562, 5042, 162, 2]\n",
      " 35.864378 seconds (136.25 M allocations: 11.280 GiB, 24.23% gc time)\n"
     ]
    }
   ],
   "source": [
    "@time for n = 3:10\n",
    "    seq = Vector(1:n)\n",
    "    p = union(permutations(seq))\n",
    "    cntlst=zeros(Int32, n) \n",
    "    for i = 1:length(p)\n",
    "        j=incdecSubseqCnt(p[i])\n",
    "        cntlst[j]=cntlst[j]+1\n",
    "    end\n",
    "    println(n,\" : \",cntlst)\n",
    "end"
   ]
  },
  {
   "cell_type": "code",
   "execution_count": null,
   "metadata": {},
   "outputs": [],
   "source": []
  }
 ],
 "metadata": {
  "kernelspec": {
   "display_name": "Julia 1.8.4",
   "language": "julia",
   "name": "julia-1.8"
  },
  "language_info": {
   "file_extension": ".jl",
   "mimetype": "application/julia",
   "name": "julia",
   "version": "1.8.4"
  }
 },
 "nbformat": 4,
 "nbformat_minor": 4
}
