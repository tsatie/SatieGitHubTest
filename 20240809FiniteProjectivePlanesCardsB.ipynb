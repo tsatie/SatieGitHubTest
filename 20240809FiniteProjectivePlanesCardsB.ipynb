{
 "cells": [
  {
   "cell_type": "markdown",
   "id": "2189cb18-e414-485c-8a17-a7010434d293",
   "metadata": {},
   "source": [
    "# 有限射影平面神経衰弱\n",
    "**有限射影平面神経衰弱**とは, \n",
    "「それまでに取られたn組のトランプと矛盾しない有限射影平面上の直線をなすトランプの組を取る」というゲームです。\n",
    "簡単にいうと、\n",
    "+ 4枚すべての数が異なる\n",
    "+ それまでの組(4枚1組)のいずれ(の組)とも、1枚だけ数が一致する\n",
    "\n",
    "ような4枚組を取る神経衰弱です。\n",
    "\n",
    "**PlayngCards** という **Pkg** でトランプのカードを扱えるのでだけど, どうにも使えないので, 普通に試してみましょう。\n",
    "\n",
    "配列を **シャッフル** するのに **Shuffle** という **Pkg** が要るようなので, 導入 **add** しておいて, 用意します。"
   ]
  },
  {
   "cell_type": "code",
   "execution_count": 1,
   "id": "594309c9-beb6-4907-aeb3-6edf37da287e",
   "metadata": {},
   "outputs": [],
   "source": [
    "using Shuffle"
   ]
  },
  {
   "cell_type": "markdown",
   "id": "cd20584a-a1ad-41f0-ae9e-fe3a945904bd",
   "metadata": {},
   "source": [
    "当初は, スート(♠♣♡♢)の区別はしていませんでした。が折角なので区別してみる仕様にしました。"
   ]
  },
  {
   "cell_type": "code",
   "execution_count": 11,
   "id": "d7efbe19-277d-482a-a410-043255ea8cb1",
   "metadata": {},
   "outputs": [
    {
     "name": "stdout",
     "output_type": "stream",
     "text": [
      "♠4,♡X,♣7,♡2,♠K,♢A,♢4,♡4,♣8,♣X,♠J,♡8,♣A\n",
      "♢7,♢2,♡3,♡J,♢Q,♣K,♢J,♡5,♣4,♣2,♣Q,♠5,♢8\n",
      "♠6,♠2,♠Q,♠7,♡Q,♡6,♢X,♣6,♣3,♢K,♣5,♠X,♠A\n",
      "♠3,♢6,♡7,♠9,♠8,♣9,♢3,♢5,♣J,♡9,♢9,♡K,♡A\n"
     ]
    }
   ],
   "source": [
    "suit=[\"♠\",\"♣\",\"♡\",\"♢\"]# スートを文字列の配列で, カードは配列で[数,スート]としています。\n",
    "scard=[\"A\",\"2\",\"3\",\"4\",\"5\",\"6\",\"7\",\"8\",\"9\",\"X\",\"J\",\"Q\",\"K\"]# 数です。1は A(エース), 11,12,13は JQK です。10だけ2桁は面倒なので X としてます。\n",
    "function card(c)# カードの配列から, \"スート数\"という文字列を返します。\n",
    "    suit[c[2]]*scard[c[1]]\n",
    "end\n",
    "deck=[]# トランプ１セットのことをデッキと呼ぶようです。\n",
    "for i=1:4,j=1:13# スート毎に1から13までをデッキに用意します。\n",
    "    push!(deck,[j,i])\n",
    "end\n",
    "deck=shuffle(deck)# シャッフルします。\n",
    "#println(join(deck,\",\"))\n",
    "deckc=[]\n",
    "for c ∈ deck\n",
    "    push!(deckc,card(c))\n",
    "end\n",
    "for i=1:4\n",
    "    println(join(deckc[1+(i-1)*13:13*i],\",\"))\n",
    "end"
   ]
  },
  {
   "cell_type": "code",
   "execution_count": 71,
   "id": "a9b2a68e-02e5-4b4e-9407-3e3de0122ece",
   "metadata": {},
   "outputs": [
    {
     "name": "stdout",
     "output_type": "stream",
     "text": [
      "196\n",
      "OK > (♣A♠5♣X♢6)(♣J♠6♡7♣3)(♢J♢2♠K♣5)(♢Q♡8♠X♡J)(♢K♣4♣6♢8)(♢4♢5♣Q♢7)(♡Q♣K♡3♠A)(♡A♣2♠7♣8)(♢X♠4♢3♡2)(♢9♣7♡X♡K)(♠9♠8♠3♡5)(♣9♡4♠J♢A)(♡9♠2♡6♠Q)\n",
      "117\n",
      "OK > (♠9♡6♢4♠5)(♡J♣8♡5♣X)(♣9♢2♣J♣K)(♡4♣A♡X♠2)(♢5♡2♠3♢Q)(♣Q♢9♡7♢X)(♣5♢7♠A♠K)(♣6♠J♢A♡Q)(♠6♢K♢3♠X)(♣2♣7♢6♡8)(♠7♡3♠4♢J)(♣4♢8♠Q♡K)(♠8♣3♡9♡A)\n",
      "93\n",
      "OK > (♣K♡9♢X♣J)(♠2♠K♠4♣8)(♢Q♠8♠9♠3)(♣X♣Q♠5♣4)(♢4♣7♣9♠A)(♢6♡4♡J♡3)(♡6♡X♡7♢8)(♠Q♢A♠6♢K)(♣3♡A♣2♠X)(♡Q♠J♡2♠7)(♣5♢J♣A♡8)(♢3♢7♡5♡K)(♣6♢9♢5♢2)\n",
      "144\n",
      "OK > (♡J♢K♡Q♠5)(♢Q♡7♢X♡A)(♣K♢8♠X♡3)(♣A♢2♡K♠4)(♠A♢9♣J♣3)(♣2♢5♣9♣X)(♣7♣4♡5♠3)(♠7♢J♡2♣8)(♠6♠K♢7♠9)(♡X♢4♠J♣6)(♠8♣Q♡9♡4)(♡6♣5♢A♡8)(♠2♠Q♢3♢6)\n",
      "107\n",
      "OK > (♠J♣8♣3♣A)(♣4♢5♢8♡K)(♣6♠7♣X♡8)(♢K♢7♢A♠Q)(♣J♠9♣7♡4)(♠3♢6♡Q♠4)(♠X♠K♢3♢9)(♠A♢4♢X♣2)(♡9♠8♣Q♢2)(♣5♢Q♡J♡X)(♡2♡7♡3♠5)(♠2♣K♢J♡6)(♠6♡5♣9♡A)\n",
      "81\n",
      "OK > (♢6♡Q♠4♢K)(♢4♣9♣X♡2)(♠2♡3♡5♡K)(♠Q♢5♡J♠9)(♣K♣J♡8♠X)(♣8♢2♣Q♡7)(♡4♢8♠A♣5)(♠K♡9♢A♢7)(♠7♢3♢J♣4)(♡A♡6♣2♠J)(♢9♠8♠6♣3)(♢X♠3♢Q♣A)(♣7♣6♠5♡X)\n",
      "87\n",
      "OK > (♠5♠X♢6♡4)(♣4♡2♡K♡Q)(♣5♣2♣3♣7)(♣K♣J♡5♣9)(♠2♡9♡A♠6)(♢A♢4♠J♠3)(♠4♠7♠9♢8)(♣A♢K♢7♡X)(♡6♠K♠8♡3)(♣X♢2♡8♢J)(♢9♢X♣Q♢3)(♠A♢Q♢5♣8)(♡J♠Q♣6♡7)\n",
      "139\n",
      "OK > (♢7♣Q♣J♠2)(♠7♠A♣X♢K)(♠5♢6♠J♠X)(♣5♡7♡9♠3)(♢A♠6♡3♢Q)(♠K♣8♢3♡J)(♠8♣2♣A♡5)(♢X♡4♡2♣3)(♡A♠9♢J♣4)(♢9♣6♢2♣K)(♣9♡X♠Q♡8)(♣7♢4♡6♢8)(♠4♡Q♢5♡K)\n",
      "101\n",
      "OK > (♣Q♣3♡7♢4)(♡6♠8♣4♠5)(♠X♣9♠7♣8)(♡K♠9♡3♡5)(♠J♢X♠Q♢5)(♢6♣X♢3♢2)(♡Q♡2♢8♢K)(♢A♡8♠3♢J)(♣A♠4♡X♠K)(♡4♣J♢9♣2)(♣7♡A♠2♣5)(♡9♢Q♠A♣6)(♠6♡J♢7♣K)\n",
      "82\n",
      "OK > (♣5♡J♢X♣K)(♠3♠J♡A♡2)(♠9♣8♡6♢J)(♢7♡8♠2♡5)(♠A♠4♢8♠K)(♢9♡K♢3♠7)(♣X♠8♡Q♣3)(♣2♢K♣6♠Q)(♡3♢5♠6♡4)(♡9♢4♢2♠X)(♡X♢6♣7♣A)(♠5♣9♢A♢Q)(♣J♣Q♣4♡7)\n"
     ]
    }
   ],
   "source": [
    "function handnum(hand)# 4枚組から, 数だけの配列を返します。\n",
    "    [hand[1][1],hand[2][1],hand[3][1],hand[4][1]]\n",
    "end\n",
    "function cardp(crdset)# [数,スート]というカードの配列の配列 crdset をスートの絵柄と数の文字列にして返します。 \n",
    "    crdc=[]\n",
    "    for c ∈ crdset\n",
    "        push!(crdc,card(c))\n",
    "    end\n",
    "    join(crdc,\"\")\n",
    "end\n",
    "function cardpl(crdsetlst)# [数,スート]というカードの配列の配列 crdset の配列 crdsetlst を()で区切ってスートの絵柄と数の文字列にして返します。\n",
    "    crdcl=[]\n",
    "    for c ∈ crdsetlst\n",
    "        push!(crdcl,\"(\"*cardp(c)*\")\")\n",
    "    end\n",
    "    join(crdcl,\",\")\n",
    "end\n",
    "function chkHand(hc,hsc)# 取ろうとしている4枚組が, 2つの条件を満たしているかどうかチェックします。\n",
    "    # hcはカード[数,スート]4枚の組の配列。hscは取ったカード[数,スート]の組の配列\n",
    "    h=handnum(hc)# 取ろうとしている4枚の数の配列を h に\n",
    "    ans=true\n",
    "    if length(unique(h))!=4# 取ろうとしている 4枚 に同じ数があれば false を返す。\n",
    "        ans=false\n",
    "    else\n",
    "        hs=[]# 既に取った分の4枚組の配列から数の配列にしたものを hs。hsは, 「4つの数の配列」の配列\n",
    "        for hss ∈ hsc# 1組ずつ数の配列に変えて hs に収める。\n",
    "            push!(hs,handnum(hss))\n",
    "        end\n",
    "        if hs==[]# まだ1組も取っていなければ true\n",
    "            ans\n",
    "        else\n",
    "            for ha ∈ hs# 既に取った4枚組を1つずつチェックする。\n",
    "                if length(Set(h) ∩ Set(ha))!=1# 集合で評価して, 共通部分が 1 つであれば良し。\n",
    "                    ans=false# 駄目なら false でループを抜ける。\n",
    "                    break\n",
    "                end\n",
    "            end\n",
    "        end\n",
    "    end\n",
    "    ans# true or false\n",
    "end\n",
    "for ggg=1:10# 何度かこのゲームを繰り返す。\n",
    "    deck=[]# 毎回デッキの準備から。\n",
    "    for i=1:4,j=1:13\n",
    "        push!(deck,[j,i])\n",
    "    end\n",
    "    hands=[]\n",
    "    for gg=1:300# 4枚ずつ調べていって, 取れる分は取る。取れなかった分は, ndeck に収めて, それをデッキとして繰り返す。\n",
    "        deck=shuffle(deck)# シャッフルする。\n",
    "        ndeck=[]# \n",
    "        for g=1:length(deck)/4# デッキを4枚毎に調べる。\n",
    "            handc=[]# handc は次に取る4枚組\n",
    "            for i=1:4# 1枚ずつデッキから取り出して, handcに入れていく\n",
    "                push!(handc,popfirst!(deck))# push!は配列に入れる。popfirst!はデッキの先頭から1枚取り除いたもの\n",
    "            end# これで 4枚 が準備できる。\n",
    "#            println(handc,cardp(handc))\n",
    "#            println(cardp(handc))\n",
    "#    println(join(deck,\",\"))\n",
    "#    println(join(hand,\",\"))\n",
    "#            if length(unique(handnum(handc)))==4 && chkHand(handc,hands)\n",
    "            if chkHand(handc,hands)# 条件が合えば, \n",
    "                push!(hands,handc)# 1組取れたことにする。取れた組の配列 hands に加える。\n",
    "            else# 駄目なら\n",
    "#                println(cardpl(ndeck),\",\",handc)\n",
    "#                println(cardp(ndeck),\", \",cardp(handc))\n",
    "                ndeck=[ndeck;handc]# 次のデッキ ndeck に handc を合わせて元に戻す\n",
    "            end\n",
    "        end\n",
    "#        println(join(hlst,\",\"))\n",
    "#    println(join(ndeck,\",\"))\n",
    "        if length(ndeck)==0\n",
    "            println(gg)\n",
    "            break\n",
    "        else\n",
    "            deck=ndeck# 取れなかった分のカードで次の回へ\n",
    "        end\n",
    "    end\n",
    "    hlst=[]\n",
    "    for h ∈ hands\n",
    "        push!(hlst,\"(\"*join(cardp(h),\"\")*\")\")\n",
    "    end\n",
    "    if length(hlst)==13\n",
    "        print(\"OK > \")\n",
    "        println(join(hlst,\"\"))\n",
    "    else\n",
    "#        print(length(hlst),\", \")\n",
    "    end\n",
    "end"
   ]
  },
  {
   "cell_type": "code",
   "execution_count": null,
   "id": "ddb82540-f8f5-4149-8136-c570b8d95926",
   "metadata": {},
   "outputs": [],
   "source": []
  }
 ],
 "metadata": {
  "kernelspec": {
   "display_name": "Julia 1.10.4",
   "language": "julia",
   "name": "julia-1.10"
  },
  "language_info": {
   "file_extension": ".jl",
   "mimetype": "application/julia",
   "name": "julia",
   "version": "1.10.4"
  }
 },
 "nbformat": 4,
 "nbformat_minor": 5
}
