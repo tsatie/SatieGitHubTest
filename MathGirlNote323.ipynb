{
 "cells": [
  {
   "cell_type": "markdown",
   "id": "123ba80b",
   "metadata": {},
   "source": [
    "# 数学ガールの秘密ノート第323回の線形リストの実装"
   ]
  },
  {
   "cell_type": "markdown",
   "id": "eb27e4f9",
   "metadata": {},
   "source": [
    "## 第323回　アルゴリズム、なかなか大変（前編）\n",
    "リストヘッド付き線形リストというデータ構造\n",
    "これを Python で素朴に実装してみる。\n",
    "\n",
    "Engineering Note\n",
    "〜　プログラミングなどの技術的なメモ　〜\n",
    "https://engineeringnote.hateblo.jp/entry/python/algorithm-and-data-structures/linked_list\n",
    "を参考にしてみる"
   ]
  },
  {
   "cell_type": "code",
   "execution_count": 1,
   "id": "35fb6a33",
   "metadata": {},
   "outputs": [],
   "source": [
    "class Box:\n",
    "    def __init__(self, value):\n",
    "        self.value = value\n",
    "        self.next = None"
   ]
  },
  {
   "cell_type": "markdown",
   "id": "a782cd9e",
   "metadata": {},
   "source": [
    "<code>class Box:</code><br>\n",
    "で value と next をデータに持つ「箱」というデータ型を定義する。 <br>\n",
    "<code>    def \\_\\_init__(self, value):</code><br>\n",
    "オブジェクトというかBoxというクラスのデータを設定したときに行われる初期設定を行うコンストラクタと呼ばれるメソッド。<br>\n",
    "<code>        self.value = value</code><br>\n",
    "<code>self<\\code> はそのデータを指す。その <code>value</code> の値は <code>value</code> にして、<br>\n",
    "<code>        self.next = None</code> <br>\n",
    "next（線形に繋がる次の「箱」は最初はないのだから Python で「ない」ことを表す <code>None</code> としておく）<br>\n",
    "続く　<code>Box</code> が線形に結ばれた <code>LinkedBoxes</code> というオブジェクト？構造体？の定義の中で例えば <code>self.head=Box(None)<\\code>とあるが、これが所謂リストヘッドな箱なので、値である <code>value</code> は<code>Box(None)</code>なので<code>None</code>と設定される。"
   ]
  },
  {
   "cell_type": "code",
   "execution_count": 2,
   "id": "a85e7bca",
   "metadata": {},
   "outputs": [],
   "source": [
    "class LinkedBoxes:\n",
    "    def __init__(self):\n",
    "        self.head = Box(None)\n",
    "    def addBox(self, value):\n",
    "        front = self.head\n",
    "        rear = front.next\n",
    "        while rear!=None:\n",
    "            front = rear\n",
    "            rear = rear.next\n",
    "        newbox = Box(value)\n",
    "        newbox.next = rear\n",
    "        front.next = newbox\n",
    "    def showboxes(self):\n",
    "        print('ListHead :',self.head.value, end=' -> ')\n",
    "        tmp = self.head.next\n",
    "        while tmp:\n",
    "            if tmp.next!=None:\n",
    "                print(tmp.value, end=' -> ')\n",
    "            else:\n",
    "                print(tmp.value)\n",
    "            tmp = tmp.next"
   ]
  },
  {
   "cell_type": "markdown",
   "id": "13dfc791",
   "metadata": {},
   "source": [
    "続いて <code>Box</code> が線形に結ばれた <code>LinkedBoxes</code> というオブジェクト？構造体？の定義<br>\n",
    "<code>class LinkedBoxes:\n",
    "    def __init__(self):\n",
    "        self.head = Box(None)</code><br>\n",
    "で、<code>LinkedBoxes</code>というクラスを定義し、初期設定としては、繋がった箱のリストのヘッダだけがある状態とする。\n",
    "<code>    def addBox(self, value):\n",
    "        front = self.head\n",
    "        rear = front.next\n",
    "        while rear!=None:\n",
    "            front = rear\n",
    "            rear = rear.next\n",
    "        newbox = Box(value)\n",
    "        newbox.next = rear\n",
    "        front.next = newbox</code><br>\n",
    "線形に結ばれたリストに箱を加えるという<code>LinkedBoxes</code>に関する固有の操作である<code>addBox</code>を定義している。<br>\n",
    "線形リストの終端を探してそこに新しい箱を継ぐという操作だ。<br>\n",
    "そのために先ず正面というか其処という意味合いの<code>front</code>に線形リストのヘッダである<code>self.head</code>を設定する。\n",
    "そして前面という感じの意味合いの<code>rear</code>にその<code>front</code>の次である<code>front.next</code>を設定する。当然だけど<code>rear</code>がない、つまり<code>None</code>なら終端というか最後尾という事になる。\n",
    "そこで<code>rear!=None</code>つまり前面というか次の箱がないという状態になるまで、\n",
    "<code>rear</code>を<code>front</code>にして、\n",
    "<code>rear</code>の次（<code>rear.next</code>）を新しく<code>rear</code>にする操作を繰り返す。\n",
    "いよいよ<code>rear</code>が<code>None</code>となったら、\n",
    "新しい箱<code>newbox</code>を呼んでその箱の値は<code>value</code>として\n",
    "<code>newbox</code>の次（<code>newbox.next</code>）は<code>rear</code>として、\n",
    "<code>front</code>の次（<code>front.next</code>）は<code>newbox</code>とします。\n",
    "つまり継ぎ替えているわけですね。"
   ]
  },
  {
   "cell_type": "markdown",
   "id": "d2e8d9ad",
   "metadata": {},
   "source": [
    "<code>    def showboxes(self):\n",
    "        print('ListHead :',self.head.value, end=' -> ')\n",
    "        tmp = self.head.next\n",
    "        while tmp:\n",
    "          if tmp.next!=None:\n",
    "            print(tmp.value, end=' -> ')\n",
    "          else:\n",
    "            print(tmp.value)\n",
    "          tmp = tmp.next</code><br>\n",
    "はこの線形リンクの全体像をとりあえずそれらしく表示する操作です。詳細は省きます。"
   ]
  },
  {
   "cell_type": "code",
   "execution_count": 3,
   "id": "4ee25535",
   "metadata": {
    "scrolled": true
   },
   "outputs": [
    {
     "name": "stdout",
     "output_type": "stream",
     "text": [
      "<__main__.Box object at 0x7fe6965497d0>\n",
      "ListHead : None -> 31 -> 41 -> 59 -> 26 -> 53\n"
     ]
    }
   ],
   "source": [
    "boxes = LinkedBoxes()\n",
    "for item in [31,41,59,26,53]:\n",
    "    boxes.addBox(item)\n",
    "print(boxes.head)\n",
    "boxes.showboxes()"
   ]
  },
  {
   "cell_type": "markdown",
   "id": "5d33b986",
   "metadata": {},
   "source": [
    "実際に「秘密ノート」にある線形リンクを作ってみたわけです。"
   ]
  },
  {
   "cell_type": "markdown",
   "id": "8820352a",
   "metadata": {},
   "source": [
    "それでは第３２３回の冒頭で紹介されている前回？前々回のアルゴリズムというか操作を実装してみましょう。<br>\n",
    "<b>List 9:リストヘッド付き線形リスト版MOVE-TO-FIRST</b><br>\n",
    "というやつです。"
   ]
  },
  {
   "cell_type": "code",
   "execution_count": 4,
   "id": "2897a22e",
   "metadata": {},
   "outputs": [],
   "source": [
    "def move_to_first(self,value):\n",
    "    p=self.head\n",
    "    while p.next!=None:\n",
    "        q=p.next\n",
    "        if q.value==value:\n",
    "            p.next=q.next\n",
    "            q.next=self.head.next\n",
    "            self.head.next=q\n",
    "            break\n",
    "        else:\n",
    "            p=q\n",
    "#LinkedBoxes.move_to_first = move_to_first"
   ]
  },
  {
   "cell_type": "code",
   "execution_count": 5,
   "id": "5a319b8a",
   "metadata": {},
   "outputs": [
    {
     "name": "stdout",
     "output_type": "stream",
     "text": [
      "ListHead : None -> 31 -> 41 -> 59 -> 26 -> 53\n",
      "ListHead : None -> 59 -> 31 -> 41 -> 26 -> 53\n"
     ]
    }
   ],
   "source": [
    "boxes.showboxes()\n",
    "move_to_first(boxes,59)\n",
    "boxes.showboxes()"
   ]
  },
  {
   "cell_type": "markdown",
   "id": "a307a5dc",
   "metadata": {},
   "source": [
    "さて、それでは\n",
    "### 問題3 数列内に値が存在するかどうかの判定\n",
    "に取り掛かりましょう。\n",
    "一旦線形リストをリセットしておきます。"
   ]
  },
  {
   "cell_type": "code",
   "execution_count": 6,
   "id": "625d4e28",
   "metadata": {},
   "outputs": [
    {
     "name": "stdout",
     "output_type": "stream",
     "text": [
      "ListHead : None -> 31 -> 41 -> 59 -> 26 -> 53\n"
     ]
    }
   ],
   "source": [
    "boxes = LinkedBoxes()\n",
    "for item in [31,41,59,26,53]:\n",
    "    boxes.addBox(item)\n",
    "boxes.showboxes()"
   ]
  },
  {
   "cell_type": "markdown",
   "id": "fa3189c7",
   "metadata": {},
   "source": [
    "あかんあかん、その前に <b>リストヘッド付き循環リスト</b> を用意しないとあかんのか。"
   ]
  },
  {
   "cell_type": "code",
   "execution_count": 7,
   "id": "0b6babf1",
   "metadata": {},
   "outputs": [],
   "source": [
    "class LoopedLinkedBoxes:\n",
    "    def __init__(self):        \n",
    "        self.head = Box(None)\n",
    "        self.head.next = self.head\n",
    "    def addBox(self, value):\n",
    "        front = self.head\n",
    "        rear = self.head.next\n",
    "        while rear.value!=None:\n",
    "            front = rear\n",
    "            rear = rear.next\n",
    "        newbox = Box(value)\n",
    "        newbox.next = self.head\n",
    "        front.next = newbox\n",
    "    def showBoxes(self):\n",
    "        print('ListHead :',self.head.value, end=' -> ')\n",
    "        tmp = self.head.next\n",
    "        while tmp.value!=None:\n",
    "            if tmp.next!=self.head:\n",
    "                print(tmp.value, end=' -> ')\n",
    "            else:\n",
    "                print(tmp.value, end=' -> ')\n",
    "                print(' looped')\n",
    "            tmp = tmp.next\n"
   ]
  },
  {
   "cell_type": "code",
   "execution_count": 8,
   "id": "a5df199c",
   "metadata": {},
   "outputs": [
    {
     "name": "stdout",
     "output_type": "stream",
     "text": [
      "ListHead : None -> ListHead : None -> 31 -> 41 -> 59 -> 26 -> 53 ->  looped\n"
     ]
    }
   ],
   "source": [
    "boxes = LoopedLinkedBoxes()\n",
    "boxes.showBoxes()\n",
    "for item in [31,41,59,26,53]:\n",
    "    boxes.addBox(item)\n",
    "boxes.showBoxes()\n"
   ]
  },
  {
   "cell_type": "markdown",
   "id": "02bec5d0",
   "metadata": {},
   "source": [
    "これで、うまくいっているのやろか。取り合えず問題を確認しよう。"
   ]
  },
  {
   "cell_type": "markdown",
   "id": "1973f70d",
   "metadata": {},
   "source": [
    "### 問題3  (数列内に値が存在するかどうかの判定) \n",
    "与えられたリストヘッド付き循環リストCに含まれているノードのうち、 valueフィールドの値が、\n",
    "与えられたvに等しいものがあるかどうかを判定する手続きCONTAINS(C, v)を書いてください。 <br>\n",
    "<b>手続き</b>\n",
    "+ CONTAINS(C, v)\n",
    "\n",
    "<b>入力</b>\n",
    "+ 検索の対象となるリストヘッド付き循環リスト C\n",
    "+ 検索する値v\n",
    "\n",
    "<b>出力</b>\n",
    "+ vに等しいvalueフィールドを持つノードが見つかった場合には trueを返します。 \n",
    "+ vに等しいvalueフィールドを持つノードが見つからなかった場合には falseを返します。\n",
    "\n",
    "<b>CONTAINS(C,v)への入力&出力例1</b><br>\n",
    "<b>入力</b>\n",
    "+ C = 〈31,41,59,26,53〉\n",
    "+ v = 59\n",
    "\n",
    "<b>出力</b>\n",
    "+ <b>true</b> (Cが表す数列の中に59が含まれているため)\n",
    "\n",
    "<b>CONTAINS(C,v)への入力&出力例2</b><br>\n",
    "<b>入力</b>\n",
    "+ C = 〈31,41,59,26,53〉\n",
    "+ v = 99\n",
    "\n",
    "<b>出力</b>\n",
    "+ <b>false</b> (Cが表す数列の中に99は含まれていないため)"
   ]
  },
  {
   "cell_type": "code",
   "execution_count": 9,
   "id": "8922ddc0",
   "metadata": {},
   "outputs": [],
   "source": [
    "def contains(C,v):\n",
    "    p=C.head.next\n",
    "    while p.value!=None:\n",
    "        if p.value==v:\n",
    "            return True\n",
    "            break\n",
    "        p=p.next\n",
    "    return False"
   ]
  },
  {
   "cell_type": "code",
   "execution_count": 10,
   "id": "418f4404",
   "metadata": {},
   "outputs": [
    {
     "data": {
      "text/plain": [
       "True"
      ]
     },
     "execution_count": 10,
     "metadata": {},
     "output_type": "execute_result"
    }
   ],
   "source": [
    "contains(boxes,59)"
   ]
  },
  {
   "cell_type": "code",
   "execution_count": 11,
   "id": "0c95e532",
   "metadata": {},
   "outputs": [
    {
     "data": {
      "text/plain": [
       "False"
      ]
     },
     "execution_count": 11,
     "metadata": {},
     "output_type": "execute_result"
    }
   ],
   "source": [
    "contains(boxes,99)"
   ]
  },
  {
   "cell_type": "markdown",
   "id": "8f2eaee1",
   "metadata": {},
   "source": [
    "上手くいっているのだろうか..."
   ]
  },
  {
   "cell_type": "markdown",
   "id": "4bcca6c8",
   "metadata": {},
   "source": [
    "### 「番兵」を使ったCONTAINSの実装"
   ]
  },
  {
   "cell_type": "code",
   "execution_count": 12,
   "id": "dc585fcf",
   "metadata": {},
   "outputs": [],
   "source": [
    "def contains_with_sentinel(C,v):\n",
    "    C.head.value=v\n",
    "    p=C.head.next\n",
    "    while p.value!=v:\n",
    "        p=p.next\n",
    "    if p==C.head:\n",
    "        return False\n",
    "    else:\n",
    "        return True"
   ]
  },
  {
   "cell_type": "code",
   "execution_count": 13,
   "id": "2f151c21",
   "metadata": {},
   "outputs": [
    {
     "data": {
      "text/plain": [
       "True"
      ]
     },
     "execution_count": 13,
     "metadata": {},
     "output_type": "execute_result"
    }
   ],
   "source": [
    "contains_with_sentinel(boxes,59)"
   ]
  },
  {
   "cell_type": "code",
   "execution_count": 14,
   "id": "f45a44a1",
   "metadata": {},
   "outputs": [
    {
     "data": {
      "text/plain": [
       "False"
      ]
     },
     "execution_count": 14,
     "metadata": {},
     "output_type": "execute_result"
    }
   ],
   "source": [
    "contains_with_sentinel(boxes,99)"
   ]
  },
  {
   "cell_type": "code",
   "execution_count": null,
   "id": "8deed3ca",
   "metadata": {},
   "outputs": [],
   "source": []
  }
 ],
 "metadata": {
  "kernelspec": {
   "display_name": "Python 3",
   "language": "python",
   "name": "python3"
  },
  "language_info": {
   "codemirror_mode": {
    "name": "ipython",
    "version": 3
   },
   "file_extension": ".py",
   "mimetype": "text/x-python",
   "name": "python",
   "nbconvert_exporter": "python",
   "pygments_lexer": "ipython3",
   "version": "3.7.6"
  }
 },
 "nbformat": 4,
 "nbformat_minor": 5
}
