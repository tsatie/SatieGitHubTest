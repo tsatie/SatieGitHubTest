{
  "nbformat": 4,
  "nbformat_minor": 0,
  "metadata": {
    "colab": {
      "name": "20210524TrumpCardBaseA.ipynb",
      "provenance": [],
      "authorship_tag": "ABX9TyOarOyxhkzhnGBBmJriaCQD",
      "include_colab_link": true
    },
    "kernelspec": {
      "name": "python3",
      "display_name": "Python 3"
    },
    "language_info": {
      "name": "python"
    }
  },
  "cells": [
    {
      "cell_type": "markdown",
      "metadata": {
        "id": "view-in-github",
        "colab_type": "text"
      },
      "source": [
        "<a href=\"https://colab.research.google.com/github/tsatie/SatieGitHubTest/blob/master/20210524TrumpCardBaseA.ipynb\" target=\"_parent\"><img src=\"https://colab.research.google.com/assets/colab-badge.svg\" alt=\"Open In Colab\"/></a>"
      ]
    },
    {
      "cell_type": "markdown",
      "metadata": {
        "id": "znY-PwBcF1ew"
      },
      "source": [
        "# Pythonでトランプを実装して遊ぶ\n",
        "## できればディープラーニングとかも試したい\n",
        "### いずれにせよ先ずはトランプのデータから"
      ]
    },
    {
      "cell_type": "code",
      "metadata": {
        "id": "84wKM16rPfD4"
      },
      "source": [
        "import random\n",
        "class Card:\n",
        "  Suits=['♣','♡','♠','♢']\n",
        "  Values=['A']+list(range(2,11))+['J','Q','K']\n",
        "#  print(Values)\n",
        "  def __init__(self, suitv, value):\n",
        "    self.suitv = suitv\n",
        "    self.value = value\n",
        "  def cardpoint(self):\n",
        "    if self.value<11:\n",
        "      return self.value\n",
        "    else:\n",
        "      return 10\n",
        "  def __repr__(self):\n",
        "    if self.value==1 or self.value>10:\n",
        "      return self.Suits[self.suitv] + self.Values[self.value-1]\n",
        "    else:\n",
        "      return self.Suits[self.suitv] + str(self.Values[self.value-1])"
      ],
      "execution_count": null,
      "outputs": []
    },
    {
      "cell_type": "markdown",
      "metadata": {
        "id": "CRvVX-fxGGr5"
      },
      "source": [
        "乱数をお気楽に使うために random を用意しておく。<br>\n",
        "トランプのカードを表すクラスを作ってみる。<br>\n",
        "スートと呼ばれる4つの記号と1から１３までの値、\n",
        "１はA、11,12,13はJ,Q,Kと表示するよう準備する。<br>\n",
        "各カードはスートを表す0から3の自然数値と\n",
        "値を表す1から１３の自然数値を持つオブジェクトとし、\n",
        "単純にCard(2,7)とすれば、スペードの7だから♠7と表示するよう仕込んでおく。"
      ]
    },
    {
      "cell_type": "code",
      "metadata": {
        "colab": {
          "base_uri": "https://localhost:8080/"
        },
        "id": "D7PhsFOvUaqO",
        "outputId": "a0e44a85-f475-4c9a-df8e-004c92db9fca"
      },
      "source": [
        "deck=[]\n",
        "for sv in range(0,4):\n",
        "  for cv in range(1,14):\n",
        "    deck.append(Card(sv,cv))\n",
        "print(deck)"
      ],
      "execution_count": null,
      "outputs": [
        {
          "output_type": "stream",
          "text": [
            "[♣A, ♣2, ♣3, ♣4, ♣5, ♣6, ♣7, ♣8, ♣9, ♣10, ♣J, ♣Q, ♣K, ♡A, ♡2, ♡3, ♡4, ♡5, ♡6, ♡7, ♡8, ♡9, ♡10, ♡J, ♡Q, ♡K, ♠A, ♠2, ♠3, ♠4, ♠5, ♠6, ♠7, ♠8, ♠9, ♠10, ♠J, ♠Q, ♠K, ♢A, ♢2, ♢3, ♢4, ♢5, ♢6, ♢7, ♢8, ♢9, ♢10, ♢J, ♢Q, ♢K]\n"
          ],
          "name": "stdout"
        }
      ]
    },
    {
      "cell_type": "markdown",
      "metadata": {
        "id": "v4THV7eaHX7l"
      },
      "source": [
        "トランプの一つのセットをデッキと呼ぶ。シンプルなデッキは上で確認。\n",
        "次に次のように遊ぶ時にシャッフル済みのデッキ（ただしジョーカー抜き）を一組用意する setDeck() を用意する。"
      ]
    },
    {
      "cell_type": "code",
      "metadata": {
        "id": "jsemrvh6V_TX"
      },
      "source": [
        "def setDeck():\n",
        "  deck=[]\n",
        "  for sv in range(0,4):\n",
        "    for cv in range(1,14):\n",
        "      deck.append(Card(sv,cv))\n",
        "  for i in range(1,100):\n",
        "    deck=shuffleA(deck)\n",
        "    deck=shuffleB(deck)\n",
        "  return deck\n",
        "def shuffleA(deck):\n",
        "  a=random.randint(1,13*4-2)\n",
        "  b=random.randint(a+1,13*4)\n",
        "  return deck[a:b]+deck[0:a]+deck[b:13*4]\n",
        "def shuffleB(deck):\n",
        "  ddeck=[]\n",
        "  s=len(deck)\n",
        "  for i in range(0,s,2):\n",
        "    ddeck.append(deck[i])\n",
        "  for i in range(1,s,2):\n",
        "    ddeck.append(deck[i])\n",
        "  return ddeck"
      ],
      "execution_count": null,
      "outputs": []
    },
    {
      "cell_type": "markdown",
      "metadata": {
        "id": "5nMz-aMgH6EM"
      },
      "source": [
        "実際にデッキを用意して、5枚ずつ２人に配るってのを10回やってみる。"
      ]
    },
    {
      "cell_type": "code",
      "metadata": {
        "colab": {
          "base_uri": "https://localhost:8080/"
        },
        "id": "LisLT3DEfbyP",
        "outputId": "4ffea9ee-b89d-4c4f-b1f6-62e4e9a46546"
      },
      "source": [
        "for g in range(1,10):\n",
        "  deck=setDeck()\n",
        "  print(deck[0:5],deck[5:10],deck[10:15])"
      ],
      "execution_count": null,
      "outputs": [
        {
          "output_type": "stream",
          "text": [
            "[♡A, ♣4, ♡3, ♡10, ♣3] [♢2, ♣Q, ♣7, ♡8, ♠5] [♠10, ♠2, ♡2, ♢5, ♣J]\n",
            "[♣6, ♢6, ♠8, ♣5, ♡4] [♣A, ♡K, ♢9, ♣K, ♠4] [♢10, ♠5, ♠3, ♢Q, ♢4]\n",
            "[♡7, ♠3, ♠Q, ♠4, ♡10] [♢K, ♢9, ♡K, ♠2, ♠K] [♢Q, ♣2, ♢A, ♡5, ♡Q]\n",
            "[♢4, ♠5, ♣7, ♠10, ♡3] [♢8, ♢6, ♡Q, ♢9, ♢7] [♢A, ♣K, ♠4, ♡K, ♣J]\n",
            "[♡4, ♣Q, ♡2, ♠4, ♣2] [♣9, ♣10, ♡8, ♡3, ♣6] [♡K, ♡A, ♣K, ♠3, ♣J]\n",
            "[♠7, ♠2, ♢10, ♢6, ♣Q] [♢K, ♡2, ♡3, ♢J, ♡10] [♣6, ♠A, ♣9, ♣8, ♠Q]\n",
            "[♡4, ♠9, ♣8, ♠8, ♡8] [♡7, ♡5, ♢J, ♢5, ♢8] [♠4, ♢4, ♢7, ♣4, ♡9]\n",
            "[♠3, ♠A, ♣J, ♠J, ♠6] [♡A, ♢3, ♢4, ♢7, ♢2] [♠10, ♡Q, ♡2, ♡9, ♠Q]\n",
            "[♣7, ♠3, ♡6, ♠6, ♠K] [♢A, ♠2, ♠J, ♠A, ♢7] [♣8, ♠7, ♢Q, ♠5, ♣6]\n"
          ],
          "name": "stdout"
        }
      ]
    },
    {
      "cell_type": "markdown",
      "metadata": {
        "id": "jmMBMklNIEeF"
      },
      "source": [
        "ブラックジャックの場合は2人で勝負。\n",
        "最初に2枚ずつ配るのだけど、親の2枚のうちの一枚は伏せておく。\n",
        "以下は、デッキを用意して、上から親の晒す札、伏せた札、子の晒す2枚の札を表示している。"
      ]
    },
    {
      "cell_type": "code",
      "metadata": {
        "id": "PfjvQ4-WuB2w",
        "colab": {
          "base_uri": "https://localhost:8080/"
        },
        "outputId": "d1b6db75-7b0a-4b8b-bc69-ef05d96d3518"
      },
      "source": [
        "deck=setDeck()\n",
        "print(deck[0:1],deck[1:2],deck[2:4])"
      ],
      "execution_count": null,
      "outputs": [
        {
          "output_type": "stream",
          "text": [
            "[♣7] [♣10] [♢7, ♣3]\n"
          ],
          "name": "stdout"
        }
      ]
    },
    {
      "cell_type": "markdown",
      "metadata": {
        "id": "23TgEYZ7IccM"
      },
      "source": [
        "毎度実行する度に上の結果は変わるので何とも言えないけど、\n",
        "このあと出てくる札は順に次のようになる。\n",
        "さて子と親の選択で勝負はどうなるかという話。"
      ]
    },
    {
      "cell_type": "code",
      "metadata": {
        "colab": {
          "base_uri": "https://localhost:8080/"
        },
        "id": "E670dh7XFS0k",
        "outputId": "2969cbce-6454-4fbe-92f1-d0ceb187c313"
      },
      "source": [
        "print(deck[4:8])"
      ],
      "execution_count": null,
      "outputs": [
        {
          "output_type": "stream",
          "text": [
            "[♢Q, ♠4, ♢9, ♣9]\n"
          ],
          "name": "stdout"
        }
      ]
    },
    {
      "cell_type": "markdown",
      "metadata": {
        "id": "NzOw0B-uI0P3"
      },
      "source": [
        "たとえば<br>\n",
        "[♡3] [♢10] [♠10, ♢6]<br>\n",
        "で<br>\n",
        "[♡J, ♡K, ♣9, ♣2]<br>\n",
        "であったとする。\n",
        "親は13だけど3しか晒してない。<br>\n",
        "子は親はとりあえず上手くても13にしかなってないことを知っている。<br>\n",
        "子の手は10と６だから１６だ。<br>\n",
        "A.これで子がスタンド（カードの追加をストップし、その時点での札で勝負をすること。）すれば、親はこのままだと負けるので、ヒット（手元にあるカードに更に１枚のカードを追加すること。）する。そうすると♡Jが来て23となるから親がバースト（21点を超えてしまった場合）となり子の勝ちとなる。親はヒットしなくても負けるのでヒットするしかない。<br>\n",
        "B．子がヒットを選べば26でバーストして負け。親は何も考えなくても勝ちが舞い込むわけだ。"
      ]
    },
    {
      "cell_type": "markdown",
      "metadata": {
        "id": "Z8O6qzxOLS3A"
      },
      "source": [
        "デッキは出来上がってるので、勝負の行方は子の選択と親の選択で終わる。\n",
        "これをプログラムして自動化して子の選択と勝負の行方のデータを集めれば、\n",
        "ディープラーニングに用いる基本的なデータが得られそうだ。\n"
      ]
    },
    {
      "cell_type": "code",
      "metadata": {
        "id": "yz2pJjAKkOlp"
      },
      "source": [
        "def checkBJ(decklst):\n",
        "  if len(decklst)==2:\n",
        "    if decklst[0].value==1 or decklst[1].value==1:\n",
        "      if decklst[0].value>9 or decklst[1].value>9:\n",
        "        return True\n",
        "      else:\n",
        "        return False\n",
        "    else:\n",
        "      return False\n",
        "  else:\n",
        "    return False\n",
        "def cardPnt(decklst):\n",
        "  pnt=0\n",
        "  if checkBJ(decklst):\n",
        "    return 21\n",
        "  else:\n",
        "    for card in decklst:\n",
        "      pnt=pnt+card.cardpoint()\n",
        "    return pnt"
      ],
      "execution_count": null,
      "outputs": []
    },
    {
      "cell_type": "code",
      "metadata": {
        "id": "lYpJGYSnc393"
      },
      "source": [
        "def onePlayData():\n",
        "  deck=setDeck()\n",
        "  dealer=deck[0:2]\n",
        "  player=deck[2:4]\n",
        "  dealerpoint=cardPnt(dealer)\n",
        "  playerpoint=cardPnt(player)\n",
        "  if checkBJ(dealer) or checkBJ(player):\n",
        "    print(dealer,player,'BJ',dealerpoint,playerpoint)\n",
        "  else:\n",
        "    deckpt=4\n",
        "    dealerpoint=cardPnt(dealer)\n",
        "    playerpoint=cardPnt(player)\n",
        "    plays=''\n",
        "    while playerpoint<12:\n",
        "      plays=plays+'H'\n",
        "      addCard=deck[deckpt:deckpt+1][0]\n",
        "      deckpt=deckpt+1\n",
        "#     print(addCard,addCard.cardpoint())\n",
        "      player.append(addCard)\n",
        "      playerpoint=cardPnt(player)\n",
        "    plays=plays+'S'\n",
        "    while dealerpoint<12:\n",
        "      addCard=deck[deckpt:deckpt+1][0]\n",
        "      deckpt=deckpt+1\n",
        "      dealer.append(addCard)\n",
        "      dealerpoint=cardPnt(dealer)\n",
        "    if dealerpoint>playerpoint:\n",
        "      ans='X'\n",
        "    else:\n",
        "      if dealerpoint==playerpoint:\n",
        "        ans='-'\n",
        "      else:\n",
        "        ans='O'\n",
        "    print(dealer,player,plays,ans)\n",
        "    print(dealerpoint,playerpoint)\n",
        "    if player[0].cardpoint()==1 or player[1].cardpoint()==1:\n",
        "      dealer=deck[0:2]\n",
        "      player=deck[2:4]\n",
        "      deckpt=4\n",
        "      plays=''\n",
        "      dealerpoint=dealer[0].cardpoint()+dealer[1].cardpoint()\n",
        "      playerpoint=player[0].cardpoint()+player[1].cardpoint()+10\n",
        "      plays=plays+'+S'\n",
        "      while dealerpoint<12:\n",
        "        addCard=deck[deckpt:deckpt+1][0]\n",
        "        deckpt=deckpt+1\n",
        "        dealer.append(addCard)\n",
        "        dealerpoint=cardPnt(dealer)\n",
        "      if dealerpoint>playerpoint:\n",
        "        ans='X'\n",
        "      else:\n",
        "        if dealerpoint==playerpoint:\n",
        "          ans='-'\n",
        "        else:\n",
        "          ans='O'\n",
        "      print(dealer,player,plays,ans)\n",
        "      print(dealerpoint,playerpoint)"
      ],
      "execution_count": null,
      "outputs": []
    },
    {
      "cell_type": "code",
      "metadata": {
        "colab": {
          "base_uri": "https://localhost:8080/"
        },
        "id": "PrV7t3VTdFT6",
        "outputId": "766b10a9-745e-4777-d454-59eab3031655"
      },
      "source": [
        "for g in range(0,5):\n",
        "  onePlayData()"
      ],
      "execution_count": null,
      "outputs": [
        {
          "output_type": "stream",
          "text": [
            "[♣J, ♢8] [♢7, ♠A, ♠Q] HS -\n",
            "18 18\n",
            "[♣J, ♢8] [♢7, ♠A] +S -\n",
            "18 18\n",
            "[♢3, ♣J] [♢J, ♡A] BJ 13 21\n",
            "[♡K, ♢4] [♢7, ♣9] S O\n",
            "14 16\n",
            "[♣7, ♡J] [♢5, ♡3, ♢8] HS X\n",
            "17 16\n",
            "[♣4, ♠6, ♠2] [♡6, ♢3, ♠Q] HS O\n",
            "12 19\n"
          ],
          "name": "stdout"
        }
      ]
    },
    {
      "cell_type": "code",
      "metadata": {
        "id": "xfHdKQl4dN83"
      },
      "source": [
        ""
      ],
      "execution_count": null,
      "outputs": []
    }
  ]
}