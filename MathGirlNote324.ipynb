{
 "cells": [
  {
   "cell_type": "markdown",
   "id": "7a302cd4",
   "metadata": {},
   "source": [
    "# 数学ガールの秘密ノート第324回"
   ]
  },
  {
   "cell_type": "markdown",
   "id": "f64d77da",
   "metadata": {},
   "source": [
    "## 第324回　アルゴリズム、なかなか大変（後編）"
   ]
  },
  {
   "cell_type": "code",
   "execution_count": 45,
   "id": "7b1a6d6e",
   "metadata": {},
   "outputs": [],
   "source": [
    "class Box:\n",
    "    def __init__(self, value):\n",
    "        self.value = value\n",
    "        self.next = None\n",
    "        self.prev = None\n",
    "class CircularDoublyLinkedBoxesList:\n",
    "    def __init__(self):        \n",
    "        self.head = Box(None)\n",
    "        self.head.next = self.head\n",
    "        self.head.prev = self.head\n",
    "    def addBox(self, value):\n",
    "        front = self.head\n",
    "        rear = self.head.next\n",
    "        while rear.value!=None:\n",
    "            front = rear\n",
    "            rear = rear.next\n",
    "        newbox = Box(value)\n",
    "        newbox.next = self.head\n",
    "        self.head.prev = newbox\n",
    "        front.next = newbox\n",
    "        newbox.prev = front\n",
    "    def showBoxes(self):\n",
    "        print('ListHead :',self.head.value, end=' <--> ')\n",
    "        tmp = self.head.next\n",
    "        while tmp.value!=None:\n",
    "            if tmp.next!=self.head:\n",
    "                print(tmp.value, end=' <--> ')\n",
    "            else:\n",
    "                print(tmp.value, end=' <--> ')\n",
    "                print(' looped')\n",
    "            tmp = tmp.next\n",
    "        print()\n",
    "    def showBoxeslink(self):\n",
    "        print('ListHead :',self.head.value, end=' <--> ')\n",
    "        tmp = self.head.next\n",
    "        while tmp.value!=None:\n",
    "            if tmp.next!=self.head:\n",
    "                print(tmp.value,'(',tmp.prev.value,'<->',tmp.next.value, end=') --')\n",
    "            else:\n",
    "                print(tmp.value,'(',tmp.prev.value,'<->',tmp.next.value, end=') --')\n",
    "                print(' looped')\n",
    "            tmp = tmp.next\n"
   ]
  },
  {
   "cell_type": "code",
   "execution_count": 46,
   "id": "593c7149",
   "metadata": {},
   "outputs": [
    {
     "name": "stdout",
     "output_type": "stream",
     "text": [
      "ListHead : None <--> \n",
      "ListHead : None <--> 31 <--> 41 <--> 59 <--> 26 <--> 53 <-->  looped\n",
      "\n",
      "ListHead : None <--> 31 ( None <-> 41) --41 ( 31 <-> 59) --59 ( 41 <-> 26) --26 ( 59 <-> 53) --53 ( 26 <-> None) -- looped\n"
     ]
    }
   ],
   "source": [
    "boxes = CircularDoublyLinkedBoxesList()\n",
    "boxes.showBoxes()\n",
    "for item in [31,41,59,26,53]:\n",
    "    boxes.addBox(item)\n",
    "boxes.showBoxes()\n",
    "boxes.showBoxeslink()"
   ]
  },
  {
   "cell_type": "code",
   "execution_count": 47,
   "id": "3cc0260a",
   "metadata": {},
   "outputs": [],
   "source": [
    "def move_to_first(self,value):\n",
    "    p=self.head\n",
    "    while p.next!=None:\n",
    "        q=p.next\n",
    "        if q.value==value:\n",
    "            print(self.head.next.prev.value)\n",
    "            self.head.next.prev=q\n",
    "            p.next=q.next\n",
    "            q.next.prev=p\n",
    "            q.next=self.head.next\n",
    "            q.prev=self.head\n",
    "            self.head.next=q\n",
    "            break\n",
    "        else:\n",
    "            p=q\n",
    "#LinkedBoxes.move_to_first = move_to_first"
   ]
  },
  {
   "cell_type": "code",
   "execution_count": 48,
   "id": "7d28a57c",
   "metadata": {},
   "outputs": [
    {
     "name": "stdout",
     "output_type": "stream",
     "text": [
      "ListHead : None <--> 31 <--> 41 <--> 59 <--> 26 <--> 53 <-->  looped\n",
      "\n",
      "ListHead : None <--> 31 ( None <-> 41) --41 ( 31 <-> 59) --59 ( 41 <-> 26) --26 ( 59 <-> 53) --53 ( 26 <-> None) -- looped\n",
      "None\n",
      "ListHead : None <--> 59 <--> 31 <--> 41 <--> 26 <--> 53 <-->  looped\n",
      "\n",
      "ListHead : None <--> 59 ( None <-> 31) --31 ( 59 <-> 41) --41 ( 31 <-> 26) --26 ( 41 <-> 53) --53 ( 26 <-> None) -- looped\n"
     ]
    }
   ],
   "source": [
    "boxes.showBoxes()\n",
    "boxes.showBoxeslink()\n",
    "move_to_first(boxes,59)\n",
    "boxes.showBoxes()\n",
    "boxes.showBoxeslink()"
   ]
  },
  {
   "cell_type": "code",
   "execution_count": 49,
   "id": "774099d7",
   "metadata": {},
   "outputs": [],
   "source": [
    "def move_to_last(self,value):\n",
    "    p=self.head\n",
    "    while p.next!=None:\n",
    "        q=p.next\n",
    "        if q.value==value:\n",
    "            self.head.prev.next=q\n",
    "            p.next=q.next\n",
    "            q.next.prev=p\n",
    "            q.next=self.head\n",
    "            q.prev=self.head.prev\n",
    "            break\n",
    "        else:\n",
    "            p=q\n",
    "#LinkedBoxes.move_to_first = move_to_first"
   ]
  },
  {
   "cell_type": "code",
   "execution_count": 50,
   "id": "45184ce9",
   "metadata": {},
   "outputs": [
    {
     "name": "stdout",
     "output_type": "stream",
     "text": [
      "ListHead : None <--> 31 <--> 41 <--> 59 <--> 26 <--> 53 <-->  looped\n",
      "\n",
      "ListHead : None <--> 31 ( None <-> 41) --41 ( 31 <-> 59) --59 ( 41 <-> 26) --26 ( 59 <-> 53) --53 ( 26 <-> None) -- looped\n",
      "ListHead : None <--> 31 <--> 41 <--> 26 <--> 53 <--> 59 <-->  looped\n",
      "\n",
      "ListHead : None <--> 31 ( None <-> 41) --41 ( 31 <-> 26) --26 ( 41 <-> 53) --53 ( 26 <-> 59) --59 ( 53 <-> None) -- looped\n"
     ]
    }
   ],
   "source": [
    "boxes = CircularDoublyLinkedBoxesList()\n",
    "for item in [31,41,59,26,53]:\n",
    "    boxes.addBox(item)\n",
    "boxes.showBoxes()\n",
    "boxes.showBoxeslink()\n",
    "move_to_last(boxes,59)\n",
    "boxes.showBoxes()\n",
    "boxes.showBoxeslink()"
   ]
  },
  {
   "cell_type": "code",
   "execution_count": 51,
   "id": "192d47c5",
   "metadata": {},
   "outputs": [
    {
     "name": "stdout",
     "output_type": "stream",
     "text": [
      "ListHead : None <--> 31 <--> 41 <--> 59 <--> 26 <--> 53 <-->  looped\n",
      "\n",
      "ListHead : None <--> 31 ( None <-> 41) --41 ( 31 <-> 59) --59 ( 41 <-> 26) --26 ( 59 <-> 53) --53 ( 26 <-> None) -- looped\n",
      "ListHead : None <--> 53 <--> 41 <--> 59 <--> 26 <--> 31 <-->  looped\n",
      "\n",
      "ListHead : None <--> 53 ( None <-> 41) --41 ( 53 <-> 59) --59 ( 41 <-> 26) --26 ( 59 <-> 31) --31 ( 26 <-> None) -- looped\n"
     ]
    }
   ],
   "source": [
    "#SWAP-FIRST-AND-LAST\n",
    "def swap_first_and_last(self):\n",
    "    h=self.head\n",
    "    f=h.next\n",
    "    l=h.prev\n",
    "    f.prev=h.prev.prev\n",
    "    l.next=h.next.next\n",
    "    f.next.prev=l\n",
    "    l.prev.next=f\n",
    "    h.next=l\n",
    "    h.prev=f\n",
    "    l.prev=h\n",
    "    f.next=h\n",
    "boxes = CircularDoublyLinkedBoxesList()\n",
    "for item in [31,41,59,26,53]:\n",
    "    boxes.addBox(item)\n",
    "boxes.showBoxes()\n",
    "boxes.showBoxeslink()\n",
    "swap_first_and_last(boxes)\n",
    "boxes.showBoxes()\n",
    "boxes.showBoxeslink()"
   ]
  },
  {
   "cell_type": "code",
   "execution_count": 52,
   "id": "54e98c75",
   "metadata": {},
   "outputs": [
    {
     "name": "stdout",
     "output_type": "stream",
     "text": [
      "ListHead : None <--> 31 <--> 41 <-->  looped\n",
      "\n",
      "ListHead : None <--> 31 ( None <-> 41) --41 ( 31 <-> None) -- looped\n",
      "ListHead : None <--> 41 <--> 31 <-->  looped\n",
      "\n",
      "ListHead : None <--> 41 ( None <-> 31) --31 ( 31 <-> None) -- looped\n"
     ]
    }
   ],
   "source": [
    "boxes = CircularDoublyLinkedBoxesList()\n",
    "for item in [31,41]:\n",
    "    boxes.addBox(item)\n",
    "boxes.showBoxes()\n",
    "boxes.showBoxeslink()\n",
    "swap_first_and_last(boxes)\n",
    "boxes.showBoxes()\n",
    "boxes.showBoxeslink()"
   ]
  },
  {
   "cell_type": "code",
   "execution_count": 53,
   "id": "68d5f3aa",
   "metadata": {},
   "outputs": [
    {
     "name": "stdout",
     "output_type": "stream",
     "text": [
      "ListHead : None <--> 31 <-->  looped\n",
      "\n",
      "ListHead : None <--> 31 ( None <-> None) -- looped\n",
      "ListHead : None <--> 31 <-->  looped\n",
      "\n",
      "ListHead : None <--> 31 ( None <-> None) -- looped\n"
     ]
    }
   ],
   "source": [
    "boxes = CircularDoublyLinkedBoxesList()\n",
    "for item in [31]:\n",
    "    boxes.addBox(item)\n",
    "boxes.showBoxes()\n",
    "boxes.showBoxeslink()\n",
    "swap_first_and_last(boxes)\n",
    "boxes.showBoxes()\n",
    "boxes.showBoxeslink()"
   ]
  },
  {
   "cell_type": "code",
   "execution_count": 54,
   "id": "6197e74b",
   "metadata": {},
   "outputs": [
    {
     "name": "stdout",
     "output_type": "stream",
     "text": [
      "ListHead : None <--> \n",
      "ListHead : None <--> ListHead : None <--> \n",
      "ListHead : None <--> "
     ]
    }
   ],
   "source": [
    "boxes = CircularDoublyLinkedBoxesList()\n",
    "#for item in [31,41]:\n",
    "#    boxes.addBox(item)\n",
    "boxes.showBoxes()\n",
    "boxes.showBoxeslink()\n",
    "swap_first_and_last(boxes)\n",
    "boxes.showBoxes()\n",
    "boxes.showBoxeslink()"
   ]
  },
  {
   "cell_type": "code",
   "execution_count": 55,
   "id": "b7b44ed8",
   "metadata": {},
   "outputs": [
    {
     "name": "stdout",
     "output_type": "stream",
     "text": [
      "ListHead : None <--> \n",
      "True\n",
      "ListHead : None <--> 31 <--> 41 <-->  looped\n",
      "\n"
     ]
    },
    {
     "data": {
      "text/plain": [
       "False"
      ]
     },
     "execution_count": 55,
     "metadata": {},
     "output_type": "execute_result"
    }
   ],
   "source": [
    "#Is_Empty\n",
    "boxes = CircularDoublyLinkedBoxesList()\n",
    "def is_empty(self):\n",
    "    if self.head.next==self.head:\n",
    "        return True\n",
    "    else:\n",
    "        return False\n",
    "boxes.showBoxes()\n",
    "print(is_empty(boxes))\n",
    "boxes = CircularDoublyLinkedBoxesList()\n",
    "for item in [31,41]:\n",
    "    boxes.addBox(item)\n",
    "boxes.showBoxes()\n",
    "is_empty(boxes)\n"
   ]
  },
  {
   "cell_type": "code",
   "execution_count": 65,
   "id": "8d5f431a",
   "metadata": {},
   "outputs": [
    {
     "name": "stdout",
     "output_type": "stream",
     "text": [
      "ListHead : None <--> 31 <--> 41 <--> 59 <--> 26 <--> 53 <-->  looped\n",
      "\n",
      "5\n",
      "0\n"
     ]
    }
   ],
   "source": [
    "#LENGTH\n",
    "def length(self):\n",
    "    n=0\n",
    "    p=self.head\n",
    "    while p.next.value!=None:\n",
    "        p=p.next\n",
    "        n=n+1\n",
    "#        print(p.value,n)\n",
    "    return n\n",
    "boxes = CircularDoublyLinkedBoxesList()\n",
    "for item in [31,41,59,26,53]:\n",
    "    boxes.addBox(item)\n",
    "boxes.showBoxes()\n",
    "print(length(boxes))\n",
    "boxes = CircularDoublyLinkedBoxesList()\n",
    "print(length(boxes))"
   ]
  },
  {
   "cell_type": "code",
   "execution_count": 70,
   "id": "12b21bee",
   "metadata": {},
   "outputs": [
    {
     "name": "stdout",
     "output_type": "stream",
     "text": [
      "None ( None <-> None )\n"
     ]
    }
   ],
   "source": [
    "#NEW-NODE\n",
    "class Node:\n",
    "    def __init__(self, value):\n",
    "        self.value = value\n",
    "        self.next = self\n",
    "        self.prev = self\n",
    "    def showNode(self):\n",
    "        print(self.value,'(',self.prev.value,'<->',self.next.value,')')\n",
    "a=Node(None)\n",
    "a.showNode()"
   ]
  },
  {
   "cell_type": "code",
   "execution_count": 141,
   "id": "594e65ae",
   "metadata": {},
   "outputs": [],
   "source": [
    "#NEW-LIST-FROM-ARRAY\n",
    "class CircularDoublyLinkedNodesList:\n",
    "    def __init__(self):\n",
    "        self.head = Node(None)\n",
    "    def addNode(self, value):\n",
    "        newNode = Node(value)\n",
    "        newNode.next = self.head\n",
    "        self.head.prev.next = newNode\n",
    "        self.head.prev = newNode\n",
    "        newNode.prev = self.head.prev\n",
    "    def showNodes(self):\n",
    "        print('HEAD',end=' --> ')\n",
    "        tmp = self.head.next\n",
    "        while tmp!= self.head:\n",
    "            if tmp.next!=self.head:\n",
    "                print(tmp.value, end=' <--> ')\n",
    "            else:\n",
    "                print(tmp.value, end=' <--> ')\n",
    "                print(' looped')\n",
    "            tmp = tmp.next\n",
    "        print()\n"
   ]
  },
  {
   "cell_type": "code",
   "execution_count": 143,
   "id": "ab163bda",
   "metadata": {},
   "outputs": [
    {
     "name": "stdout",
     "output_type": "stream",
     "text": [
      "HEAD --> \n",
      "HEAD --> 3 <-->  looped\n",
      "\n",
      "HEAD --> 3 <--> 7 <-->  looped\n",
      "\n"
     ]
    }
   ],
   "source": [
    "nodes = CircularDoublyLinkedNodesList()\n",
    "nodes.showNodes()\n",
    "nodes.addNode(3)\n",
    "nodes.showNodes()\n",
    "nodes.addNode(7)\n",
    "nodes.showNodes()"
   ]
  },
  {
   "cell_type": "code",
   "execution_count": 145,
   "id": "3463d837",
   "metadata": {},
   "outputs": [
    {
     "name": "stdout",
     "output_type": "stream",
     "text": [
      "HEAD --> 31 <--> 41 <--> 59 <--> 26 <--> 53 <-->  looped\n",
      "\n"
     ]
    }
   ],
   "source": [
    "nodes = CircularDoublyLinkedNodesList()\n",
    "for item in [31,41,59,26,53]:\n",
    "    nodes.addNode(item)\n",
    "nodes.showNodes()"
   ]
  },
  {
   "cell_type": "code",
   "execution_count": null,
   "id": "dd4a1b1f",
   "metadata": {},
   "outputs": [],
   "source": []
  }
 ],
 "metadata": {
  "kernelspec": {
   "display_name": "Python 3",
   "language": "python",
   "name": "python3"
  },
  "language_info": {
   "codemirror_mode": {
    "name": "ipython",
    "version": 3
   },
   "file_extension": ".py",
   "mimetype": "text/x-python",
   "name": "python",
   "nbconvert_exporter": "python",
   "pygments_lexer": "ipython3",
   "version": "3.7.6"
  }
 },
 "nbformat": 4,
 "nbformat_minor": 5
}
