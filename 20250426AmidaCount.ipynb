{
 "cells": [
  {
   "cell_type": "markdown",
   "id": "a4a666e8-d30a-4883-ab87-cd6e1fd84291",
   "metadata": {},
   "source": [
    "# 標準的な「あみだくじ」でどの筋を選ぶとどの筋に至るかを数える\n",
    "### Python で組んだものを Claude にお願いして Julia に書き換えて貰った\n",
    "数え方の要領は, 「あみだくじ」は「行きつ戻りつ」と1:1に対応する（らしい）事を利用している。\n",
    "\n",
    "例えば, 筋は5本で横線が4本とすれば, $5+4\\times2−1$ 回の移動で, 筋から隣の筋への移動をして, 左端から右端まで動くことを「行きつ戻りつ」と表現しよう。\n",
    "筋を左から 0,1,2,3,4 とでもすれば, 例えば 0→1→0→1→0→1→0→1→0→1→2→3→4 のように5つの筋を「行きつ戻りつ」して最終的に到達するということ。\n",
    "確かに「戻る」動き(この例では1→0しかない)が4回あることが確認できる。そしてこの「戻る」動きがあみだくじの置換に対応するというアイデアなのだ。\n",
    "\n",
    "プログラムの概要は以下の通り。筋の数は tn 横棒の数は an としている。\n",
    "+ 「行きつ戻りつ」を探るために2進数を総当たりして, 行きつ戻りつで辿り着くものを拾う\n",
    "  - 先ず2進数を順に当たる\n",
    "  - 文字列化して 0,1 の配列に直し 各項を2倍して1引くことで, -1,1の配列にする\n",
    "  - その上で配列の先頭からの部分和が 0以上で tn 以下であるもので, 全体和が tn となる（つまり最後では端に到達する）ものを拾う\n",
    "+ 拾えたらその「行きつ戻りつ」でどの順に筋を経由するかのリストを作成してそこから「あみだくじ」の置換を拾う\n",
    "  - 「行きつ戻りつ」の行程で「戻る」ときにその2筋を交換していることになる\n",
    "  - 筋の経由リストから「戻る」部分をピックアップして, 筋の置換を列挙した配列を作る\n",
    "  - できた置換の配列で順に置換することで, 選んだ筋と結果到達する筋のリストを作成する\n",
    "+ 「選んだ筋」と「到達する筋」の2次元配列に該当するものを足していく\n",
    "+ 最終的に分布が得られる。"
   ]
  },
  {
   "cell_type": "code",
   "execution_count": 4,
   "id": "1f2e517d-6dc2-4a32-bc21-039e272c89c4",
   "metadata": {},
   "outputs": [
    {
     "data": {
      "text/plain": [
       "calculate_amidakuji_distribution (generic function with 2 methods)"
      ]
     },
     "execution_count": 4,
     "metadata": {},
     "output_type": "execute_result"
    }
   ],
   "source": [
    "function calculate_amidakuji_distribution(tn,an)\n",
    "#    tn = 5#8\n",
    "#    an = 4#12\n",
    "    ln = 2*an+tn\n",
    "    cnt = 0\n",
    "    \n",
    "    println(\"--start---------------------------------------\")\n",
    "    println(\"$tn $an\")\n",
    "    \n",
    "    stat = zeros(Int, tn, tn)\n",
    "    \n",
    "    for n in 0:(2^ln-1)\n",
    "        # Convert n to binary representation of length ln\n",
    "        binary = digits(n, base=2, pad=ln)\n",
    "        reverse!(binary)  # Julia's digits returns in reverse order\n",
    "        \n",
    "        # Convert 0,1 to -1,1\n",
    "        lst = [2*x-1 for x in binary]\n",
    "        \n",
    "        chk = 0\n",
    "        for j in 1:ln\n",
    "            running_sum = sum(lst[1:j-1])\n",
    "            if running_sum < 0 || running_sum > tn-1\n",
    "                chk = 1\n",
    "                break\n",
    "            end\n",
    "        end\n",
    "        \n",
    "        if chk == 0\n",
    "            if sum(lst) == tn\n",
    "                plst = []\n",
    "                for j in 1:ln\n",
    "                    push!(plst, sum(lst[1:j-1]))\n",
    "                end\n",
    "                \n",
    "                exclst = []\n",
    "                for j in 1:(ln-1)\n",
    "                    if plst[j] > plst[j+1]\n",
    "                        push!(exclst, [plst[j+1], plst[j]])\n",
    "                    end\n",
    "                end\n",
    "                \n",
    "                orgl = collect(0:(tn-1))\n",
    "                for excp in exclst\n",
    "                    orgl[excp[1]+1], orgl[excp[2]+1] = orgl[excp[2]+1], orgl[excp[1]+1]\n",
    "                end\n",
    "                \n",
    "                for i in 1:tn\n",
    "                    stat[i, orgl[i]+1] += 1\n",
    "                end\n",
    "                \n",
    "                cnt += 1\n",
    "            end\n",
    "        end\n",
    "    end\n",
    "    \n",
    "    println(\"--Ans-------------------------------------------\")\n",
    "    println(cnt)\n",
    "    for ii in 1:tn\n",
    "        println(stat[ii, :])\n",
    "    end\n",
    "    println(\"--end-------------------------------------------\")\n",
    "end"
   ]
  },
  {
   "cell_type": "code",
   "execution_count": 12,
   "id": "cf93fff3-1e3f-4c0c-9d3c-ab586bf62136",
   "metadata": {},
   "outputs": [
    {
     "name": "stdout",
     "output_type": "stream",
     "text": [
      "--start---------------------------------------\n",
      "8 10\n",
      "--Ans-------------------------------------------\n",
      "1282735\n",
      "[764877, 279584, 133631, 64604, 27257, 9481, 2693, 608]\n",
      "[279584, 478114, 262307, 147260, 72988, 29809, 9980, 2693]\n",
      "[133631, 262307, 365985, 252938, 153368, 75216, 29809, 9481]\n",
      "[64604, 147260, 252938, 314118, 250202, 153368, 72988, 27257]\n",
      "[27257, 72988, 153368, 250202, 314118, 252938, 147260, 64604]\n",
      "[9481, 29809, 75216, 153368, 252938, 365985, 262307, 133631]\n",
      "[2693, 9980, 29809, 72988, 147260, 262307, 478114, 279584]\n",
      "[608, 2693, 9481, 27257, 64604, 133631, 279584, 764877]\n",
      "--end-------------------------------------------\n"
     ]
    }
   ],
   "source": [
    "calculate_amidakuji_distribution(8,10)"
   ]
  },
  {
   "cell_type": "code",
   "execution_count": 14,
   "id": "c2982da7-3d3b-4aac-b9ad-634cffe1a63c",
   "metadata": {},
   "outputs": [
    {
     "name": "stdout",
     "output_type": "stream",
     "text": [
      "--start---------------------------------------\n",
      "8 12\n",
      "--Ans-------------------------------------------\n",
      "16131656\n",
      "[9188341, 3508269, 1778834, 939616, 451633, 184261, 63000, 17702]\n",
      "[3508269, 5568480, 3238722, 1961381, 1086206, 507952, 197646, 63000]\n",
      "[1778834, 3238722, 4168532, 3074842, 2048283, 1130230, 507952, 184261]\n",
      "[939616, 1961381, 3074842, 3550353, 3019342, 2048283, 1086206, 451633]\n",
      "[451633, 1086206, 2048283, 3019342, 3550353, 3074842, 1961381, 939616]\n",
      "[184261, 507952, 1130230, 2048283, 3074842, 4168532, 3238722, 1778834]\n",
      "[63000, 197646, 507952, 1086206, 1961381, 3238722, 5568480, 3508269]\n",
      "[17702, 63000, 184261, 451633, 939616, 1778834, 3508269, 9188341]\n",
      "--end-------------------------------------------\n"
     ]
    }
   ],
   "source": [
    "calculate_amidakuji_distribution(8,12)"
   ]
  },
  {
   "cell_type": "code",
   "execution_count": null,
   "id": "0262ee7a-f9d7-491c-bce6-b7cf222f7f68",
   "metadata": {},
   "outputs": [],
   "source": []
  }
 ],
 "metadata": {
  "kernelspec": {
   "display_name": "Julia 12 Threads 1.10.0",
   "language": "julia",
   "name": "julia-12-threads-1.10"
  },
  "language_info": {
   "file_extension": ".jl",
   "mimetype": "application/julia",
   "name": "julia",
   "version": "1.10.5"
  }
 },
 "nbformat": 4,
 "nbformat_minor": 5
}
